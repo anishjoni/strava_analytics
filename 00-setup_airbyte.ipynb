{
 "cells": [
  {
   "cell_type": "code",
   "execution_count": 34,
   "id": "023bcf24",
   "metadata": {},
   "outputs": [
    {
     "name": "stdout",
     "output_type": "stream",
     "text": [
      "513    source-strava\n",
      "dtype: object\n"
     ]
    },
    {
     "data": {
      "text/plain": [
       "27     destination-mysql\n",
       "349         source-mysql\n",
       "dtype: object"
      ]
     },
     "execution_count": 34,
     "metadata": {},
     "output_type": "execute_result"
    }
   ],
   "source": [
    "# Import libraries\n",
    "import airbyte as ab\n",
    "import pandas as pd\n",
    "\n",
    "# Find connectors for destination as mysql\n",
    "all_connectors = pd.Series(ab.get_available_connectors())\n",
    "print(all_connectors[all_connectors.str.contains('strava')])\n",
    "\n",
    "# Find connectors for destination as mysql\n",
    "all_connectors[all_connectors.str.contains('mysql')]"
   ]
  },
  {
   "cell_type": "code",
   "execution_count": 39,
   "id": "fefc84e0",
   "metadata": {},
   "outputs": [
    {
     "name": "stdout",
     "output_type": "stream",
     "text": [
      "Writing `source-strava` logs to file: C:\\Users\\random\\AppData\\Local\\Temp\\airbyte\\logs\\source-strava\\source-strava-log-JSMKGVTDP.log\n"
     ]
    }
   ],
   "source": [
    "# Create and configure source\n",
    "\n",
    "source = ab.get_source(\n",
    "    \"source-strava\",\n",
    "    install_if_missing=True,\n",
    "    config={\n",
    "        \"client_id\": \"156884\",\n",
    "        \"client_secret\": \"aa7edd9120719fac09c376790576d8cae33993b5\",\n",
    "        \"refresh_token\": \"e59e9778a9c97666f3b722d14bffe13c7017f5f4\",\n",
    "        \"start_date\": \"2023-01-01T00:00:00Z\",\n",
    "        \"end_date\": \"2023-01-31T23:59:59Z\",\n",
    "        \"athlete_id\": 6996379,\n",
    "        \"activity_type\": \"run\",\n",
    "        \"include_all_activities\": True,\n",
    "        \"include_all_segments\": True,\n",
    "        \"include_all_routes\": True,\n",
    "        \"include_all_zones\": True,\n",
    "        \"include_all_gear\": True,\n",
    "        \"include_all_athletes\": True\n",
    "    }\n",
    "\n",
    ")"
   ]
  },
  {
   "cell_type": "code",
   "execution_count": 41,
   "id": "e895bbae",
   "metadata": {},
   "outputs": [
    {
     "name": "stderr",
     "output_type": "stream",
     "text": [
      "o:\\Programs\\Python\\Python312\\Lib\\contextlib.py:144: UserWarning: Failed to remove temporary file: 'C:\\Users\\random\\AppData\\Local\\Temp\\tmp5_tdxni7.json'. [WinError 5] Access is denied: 'C:\\\\Users\\\\random\\\\AppData\\\\Local\\\\Temp\\\\tmp5_tdxni7.json'\n",
      "  next(self.gen)\n"
     ]
    },
    {
     "data": {
      "text/plain": [
       "['athlete_stats', 'activities']"
      ]
     },
     "execution_count": 41,
     "metadata": {},
     "output_type": "execute_result"
    }
   ],
   "source": [
    "source.get_available_streams()"
   ]
  },
  {
   "cell_type": "code",
   "execution_count": null,
   "id": "a6260f79",
   "metadata": {},
   "outputs": [],
   "source": [
    "# Select streams to sync\n",
    "source.set_streams(\"athelete_stats\", \"activities\")\n",
    "\n"
   ]
  }
 ],
 "metadata": {
  "kernelspec": {
   "display_name": "Python 3",
   "language": "python",
   "name": "python3"
  },
  "language_info": {
   "codemirror_mode": {
    "name": "ipython",
    "version": 3
   },
   "file_extension": ".py",
   "mimetype": "text/x-python",
   "name": "python",
   "nbconvert_exporter": "python",
   "pygments_lexer": "ipython3",
   "version": "3.12.10"
  }
 },
 "nbformat": 4,
 "nbformat_minor": 5
}
