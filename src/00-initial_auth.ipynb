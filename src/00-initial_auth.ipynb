{
 "cells": [
  {
   "cell_type": "code",
   "execution_count": 16,
   "id": "d4cbfbdc",
   "metadata": {},
   "outputs": [],
   "source": [
    "# Importing libraries\n",
    "import requests\n",
    "import json\n",
    "import polars as pl\n",
    "from datetime import datetime\n",
    "\n",
    "code = '5deccc027c3acd294d32ef921dd4020a1251a56d' #http://strava.com/oauth/authorize?client_id=156884&response_type=code&redirect_uri=http://localhost/exchange_token&approval_prompt=force&scope=read,activity:read_all\n",
    "access_token = '030fa1a2dd680a97d85a5fe06fd2d121bcfd751f'\n",
    "client_id = '156884'\n",
    "client_secret = 'e10ddfed77d524fdf82e22fd682e4312b8d246f1'"
   ]
  },
  {
   "cell_type": "code",
   "execution_count": 7,
   "id": "d45721fd",
   "metadata": {},
   "outputs": [],
   "source": [
    "from utils import save_tokens, load_tokens"
   ]
  },
  {
   "cell_type": "code",
   "execution_count": 17,
   "id": "9a2febd8",
   "metadata": {},
   "outputs": [
    {
     "name": "stdout",
     "output_type": "stream",
     "text": [
      "{'token_type': 'Bearer', 'expires_at': 1747332069, 'expires_in': 21600, 'refresh_token': '51598a5b8279f944981666685b9565424d30ab79', 'access_token': 'f2e7bebb6737b722f0128d0349c6819bcafd3e41', 'athlete': {'id': 6996379, 'username': 'anish_joni', 'resource_state': 2, 'firstname': 'Anish', 'lastname': 'Joni', 'bio': '', 'city': 'Toronto', 'state': 'ON', 'country': 'India', 'sex': 'M', 'premium': False, 'summit': False, 'created_at': '2014-11-05T01:05:56Z', 'updated_at': '2025-04-25T13:09:53Z', 'badge_type_id': 0, 'weight': 79.4, 'profile_medium': 'https://dgalywyr863hv.cloudfront.net/pictures/athletes/6996379/2109948/2/medium.jpg', 'profile': 'https://dgalywyr863hv.cloudfront.net/pictures/athletes/6996379/2109948/2/large.jpg', 'friend': None, 'follower': None}}\n"
     ]
    }
   ],
   "source": [
    "# Exchange code for a token\n",
    "initial_auth_url = 'https://www.strava.com/api/v3/oauth/token'\n",
    "\n",
    "payload = {'client_id': client_id, \n",
    "           'client_secret': client_secret,\n",
    "           'code': code,\n",
    "           'grant_type': 'authorization_code'}\n",
    "\n",
    "headers = {'Authorization' : f'Bearer {access_token}'}\n",
    "\n",
    "r = requests.post(url = initial_auth_url, params=payload)\n",
    "r = r.json()\n",
    "print(r)\n"
   ]
  },
  {
   "cell_type": "code",
   "execution_count": 18,
   "id": "01957463",
   "metadata": {},
   "outputs": [],
   "source": [
    "# Update expired_at and refresh_token after getting new code\n",
    "expires_at = r['expires_at']\n",
    "refresh_token = r['refresh_token']\n",
    "access_token = r['access_token']"
   ]
  },
  {
   "cell_type": "code",
   "execution_count": 19,
   "id": "e9167c02",
   "metadata": {},
   "outputs": [],
   "source": [
    "# First time auth details\n",
    "tokens = {\n",
    "    'access_token': f'{access_token}',\n",
    "    'expires_at': f'{expires_at}',\n",
    "    'client_id': f'{client_id}',\n",
    "    'client_secret': f'{client_secret}',\n",
    "    'refresh_token': f'{refresh_token}'\n",
    "}"
   ]
  },
  {
   "cell_type": "code",
   "execution_count": 20,
   "id": "958bbd56",
   "metadata": {},
   "outputs": [
    {
     "data": {
      "text/plain": [
       "{'access_token': 'f2e7bebb6737b722f0128d0349c6819bcafd3e41',\n",
       " 'expires_at': '1747332069',\n",
       " 'client_id': '156884',\n",
       " 'client_secret': 'e10ddfed77d524fdf82e22fd682e4312b8d246f1',\n",
       " 'refresh_token': '51598a5b8279f944981666685b9565424d30ab79'}"
      ]
     },
     "execution_count": 20,
     "metadata": {},
     "output_type": "execute_result"
    }
   ],
   "source": [
    "# Persist initial token\n",
    "save_tokens(tokens)\n",
    "\n",
    "# Load token from persisted JSON\n",
    "load_tokens()"
   ]
  }
 ],
 "metadata": {
  "kernelspec": {
   "display_name": "strava_env",
   "language": "python",
   "name": "python3"
  },
  "language_info": {
   "codemirror_mode": {
    "name": "ipython",
    "version": 3
   },
   "file_extension": ".py",
   "mimetype": "text/x-python",
   "name": "python",
   "nbconvert_exporter": "python",
   "pygments_lexer": "ipython3",
   "version": "3.12.10"
  }
 },
 "nbformat": 4,
 "nbformat_minor": 5
}
