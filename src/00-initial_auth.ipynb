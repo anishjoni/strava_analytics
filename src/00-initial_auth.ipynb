{
 "cells": [
  {
   "cell_type": "code",
   "execution_count": 16,
   "id": "d4cbfbdc",
   "metadata": {},
   "outputs": [],
   "source": [
    "# Importing libraries\n",
    "import requests\n",
    "import json\n",
    "import polars as pl\n",
    "from datetime import datetime\n",
    "\n",
    "code = '7aad64c516027f9c60df53cc255404fe479aff99' #http://strava.com/oauth/authorize?client_id=156884&response_type=code&redirect_uri=http://localhost/exchange_token&approval_prompt=force&scope=read,activity:read_all\n",
    "access_token = '030fa1a2dd680a97d85a5fe06fd2d121bcfd751f'\n",
    "client_id = '156884'\n",
    "client_secret = 'e10ddfed77d524fdf82e22fd682e4312b8d246f1'"
   ]
  },
  {
   "cell_type": "code",
   "execution_count": 10,
   "id": "d45721fd",
   "metadata": {},
   "outputs": [],
   "source": [
    "from utils import save_tokens, load_tokens"
   ]
  },
  {
   "cell_type": "code",
   "execution_count": 21,
   "id": "9a2febd8",
   "metadata": {},
   "outputs": [
    {
     "name": "stdout",
     "output_type": "stream",
     "text": [
      "{'message': 'Bad Request', 'errors': [{'resource': 'AuthorizationCode', 'field': 'code', 'code': 'invalid'}]}\n"
     ]
    }
   ],
   "source": [
    "# Exchange code for a token\n",
    "initial_auth_url = 'https://www.strava.com/api/v3/oauth/token'\n",
    "\n",
    "payload = {'client_id': client_id, \n",
    "           'client_secret': client_secret,\n",
    "           'code': code,\n",
    "           'grant_type': 'authorization_code'}\n",
    "\n",
    "headers = {'Authorization' : f'Bearer {access_token}'}\n",
    "\n",
    "r = requests.post(url = initial_auth_url, params=payload)\n",
    "r = r.json()\n",
    "print(r)\n"
   ]
  },
  {
   "cell_type": "code",
   "execution_count": 18,
   "id": "01957463",
   "metadata": {},
   "outputs": [],
   "source": [
    "# Update expired_at and refresh_token after getting new code\n",
    "expires_at = r['expires_at']\n",
    "refresh_token = r['refresh_token']\n",
    "access_token = r['access_token']"
   ]
  },
  {
   "cell_type": "code",
   "execution_count": 19,
   "id": "e9167c02",
   "metadata": {},
   "outputs": [],
   "source": [
    "# First time auth details\n",
    "tokens = {\n",
    "    'access_token': f'{access_token}',\n",
    "    'expires_at': f'{expires_at}',\n",
    "    'client_id': f'{client_id}',\n",
    "    'client_secret': f'{client_secret}',\n",
    "    'refresh_token': f'{refresh_token}'\n",
    "}"
   ]
  },
  {
   "cell_type": "code",
   "execution_count": 22,
   "id": "958bbd56",
   "metadata": {},
   "outputs": [
    {
     "data": {
      "text/plain": [
       "{'access_token': '236413eae8a8f57829654174e6bf583c9d45cf60',\n",
       " 'expires_at': '1747810423',\n",
       " 'client_id': '156884',\n",
       " 'client_secret': 'e10ddfed77d524fdf82e22fd682e4312b8d246f1',\n",
       " 'refresh_token': '51598a5b8279f944981666685b9565424d30ab79'}"
      ]
     },
     "execution_count": 22,
     "metadata": {},
     "output_type": "execute_result"
    }
   ],
   "source": [
    "# Persist initial token\n",
    "save_tokens(tokens)\n",
    "\n",
    "# Load token from persisted JSON\n",
    "load_tokens()"
   ]
  }
 ],
 "metadata": {
  "kernelspec": {
   "display_name": "strava_env",
   "language": "python",
   "name": "python3"
  },
  "language_info": {
   "codemirror_mode": {
    "name": "ipython",
    "version": 3
   },
   "file_extension": ".py",
   "mimetype": "text/x-python",
   "name": "python",
   "nbconvert_exporter": "python",
   "pygments_lexer": "ipython3",
   "version": "3.12.10"
  }
 },
 "nbformat": 4,
 "nbformat_minor": 5
}
