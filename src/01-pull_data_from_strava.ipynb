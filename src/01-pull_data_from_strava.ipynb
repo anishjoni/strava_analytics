{
 "cells": [
  {
   "cell_type": "code",
   "execution_count": null,
   "id": "a99303ed",
   "metadata": {},
   "outputs": [],
   "source": [
    "# Importing libraries\n",
    "import requests\n",
    "import json\n",
    "import polars as pl\n",
    "from datetime import datetime\n",
    "from utils import load_tokens, refresh_token_if_needed\n",
    "import plotnine\n",
    "from dataprep.eda import create_report"
   ]
  },
  {
   "cell_type": "code",
   "execution_count": 3,
   "id": "203c9993",
   "metadata": {},
   "outputs": [],
   "source": [
    "# Load token from persisted JSON\n",
    "token = load_tokens()"
   ]
  },
  {
   "cell_type": "code",
   "execution_count": 4,
   "id": "6ac63a6d",
   "metadata": {},
   "outputs": [
    {
     "name": "stdout",
     "output_type": "stream",
     "text": [
      "No token refresh needed.\n"
     ]
    }
   ],
   "source": [
    "# Initial authentication\n",
    "access_token = refresh_token_if_needed(token['client_id'], ['client_secret'])\n",
    "\n",
    "# Request activities data from Strava API\n",
    "activities_url = 'https://www.strava.com/api/v3/athlete/activities'\n",
    "headers = {'Authorization': f'Bearer {access_token}'}\n",
    "\n",
    "# Loop through pages to get all activities\n",
    "activities = []\n",
    "\n",
    "page = 1\n",
    "while True:\n",
    "    response = requests.get(url     =   activities_url,\n",
    "                            headers =   headers, \n",
    "                            params  =   {'per_page' : 100, 'page' : page}).json()\n",
    "    \n",
    "    if not response:\n",
    "        break\n",
    "    activities.extend(response)\n",
    "    page += 1\n",
    "\n",
    "activities = pl.DataFrame(activities)"
   ]
  },
  {
   "cell_type": "code",
   "execution_count": 8,
   "id": "075e6ae2",
   "metadata": {},
   "outputs": [],
   "source": [
    "activities_curated = activities[\"id\", \"name\", \n",
    "                   \"distance\", \n",
    "                   \"moving_time\", \n",
    "                   \"total_elevation_gain\", \n",
    "                   \"sport_type\",\"start_date\", \"gear_id\", \"start_latlng\", \"end_latlng\",\n",
    "                   \"average_speed\", \"max_speed\", \"pr_count\"]"
   ]
  },
  {
   "cell_type": "code",
   "execution_count": 11,
   "id": "b77546b6",
   "metadata": {},
   "outputs": [
    {
     "data": {
      "text/html": [
       "<div><style>\n",
       ".dataframe > thead > tr,\n",
       ".dataframe > tbody > tr {\n",
       "  text-align: right;\n",
       "  white-space: pre-wrap;\n",
       "}\n",
       "</style>\n",
       "<small>shape: (85, 13)</small><table border=\"1\" class=\"dataframe\"><thead><tr><th>id</th><th>name</th><th>distance</th><th>moving_time</th><th>total_elevation_gain</th><th>sport_type</th><th>start_date</th><th>gear_id</th><th>start_latlng</th><th>end_latlng</th><th>average_speed</th><th>max_speed</th><th>pr_count</th></tr><tr><td>i64</td><td>str</td><td>f64</td><td>i64</td><td>f64</td><td>str</td><td>str</td><td>str</td><td>list[f64]</td><td>list[f64]</td><td>f64</td><td>f64</td><td>i64</td></tr></thead><tbody><tr><td>14461863801</td><td>&quot;Quick 10!&quot;</td><td>10208.0</td><td>2072</td><td>11.6</td><td>&quot;Ride&quot;</td><td>&quot;2025-05-13T00:05:20Z&quot;</td><td>&quot;b15965201&quot;</td><td>[43.185688, -79.238113]</td><td>[43.185237, -79.239943]</td><td>4.927</td><td>10.12</td><td>4</td></tr><tr><td>14415009088</td><td>&quot;20K along the canal 🏞️&quot;</td><td>20550.0</td><td>4511</td><td>51.1</td><td>&quot;Ride&quot;</td><td>&quot;2025-05-08T10:56:40Z&quot;</td><td>&quot;b15965201&quot;</td><td>[43.186056, -79.237056]</td><td>[43.185262, -79.239991]</td><td>4.556</td><td>9.96</td><td>1</td></tr><tr><td>14384045503</td><td>&quot;Morning Ride&quot;</td><td>15950.8</td><td>4284</td><td>50.7</td><td>&quot;Ride&quot;</td><td>&quot;2025-05-05T10:38:13Z&quot;</td><td>&quot;b15965201&quot;</td><td>[43.185237, -79.240003]</td><td>[43.185216, -79.239966]</td><td>3.723</td><td>9.02</td><td>3</td></tr><tr><td>14342156475</td><td>&quot;Port Dalhousie sunrise&quot;</td><td>9518.0</td><td>2569</td><td>22.8</td><td>&quot;Ride&quot;</td><td>&quot;2025-05-01T09:58:17Z&quot;</td><td>&quot;b15965201&quot;</td><td>[43.185268, -79.239972]</td><td>[43.185299, -79.239944]</td><td>3.705</td><td>9.18</td><td>1</td></tr><tr><td>14336914052</td><td>&quot;First ride in Nicasio +&quot;</td><td>10092.8</td><td>2297</td><td>12.2</td><td>&quot;Ride&quot;</td><td>&quot;2025-04-30T20:18:07Z&quot;</td><td>&quot;b15965201&quot;</td><td>[43.186227, -79.236506]</td><td>[43.185265, -79.239967]</td><td>4.394</td><td>9.24</td><td>0</td></tr><tr><td>&hellip;</td><td>&hellip;</td><td>&hellip;</td><td>&hellip;</td><td>&hellip;</td><td>&hellip;</td><td>&hellip;</td><td>&hellip;</td><td>&hellip;</td><td>&hellip;</td><td>&hellip;</td><td>&hellip;</td><td>&hellip;</td></tr><tr><td>1369817866</td><td>&quot;It&#x27;s cold&quot;</td><td>527.0</td><td>174</td><td>0.0</td><td>&quot;Ride&quot;</td><td>&quot;2018-01-22T16:23:43Z&quot;</td><td>null</td><td>[47.676095, -122.125355]</td><td>[47.675937, -122.125343]</td><td>3.029</td><td>6.3</td><td>0</td></tr><tr><td>425416333</td><td>&quot;Afternoon Ride&quot;</td><td>3362.4</td><td>890</td><td>10.3</td><td>&quot;Ride&quot;</td><td>&quot;2015-10-18T21:29:41Z&quot;</td><td>null</td><td>[28.069222, -82.410976]</td><td>[28.069146, -82.376819]</td><td>3.778</td><td>6.7</td><td>0</td></tr><tr><td>376712576</td><td>&quot;Evening Ride&quot;</td><td>4016.6</td><td>1550</td><td>0.0</td><td>&quot;Ride&quot;</td><td>&quot;2015-08-20T22:01:43Z&quot;</td><td>null</td><td>[28.055122, -82.413474]</td><td>[28.054901, -82.449535]</td><td>2.591</td><td>9.7</td><td>0</td></tr><tr><td>369872656</td><td>&quot;Evening Ride&quot;</td><td>3470.9</td><td>1180</td><td>11.1</td><td>&quot;Ride&quot;</td><td>&quot;2015-08-15T23:05:53Z&quot;</td><td>null</td><td>[28.068955, -82.405798]</td><td>[28.056996, -82.415831]</td><td>2.941</td><td>6.5</td><td>0</td></tr><tr><td>360758368</td><td>&quot;Night Ride&quot;</td><td>9521.6</td><td>2697</td><td>0.0</td><td>&quot;Ride&quot;</td><td>&quot;2015-08-04T02:49:31Z&quot;</td><td>null</td><td>[28.080822, -82.411176]</td><td>[28.080638, -82.41106]</td><td>3.53</td><td>9.6</td><td>0</td></tr></tbody></table></div>"
      ],
      "text/plain": [
       "shape: (85, 13)\n",
       "┌────────────┬───────────┬──────────┬───────────┬───┬───────────┬───────────┬───────────┬──────────┐\n",
       "│ id         ┆ name      ┆ distance ┆ moving_ti ┆ … ┆ end_latln ┆ average_s ┆ max_speed ┆ pr_count │\n",
       "│ ---        ┆ ---       ┆ ---      ┆ me        ┆   ┆ g         ┆ peed      ┆ ---       ┆ ---      │\n",
       "│ i64        ┆ str       ┆ f64      ┆ ---       ┆   ┆ ---       ┆ ---       ┆ f64       ┆ i64      │\n",
       "│            ┆           ┆          ┆ i64       ┆   ┆ list[f64] ┆ f64       ┆           ┆          │\n",
       "╞════════════╪═══════════╪══════════╪═══════════╪═══╪═══════════╪═══════════╪═══════════╪══════════╡\n",
       "│ 1446186380 ┆ Quick 10! ┆ 10208.0  ┆ 2072      ┆ … ┆ [43.18523 ┆ 4.927     ┆ 10.12     ┆ 4        │\n",
       "│ 1          ┆           ┆          ┆           ┆   ┆ 7, -79.23 ┆           ┆           ┆          │\n",
       "│            ┆           ┆          ┆           ┆   ┆ 9943]     ┆           ┆           ┆          │\n",
       "│ 1441500908 ┆ 20K along ┆ 20550.0  ┆ 4511      ┆ … ┆ [43.18526 ┆ 4.556     ┆ 9.96      ┆ 1        │\n",
       "│ 8          ┆ the canal ┆          ┆           ┆   ┆ 2, -79.23 ┆           ┆           ┆          │\n",
       "│            ┆ 🏞️        ┆          ┆           ┆   ┆ 9991]     ┆           ┆           ┆          │\n",
       "│ 1438404550 ┆ Morning   ┆ 15950.8  ┆ 4284      ┆ … ┆ [43.18521 ┆ 3.723     ┆ 9.02      ┆ 3        │\n",
       "│ 3          ┆ Ride      ┆          ┆           ┆   ┆ 6, -79.23 ┆           ┆           ┆          │\n",
       "│            ┆           ┆          ┆           ┆   ┆ 9966]     ┆           ┆           ┆          │\n",
       "│ 1434215647 ┆ Port      ┆ 9518.0   ┆ 2569      ┆ … ┆ [43.18529 ┆ 3.705     ┆ 9.18      ┆ 1        │\n",
       "│ 5          ┆ Dalhousie ┆          ┆           ┆   ┆ 9, -79.23 ┆           ┆           ┆          │\n",
       "│            ┆ sunrise   ┆          ┆           ┆   ┆ 9944]     ┆           ┆           ┆          │\n",
       "│ 1433691405 ┆ First     ┆ 10092.8  ┆ 2297      ┆ … ┆ [43.18526 ┆ 4.394     ┆ 9.24      ┆ 0        │\n",
       "│ 2          ┆ ride in   ┆          ┆           ┆   ┆ 5, -79.23 ┆           ┆           ┆          │\n",
       "│            ┆ Nicasio + ┆          ┆           ┆   ┆ 9967]     ┆           ┆           ┆          │\n",
       "│ …          ┆ …         ┆ …        ┆ …         ┆ … ┆ …         ┆ …         ┆ …         ┆ …        │\n",
       "│ 1369817866 ┆ It's cold ┆ 527.0    ┆ 174       ┆ … ┆ [47.67593 ┆ 3.029     ┆ 6.3       ┆ 0        │\n",
       "│            ┆           ┆          ┆           ┆   ┆ 7, -122.1 ┆           ┆           ┆          │\n",
       "│            ┆           ┆          ┆           ┆   ┆ 25343]    ┆           ┆           ┆          │\n",
       "│ 425416333  ┆ Afternoon ┆ 3362.4   ┆ 890       ┆ … ┆ [28.06914 ┆ 3.778     ┆ 6.7       ┆ 0        │\n",
       "│            ┆ Ride      ┆          ┆           ┆   ┆ 6, -82.37 ┆           ┆           ┆          │\n",
       "│            ┆           ┆          ┆           ┆   ┆ 6819]     ┆           ┆           ┆          │\n",
       "│ 376712576  ┆ Evening   ┆ 4016.6   ┆ 1550      ┆ … ┆ [28.05490 ┆ 2.591     ┆ 9.7       ┆ 0        │\n",
       "│            ┆ Ride      ┆          ┆           ┆   ┆ 1, -82.44 ┆           ┆           ┆          │\n",
       "│            ┆           ┆          ┆           ┆   ┆ 9535]     ┆           ┆           ┆          │\n",
       "│ 369872656  ┆ Evening   ┆ 3470.9   ┆ 1180      ┆ … ┆ [28.05699 ┆ 2.941     ┆ 6.5       ┆ 0        │\n",
       "│            ┆ Ride      ┆          ┆           ┆   ┆ 6, -82.41 ┆           ┆           ┆          │\n",
       "│            ┆           ┆          ┆           ┆   ┆ 5831]     ┆           ┆           ┆          │\n",
       "│ 360758368  ┆ Night     ┆ 9521.6   ┆ 2697      ┆ … ┆ [28.08063 ┆ 3.53      ┆ 9.6       ┆ 0        │\n",
       "│            ┆ Ride      ┆          ┆           ┆   ┆ 8, -82.41 ┆           ┆           ┆          │\n",
       "│            ┆           ┆          ┆           ┆   ┆ 106]      ┆           ┆           ┆          │\n",
       "└────────────┴───────────┴──────────┴───────────┴───┴───────────┴───────────┴───────────┴──────────┘"
      ]
     },
     "execution_count": 11,
     "metadata": {},
     "output_type": "execute_result"
    }
   ],
   "source": [
    "activities_curated.filter(pl.col(\"sport_type\") == \"Ride\")"
   ]
  },
  {
   "cell_type": "code",
   "execution_count": null,
   "id": "234b0069",
   "metadata": {},
   "outputs": [
    {
     "data": {
      "text/html": [
       "<div><style>\n",
       ".dataframe > thead > tr,\n",
       ".dataframe > tbody > tr {\n",
       "  text-align: right;\n",
       "  white-space: pre-wrap;\n",
       "}\n",
       "</style>\n",
       "<small>shape: (12, 13)</small><table border=\"1\" class=\"dataframe\"><thead><tr><th>id</th><th>name</th><th>distance</th><th>moving_time</th><th>total_elevation_gain</th><th>sport_type</th><th>start_date</th><th>gear_id</th><th>start_latlng</th><th>end_latlng</th><th>average_speed</th><th>max_speed</th><th>pr_count</th></tr><tr><td>i64</td><td>str</td><td>f64</td><td>i64</td><td>f64</td><td>str</td><td>str</td><td>str</td><td>list[f64]</td><td>list[f64]</td><td>f64</td><td>f64</td><td>i64</td></tr></thead><tbody><tr><td>12454252089</td><td>&quot;Nike Run Club: 5 Weeks To Go&quot;</td><td>1697.5</td><td>900</td><td>0.0</td><td>&quot;Run&quot;</td><td>&quot;2024-09-19T21:56:36Z&quot;</td><td>&quot;g17360762&quot;</td><td>[43.19, -79.24]</td><td>[43.2, -79.24]</td><td>1.886</td><td>3.584</td><td>0</td></tr><tr><td>12420582469</td><td>&quot;Nike Run Club: Sunday Evening …</td><td>1321.9</td><td>577</td><td>0.0</td><td>&quot;Run&quot;</td><td>&quot;2024-09-15T23:08:58Z&quot;</td><td>&quot;g17360762&quot;</td><td>[43.19, -79.24]</td><td>[43.2, -79.24]</td><td>2.291</td><td>3.738</td><td>0</td></tr><tr><td>12403373307</td><td>&quot;Nike Run Club: 6 Weeks to Go -…</td><td>1618.7</td><td>766</td><td>0.0</td><td>&quot;Run&quot;</td><td>&quot;2024-09-14T00:04:20Z&quot;</td><td>&quot;g17360762&quot;</td><td>[43.18, -79.24]</td><td>[43.2, -79.24]</td><td>2.113</td><td>5.376</td><td>0</td></tr><tr><td>12370126502</td><td>&quot;Nike Run Club: 6 Weeks to Go -…</td><td>1735.8</td><td>832</td><td>2.4</td><td>&quot;Run&quot;</td><td>&quot;2024-09-09T22:41:55Z&quot;</td><td>&quot;g17360762&quot;</td><td>[43.19, -79.24]</td><td>[43.19, -79.24]</td><td>2.086</td><td>5.782</td><td>0</td></tr><tr><td>12363043634</td><td>&quot;Nike Run Club: Another Ten Mil…</td><td>16102.9</td><td>7765</td><td>26.0</td><td>&quot;Run&quot;</td><td>&quot;2024-09-08T23:16:32Z&quot;</td><td>&quot;g17360762&quot;</td><td>[43.2, -79.21]</td><td>[43.2, -79.21]</td><td>2.074</td><td>7.25</td><td>3</td></tr><tr><td>&hellip;</td><td>&hellip;</td><td>&hellip;</td><td>&hellip;</td><td>&hellip;</td><td>&hellip;</td><td>&hellip;</td><td>&hellip;</td><td>&hellip;</td><td>&hellip;</td><td>&hellip;</td><td>&hellip;</td><td>&hellip;</td></tr><tr><td>12302958908</td><td>&quot;Nike Run Club: 15K Run&quot;</td><td>15008.7</td><td>7145</td><td>6.0</td><td>&quot;Run&quot;</td><td>&quot;2024-09-02T00:24:43Z&quot;</td><td>&quot;g17360762&quot;</td><td>[43.19, -79.24]</td><td>[43.19, -79.24]</td><td>2.101</td><td>7.416</td><td>0</td></tr><tr><td>12280805012</td><td>&quot;Nike Run Club: Power Pyramid&quot;</td><td>3855.6</td><td>1619</td><td>5.0</td><td>&quot;Run&quot;</td><td>&quot;2024-08-30T12:05:38Z&quot;</td><td>&quot;g17360762&quot;</td><td>[43.19, -79.24]</td><td>[43.19, -79.24]</td><td>2.381</td><td>5.872</td><td>0</td></tr><tr><td>12272383207</td><td>&quot;Nike Run Club: Breaking Throug…</td><td>4244.4</td><td>1769</td><td>3.0</td><td>&quot;Run&quot;</td><td>&quot;2024-08-29T11:51:57Z&quot;</td><td>&quot;g17360762&quot;</td><td>[43.19, -79.24]</td><td>[43.19, -79.24]</td><td>2.399</td><td>6.786</td><td>0</td></tr><tr><td>12259392394</td><td>&quot;Nike Run Club: The Shifter&quot;</td><td>2836.1</td><td>1139</td><td>3.0</td><td>&quot;Run&quot;</td><td>&quot;2024-08-27T21:47:01Z&quot;</td><td>&quot;g17360762&quot;</td><td>[43.19, -79.24]</td><td>[43.19, -79.24]</td><td>2.49</td><td>4.78</td><td>0</td></tr><tr><td>12240298446</td><td>&quot;Lunch Walk&quot;</td><td>1693.9</td><td>1414</td><td>4.5</td><td>&quot;Walk&quot;</td><td>&quot;2024-08-25T15:36:46Z&quot;</td><td>null</td><td>[45.47, -73.58]</td><td>[45.48, -73.58]</td><td>1.198</td><td>4.79</td><td>0</td></tr></tbody></table></div>"
      ],
      "text/plain": [
       "shape: (12, 13)\n",
       "┌────────────┬───────────┬──────────┬───────────┬───┬───────────┬───────────┬───────────┬──────────┐\n",
       "│ id         ┆ name      ┆ distance ┆ moving_ti ┆ … ┆ end_latln ┆ average_s ┆ max_speed ┆ pr_count │\n",
       "│ ---        ┆ ---       ┆ ---      ┆ me        ┆   ┆ g         ┆ peed      ┆ ---       ┆ ---      │\n",
       "│ i64        ┆ str       ┆ f64      ┆ ---       ┆   ┆ ---       ┆ ---       ┆ f64       ┆ i64      │\n",
       "│            ┆           ┆          ┆ i64       ┆   ┆ list[f64] ┆ f64       ┆           ┆          │\n",
       "╞════════════╪═══════════╪══════════╪═══════════╪═══╪═══════════╪═══════════╪═══════════╪══════════╡\n",
       "│ 1245425208 ┆ Nike Run  ┆ 1697.5   ┆ 900       ┆ … ┆ [43.2,    ┆ 1.886     ┆ 3.584     ┆ 0        │\n",
       "│ 9          ┆ Club: 5   ┆          ┆           ┆   ┆ -79.24]   ┆           ┆           ┆          │\n",
       "│            ┆ Weeks To  ┆          ┆           ┆   ┆           ┆           ┆           ┆          │\n",
       "│            ┆ Go        ┆          ┆           ┆   ┆           ┆           ┆           ┆          │\n",
       "│ 1242058246 ┆ Nike Run  ┆ 1321.9   ┆ 577       ┆ … ┆ [43.2,    ┆ 2.291     ┆ 3.738     ┆ 0        │\n",
       "│ 9          ┆ Club:     ┆          ┆           ┆   ┆ -79.24]   ┆           ┆           ┆          │\n",
       "│            ┆ Sunday    ┆          ┆           ┆   ┆           ┆           ┆           ┆          │\n",
       "│            ┆ Evening … ┆          ┆           ┆   ┆           ┆           ┆           ┆          │\n",
       "│ 1240337330 ┆ Nike Run  ┆ 1618.7   ┆ 766       ┆ … ┆ [43.2,    ┆ 2.113     ┆ 5.376     ┆ 0        │\n",
       "│ 7          ┆ Club: 6   ┆          ┆           ┆   ┆ -79.24]   ┆           ┆           ┆          │\n",
       "│            ┆ Weeks to  ┆          ┆           ┆   ┆           ┆           ┆           ┆          │\n",
       "│            ┆ Go -…     ┆          ┆           ┆   ┆           ┆           ┆           ┆          │\n",
       "│ 1237012650 ┆ Nike Run  ┆ 1735.8   ┆ 832       ┆ … ┆ [43.19,   ┆ 2.086     ┆ 5.782     ┆ 0        │\n",
       "│ 2          ┆ Club: 6   ┆          ┆           ┆   ┆ -79.24]   ┆           ┆           ┆          │\n",
       "│            ┆ Weeks to  ┆          ┆           ┆   ┆           ┆           ┆           ┆          │\n",
       "│            ┆ Go -…     ┆          ┆           ┆   ┆           ┆           ┆           ┆          │\n",
       "│ 1236304363 ┆ Nike Run  ┆ 16102.9  ┆ 7765      ┆ … ┆ [43.2,    ┆ 2.074     ┆ 7.25      ┆ 3        │\n",
       "│ 4          ┆ Club:     ┆          ┆           ┆   ┆ -79.21]   ┆           ┆           ┆          │\n",
       "│            ┆ Another   ┆          ┆           ┆   ┆           ┆           ┆           ┆          │\n",
       "│            ┆ Ten Mil…  ┆          ┆           ┆   ┆           ┆           ┆           ┆          │\n",
       "│ …          ┆ …         ┆ …        ┆ …         ┆ … ┆ …         ┆ …         ┆ …         ┆ …        │\n",
       "│ 1230295890 ┆ Nike Run  ┆ 15008.7  ┆ 7145      ┆ … ┆ [43.19,   ┆ 2.101     ┆ 7.416     ┆ 0        │\n",
       "│ 8          ┆ Club: 15K ┆          ┆           ┆   ┆ -79.24]   ┆           ┆           ┆          │\n",
       "│            ┆ Run       ┆          ┆           ┆   ┆           ┆           ┆           ┆          │\n",
       "│ 1228080501 ┆ Nike Run  ┆ 3855.6   ┆ 1619      ┆ … ┆ [43.19,   ┆ 2.381     ┆ 5.872     ┆ 0        │\n",
       "│ 2          ┆ Club:     ┆          ┆           ┆   ┆ -79.24]   ┆           ┆           ┆          │\n",
       "│            ┆ Power     ┆          ┆           ┆   ┆           ┆           ┆           ┆          │\n",
       "│            ┆ Pyramid   ┆          ┆           ┆   ┆           ┆           ┆           ┆          │\n",
       "│ 1227238320 ┆ Nike Run  ┆ 4244.4   ┆ 1769      ┆ … ┆ [43.19,   ┆ 2.399     ┆ 6.786     ┆ 0        │\n",
       "│ 7          ┆ Club:     ┆          ┆           ┆   ┆ -79.24]   ┆           ┆           ┆          │\n",
       "│            ┆ Breaking  ┆          ┆           ┆   ┆           ┆           ┆           ┆          │\n",
       "│            ┆ Throug…   ┆          ┆           ┆   ┆           ┆           ┆           ┆          │\n",
       "│ 1225939239 ┆ Nike Run  ┆ 2836.1   ┆ 1139      ┆ … ┆ [43.19,   ┆ 2.49      ┆ 4.78      ┆ 0        │\n",
       "│ 4          ┆ Club: The ┆          ┆           ┆   ┆ -79.24]   ┆           ┆           ┆          │\n",
       "│            ┆ Shifter   ┆          ┆           ┆   ┆           ┆           ┆           ┆          │\n",
       "│ 1224029844 ┆ Lunch     ┆ 1693.9   ┆ 1414      ┆ … ┆ [45.48,   ┆ 1.198     ┆ 4.79      ┆ 0        │\n",
       "│ 6          ┆ Walk      ┆          ┆           ┆   ┆ -73.58]   ┆           ┆           ┆          │\n",
       "└────────────┴───────────┴──────────┴───────────┴───┴───────────┴───────────┴───────────┴──────────┘"
      ]
     },
     "execution_count": 57,
     "metadata": {},
     "output_type": "execute_result"
    }
   ],
   "source": [
    "activities_curated.filter(pl.col(\"start_date\") <= '2025-01-01')"
   ]
  },
  {
   "cell_type": "code",
   "execution_count": 13,
   "id": "ea271917",
   "metadata": {},
   "outputs": [
    {
     "data": {
      "text/html": [
       "<div><style>\n",
       ".dataframe > thead > tr,\n",
       ".dataframe > tbody > tr {\n",
       "  text-align: right;\n",
       "  white-space: pre-wrap;\n",
       "}\n",
       "</style>\n",
       "<small>shape: (5, 13)</small><table border=\"1\" class=\"dataframe\"><thead><tr><th>id</th><th>name</th><th>distance</th><th>moving_time</th><th>total_elevation_gain</th><th>sport_type</th><th>start_date</th><th>gear_id</th><th>start_latlng</th><th>end_latlng</th><th>average_speed</th><th>max_speed</th><th>pr_count</th></tr><tr><td>i64</td><td>str</td><td>f64</td><td>i64</td><td>f64</td><td>str</td><td>str</td><td>str</td><td>list[f64]</td><td>list[f64]</td><td>f64</td><td>f64</td><td>i64</td></tr></thead><tbody><tr><td>14483079342</td><td>&quot;Evening Walk&quot;</td><td>1327.4</td><td>1218</td><td>0.0</td><td>&quot;Walk&quot;</td><td>&quot;2025-05-14T22:07:48Z&quot;</td><td>null</td><td>[43.185118, -79.240331]</td><td>[43.18532, -79.240045]</td><td>1.09</td><td>2.5</td><td>0</td></tr><tr><td>14461863801</td><td>&quot;Quick 10!&quot;</td><td>10208.0</td><td>2072</td><td>11.6</td><td>&quot;Ride&quot;</td><td>&quot;2025-05-13T00:05:20Z&quot;</td><td>&quot;b15965201&quot;</td><td>[43.185688, -79.238113]</td><td>[43.185237, -79.239943]</td><td>4.927</td><td>10.12</td><td>4</td></tr><tr><td>14461614687</td><td>&quot;Afternoon Walk&quot;</td><td>3182.6</td><td>2950</td><td>3.6</td><td>&quot;Walk&quot;</td><td>&quot;2025-05-08T21:14:11Z&quot;</td><td>null</td><td>[43.18215, -79.240976]</td><td>[43.185419, -79.238815]</td><td>1.079</td><td>7.52</td><td>0</td></tr><tr><td>14415009088</td><td>&quot;20K along the canal 🏞️&quot;</td><td>20550.0</td><td>4511</td><td>51.1</td><td>&quot;Ride&quot;</td><td>&quot;2025-05-08T10:56:40Z&quot;</td><td>&quot;b15965201&quot;</td><td>[43.186056, -79.237056]</td><td>[43.185262, -79.239991]</td><td>4.556</td><td>9.96</td><td>1</td></tr><tr><td>14384045503</td><td>&quot;Morning Ride&quot;</td><td>15950.8</td><td>4284</td><td>50.7</td><td>&quot;Ride&quot;</td><td>&quot;2025-05-05T10:38:13Z&quot;</td><td>&quot;b15965201&quot;</td><td>[43.185237, -79.240003]</td><td>[43.185216, -79.239966]</td><td>3.723</td><td>9.02</td><td>3</td></tr></tbody></table></div>"
      ],
      "text/plain": [
       "shape: (5, 13)\n",
       "┌────────────┬───────────┬──────────┬───────────┬───┬───────────┬───────────┬───────────┬──────────┐\n",
       "│ id         ┆ name      ┆ distance ┆ moving_ti ┆ … ┆ end_latln ┆ average_s ┆ max_speed ┆ pr_count │\n",
       "│ ---        ┆ ---       ┆ ---      ┆ me        ┆   ┆ g         ┆ peed      ┆ ---       ┆ ---      │\n",
       "│ i64        ┆ str       ┆ f64      ┆ ---       ┆   ┆ ---       ┆ ---       ┆ f64       ┆ i64      │\n",
       "│            ┆           ┆          ┆ i64       ┆   ┆ list[f64] ┆ f64       ┆           ┆          │\n",
       "╞════════════╪═══════════╪══════════╪═══════════╪═══╪═══════════╪═══════════╪═══════════╪══════════╡\n",
       "│ 1448307934 ┆ Evening   ┆ 1327.4   ┆ 1218      ┆ … ┆ [43.18532 ┆ 1.09      ┆ 2.5       ┆ 0        │\n",
       "│ 2          ┆ Walk      ┆          ┆           ┆   ┆ , -79.240 ┆           ┆           ┆          │\n",
       "│            ┆           ┆          ┆           ┆   ┆ 045]      ┆           ┆           ┆          │\n",
       "│ 1446186380 ┆ Quick 10! ┆ 10208.0  ┆ 2072      ┆ … ┆ [43.18523 ┆ 4.927     ┆ 10.12     ┆ 4        │\n",
       "│ 1          ┆           ┆          ┆           ┆   ┆ 7, -79.23 ┆           ┆           ┆          │\n",
       "│            ┆           ┆          ┆           ┆   ┆ 9943]     ┆           ┆           ┆          │\n",
       "│ 1446161468 ┆ Afternoon ┆ 3182.6   ┆ 2950      ┆ … ┆ [43.18541 ┆ 1.079     ┆ 7.52      ┆ 0        │\n",
       "│ 7          ┆ Walk      ┆          ┆           ┆   ┆ 9, -79.23 ┆           ┆           ┆          │\n",
       "│            ┆           ┆          ┆           ┆   ┆ 8815]     ┆           ┆           ┆          │\n",
       "│ 1441500908 ┆ 20K along ┆ 20550.0  ┆ 4511      ┆ … ┆ [43.18526 ┆ 4.556     ┆ 9.96      ┆ 1        │\n",
       "│ 8          ┆ the canal ┆          ┆           ┆   ┆ 2, -79.23 ┆           ┆           ┆          │\n",
       "│            ┆ 🏞️        ┆          ┆           ┆   ┆ 9991]     ┆           ┆           ┆          │\n",
       "│ 1438404550 ┆ Morning   ┆ 15950.8  ┆ 4284      ┆ … ┆ [43.18521 ┆ 3.723     ┆ 9.02      ┆ 3        │\n",
       "│ 3          ┆ Ride      ┆          ┆           ┆   ┆ 6, -79.23 ┆           ┆           ┆          │\n",
       "│            ┆           ┆          ┆           ┆   ┆ 9966]     ┆           ┆           ┆          │\n",
       "└────────────┴───────────┴──────────┴───────────┴───┴───────────┴───────────┴───────────┴──────────┘"
      ]
     },
     "execution_count": 13,
     "metadata": {},
     "output_type": "execute_result"
    }
   ],
   "source": [
    "activities_curated.head()"
   ]
  },
  {
   "cell_type": "markdown",
   "id": "494ab206",
   "metadata": {},
   "source": [
    "**Identify units for Strava data**\n",
    "distance : meters\n",
    "moving_time : seconds\n",
    "total_elevation_gain : meters\n",
    "average_speed : meters per second \n",
    "max_speed : meters per second "
   ]
  },
  {
   "cell_type": "code",
   "execution_count": 17,
   "id": "a956f45e",
   "metadata": {},
   "outputs": [
    {
     "data": {
      "text/html": [
       "<div><style>\n",
       ".dataframe > thead > tr,\n",
       ".dataframe > tbody > tr {\n",
       "  text-align: right;\n",
       "  white-space: pre-wrap;\n",
       "}\n",
       "</style>\n",
       "<small>shape: (5, 13)</small><table border=\"1\" class=\"dataframe\"><thead><tr><th>id</th><th>name</th><th>distance</th><th>moving_time</th><th>total_elevation_gain</th><th>sport_type</th><th>start_date</th><th>gear_id</th><th>start_latlng</th><th>end_latlng</th><th>average_speed</th><th>max_speed</th><th>pr_count</th></tr><tr><td>i64</td><td>str</td><td>f64</td><td>i64</td><td>f64</td><td>str</td><td>str</td><td>str</td><td>list[f64]</td><td>list[f64]</td><td>f64</td><td>f64</td><td>i64</td></tr></thead><tbody><tr><td>14483079342</td><td>&quot;Evening Walk&quot;</td><td>1327.4</td><td>1218</td><td>0.0</td><td>&quot;Walk&quot;</td><td>&quot;2025-05-14T22:07:48Z&quot;</td><td>null</td><td>[43.185118, -79.240331]</td><td>[43.18532, -79.240045]</td><td>1.09</td><td>2.5</td><td>0</td></tr><tr><td>14461863801</td><td>&quot;Quick 10!&quot;</td><td>10208.0</td><td>2072</td><td>11.6</td><td>&quot;Ride&quot;</td><td>&quot;2025-05-13T00:05:20Z&quot;</td><td>&quot;b15965201&quot;</td><td>[43.185688, -79.238113]</td><td>[43.185237, -79.239943]</td><td>4.927</td><td>10.12</td><td>4</td></tr><tr><td>14461614687</td><td>&quot;Afternoon Walk&quot;</td><td>3182.6</td><td>2950</td><td>3.6</td><td>&quot;Walk&quot;</td><td>&quot;2025-05-08T21:14:11Z&quot;</td><td>null</td><td>[43.18215, -79.240976]</td><td>[43.185419, -79.238815]</td><td>1.079</td><td>7.52</td><td>0</td></tr><tr><td>14415009088</td><td>&quot;20K along the canal 🏞️&quot;</td><td>20550.0</td><td>4511</td><td>51.1</td><td>&quot;Ride&quot;</td><td>&quot;2025-05-08T10:56:40Z&quot;</td><td>&quot;b15965201&quot;</td><td>[43.186056, -79.237056]</td><td>[43.185262, -79.239991]</td><td>4.556</td><td>9.96</td><td>1</td></tr><tr><td>14384045503</td><td>&quot;Morning Ride&quot;</td><td>15950.8</td><td>4284</td><td>50.7</td><td>&quot;Ride&quot;</td><td>&quot;2025-05-05T10:38:13Z&quot;</td><td>&quot;b15965201&quot;</td><td>[43.185237, -79.240003]</td><td>[43.185216, -79.239966]</td><td>3.723</td><td>9.02</td><td>3</td></tr></tbody></table></div>"
      ],
      "text/plain": [
       "shape: (5, 13)\n",
       "┌────────────┬───────────┬──────────┬───────────┬───┬───────────┬───────────┬───────────┬──────────┐\n",
       "│ id         ┆ name      ┆ distance ┆ moving_ti ┆ … ┆ end_latln ┆ average_s ┆ max_speed ┆ pr_count │\n",
       "│ ---        ┆ ---       ┆ ---      ┆ me        ┆   ┆ g         ┆ peed      ┆ ---       ┆ ---      │\n",
       "│ i64        ┆ str       ┆ f64      ┆ ---       ┆   ┆ ---       ┆ ---       ┆ f64       ┆ i64      │\n",
       "│            ┆           ┆          ┆ i64       ┆   ┆ list[f64] ┆ f64       ┆           ┆          │\n",
       "╞════════════╪═══════════╪══════════╪═══════════╪═══╪═══════════╪═══════════╪═══════════╪══════════╡\n",
       "│ 1448307934 ┆ Evening   ┆ 1327.4   ┆ 1218      ┆ … ┆ [43.18532 ┆ 1.09      ┆ 2.5       ┆ 0        │\n",
       "│ 2          ┆ Walk      ┆          ┆           ┆   ┆ , -79.240 ┆           ┆           ┆          │\n",
       "│            ┆           ┆          ┆           ┆   ┆ 045]      ┆           ┆           ┆          │\n",
       "│ 1446186380 ┆ Quick 10! ┆ 10208.0  ┆ 2072      ┆ … ┆ [43.18523 ┆ 4.927     ┆ 10.12     ┆ 4        │\n",
       "│ 1          ┆           ┆          ┆           ┆   ┆ 7, -79.23 ┆           ┆           ┆          │\n",
       "│            ┆           ┆          ┆           ┆   ┆ 9943]     ┆           ┆           ┆          │\n",
       "│ 1446161468 ┆ Afternoon ┆ 3182.6   ┆ 2950      ┆ … ┆ [43.18541 ┆ 1.079     ┆ 7.52      ┆ 0        │\n",
       "│ 7          ┆ Walk      ┆          ┆           ┆   ┆ 9, -79.23 ┆           ┆           ┆          │\n",
       "│            ┆           ┆          ┆           ┆   ┆ 8815]     ┆           ┆           ┆          │\n",
       "│ 1441500908 ┆ 20K along ┆ 20550.0  ┆ 4511      ┆ … ┆ [43.18526 ┆ 4.556     ┆ 9.96      ┆ 1        │\n",
       "│ 8          ┆ the canal ┆          ┆           ┆   ┆ 2, -79.23 ┆           ┆           ┆          │\n",
       "│            ┆ 🏞️        ┆          ┆           ┆   ┆ 9991]     ┆           ┆           ┆          │\n",
       "│ 1438404550 ┆ Morning   ┆ 15950.8  ┆ 4284      ┆ … ┆ [43.18521 ┆ 3.723     ┆ 9.02      ┆ 3        │\n",
       "│ 3          ┆ Ride      ┆          ┆           ┆   ┆ 6, -79.23 ┆           ┆           ┆          │\n",
       "│            ┆           ┆          ┆           ┆   ┆ 9966]     ┆           ┆           ┆          │\n",
       "└────────────┴───────────┴──────────┴───────────┴───┴───────────┴───────────┴───────────┴──────────┘"
      ]
     },
     "execution_count": 17,
     "metadata": {},
     "output_type": "execute_result"
    }
   ],
   "source": [
    "activities_curated.head()"
   ]
  },
  {
   "cell_type": "code",
   "execution_count": null,
   "id": "f90e5f89",
   "metadata": {},
   "outputs": [
    {
     "data": {
      "text/html": [
       "<div><style>\n",
       ".dataframe > thead > tr,\n",
       ".dataframe > tbody > tr {\n",
       "  text-align: right;\n",
       "  white-space: pre-wrap;\n",
       "}\n",
       "</style>\n",
       "<small>shape: (85, 13)</small><table border=\"1\" class=\"dataframe\"><thead><tr><th>id</th><th>name</th><th>distance</th><th>moving_time</th><th>total_elevation_gain</th><th>sport_type</th><th>start_date</th><th>gear_id</th><th>start_latlng</th><th>end_latlng</th><th>average_speed</th><th>max_speed</th><th>pr_count</th></tr><tr><td>i64</td><td>str</td><td>f64</td><td>i64</td><td>f64</td><td>str</td><td>str</td><td>str</td><td>list[f64]</td><td>list[f64]</td><td>f64</td><td>f64</td><td>i64</td></tr></thead><tbody><tr><td>14461863801</td><td>&quot;Quick 10!&quot;</td><td>10208.0</td><td>2072</td><td>11.6</td><td>&quot;Ride&quot;</td><td>&quot;2025-05-13T00:05:20Z&quot;</td><td>&quot;b15965201&quot;</td><td>[43.185688, -79.238113]</td><td>[43.185237, -79.239943]</td><td>4.927</td><td>10.12</td><td>4</td></tr><tr><td>14415009088</td><td>&quot;20K along the canal 🏞️&quot;</td><td>20550.0</td><td>4511</td><td>51.1</td><td>&quot;Ride&quot;</td><td>&quot;2025-05-08T10:56:40Z&quot;</td><td>&quot;b15965201&quot;</td><td>[43.186056, -79.237056]</td><td>[43.185262, -79.239991]</td><td>4.556</td><td>9.96</td><td>1</td></tr><tr><td>14384045503</td><td>&quot;Morning Ride&quot;</td><td>15950.8</td><td>4284</td><td>50.7</td><td>&quot;Ride&quot;</td><td>&quot;2025-05-05T10:38:13Z&quot;</td><td>&quot;b15965201&quot;</td><td>[43.185237, -79.240003]</td><td>[43.185216, -79.239966]</td><td>3.723</td><td>9.02</td><td>3</td></tr><tr><td>14342156475</td><td>&quot;Port Dalhousie sunrise&quot;</td><td>9518.0</td><td>2569</td><td>22.8</td><td>&quot;Ride&quot;</td><td>&quot;2025-05-01T09:58:17Z&quot;</td><td>&quot;b15965201&quot;</td><td>[43.185268, -79.239972]</td><td>[43.185299, -79.239944]</td><td>3.705</td><td>9.18</td><td>1</td></tr><tr><td>14336914052</td><td>&quot;First ride in Nicasio +&quot;</td><td>10092.8</td><td>2297</td><td>12.2</td><td>&quot;Ride&quot;</td><td>&quot;2025-04-30T20:18:07Z&quot;</td><td>&quot;b15965201&quot;</td><td>[43.186227, -79.236506]</td><td>[43.185265, -79.239967]</td><td>4.394</td><td>9.24</td><td>0</td></tr><tr><td>&hellip;</td><td>&hellip;</td><td>&hellip;</td><td>&hellip;</td><td>&hellip;</td><td>&hellip;</td><td>&hellip;</td><td>&hellip;</td><td>&hellip;</td><td>&hellip;</td><td>&hellip;</td><td>&hellip;</td><td>&hellip;</td></tr><tr><td>1369817866</td><td>&quot;It&#x27;s cold&quot;</td><td>527.0</td><td>174</td><td>0.0</td><td>&quot;Ride&quot;</td><td>&quot;2018-01-22T16:23:43Z&quot;</td><td>null</td><td>[47.676095, -122.125355]</td><td>[47.675937, -122.125343]</td><td>3.029</td><td>6.3</td><td>0</td></tr><tr><td>425416333</td><td>&quot;Afternoon Ride&quot;</td><td>3362.4</td><td>890</td><td>10.3</td><td>&quot;Ride&quot;</td><td>&quot;2015-10-18T21:29:41Z&quot;</td><td>null</td><td>[28.069222, -82.410976]</td><td>[28.069146, -82.376819]</td><td>3.778</td><td>6.7</td><td>0</td></tr><tr><td>376712576</td><td>&quot;Evening Ride&quot;</td><td>4016.6</td><td>1550</td><td>0.0</td><td>&quot;Ride&quot;</td><td>&quot;2015-08-20T22:01:43Z&quot;</td><td>null</td><td>[28.055122, -82.413474]</td><td>[28.054901, -82.449535]</td><td>2.591</td><td>9.7</td><td>0</td></tr><tr><td>369872656</td><td>&quot;Evening Ride&quot;</td><td>3470.9</td><td>1180</td><td>11.1</td><td>&quot;Ride&quot;</td><td>&quot;2015-08-15T23:05:53Z&quot;</td><td>null</td><td>[28.068955, -82.405798]</td><td>[28.056996, -82.415831]</td><td>2.941</td><td>6.5</td><td>0</td></tr><tr><td>360758368</td><td>&quot;Night Ride&quot;</td><td>9521.6</td><td>2697</td><td>0.0</td><td>&quot;Ride&quot;</td><td>&quot;2015-08-04T02:49:31Z&quot;</td><td>null</td><td>[28.080822, -82.411176]</td><td>[28.080638, -82.41106]</td><td>3.53</td><td>9.6</td><td>0</td></tr></tbody></table></div>"
      ],
      "text/plain": [
       "shape: (85, 13)\n",
       "┌────────────┬───────────┬──────────┬───────────┬───┬───────────┬───────────┬───────────┬──────────┐\n",
       "│ id         ┆ name      ┆ distance ┆ moving_ti ┆ … ┆ end_latln ┆ average_s ┆ max_speed ┆ pr_count │\n",
       "│ ---        ┆ ---       ┆ ---      ┆ me        ┆   ┆ g         ┆ peed      ┆ ---       ┆ ---      │\n",
       "│ i64        ┆ str       ┆ f64      ┆ ---       ┆   ┆ ---       ┆ ---       ┆ f64       ┆ i64      │\n",
       "│            ┆           ┆          ┆ i64       ┆   ┆ list[f64] ┆ f64       ┆           ┆          │\n",
       "╞════════════╪═══════════╪══════════╪═══════════╪═══╪═══════════╪═══════════╪═══════════╪══════════╡\n",
       "│ 1446186380 ┆ Quick 10! ┆ 10208.0  ┆ 2072      ┆ … ┆ [43.18523 ┆ 4.927     ┆ 10.12     ┆ 4        │\n",
       "│ 1          ┆           ┆          ┆           ┆   ┆ 7, -79.23 ┆           ┆           ┆          │\n",
       "│            ┆           ┆          ┆           ┆   ┆ 9943]     ┆           ┆           ┆          │\n",
       "│ 1441500908 ┆ 20K along ┆ 20550.0  ┆ 4511      ┆ … ┆ [43.18526 ┆ 4.556     ┆ 9.96      ┆ 1        │\n",
       "│ 8          ┆ the canal ┆          ┆           ┆   ┆ 2, -79.23 ┆           ┆           ┆          │\n",
       "│            ┆ 🏞️        ┆          ┆           ┆   ┆ 9991]     ┆           ┆           ┆          │\n",
       "│ 1438404550 ┆ Morning   ┆ 15950.8  ┆ 4284      ┆ … ┆ [43.18521 ┆ 3.723     ┆ 9.02      ┆ 3        │\n",
       "│ 3          ┆ Ride      ┆          ┆           ┆   ┆ 6, -79.23 ┆           ┆           ┆          │\n",
       "│            ┆           ┆          ┆           ┆   ┆ 9966]     ┆           ┆           ┆          │\n",
       "│ 1434215647 ┆ Port      ┆ 9518.0   ┆ 2569      ┆ … ┆ [43.18529 ┆ 3.705     ┆ 9.18      ┆ 1        │\n",
       "│ 5          ┆ Dalhousie ┆          ┆           ┆   ┆ 9, -79.23 ┆           ┆           ┆          │\n",
       "│            ┆ sunrise   ┆          ┆           ┆   ┆ 9944]     ┆           ┆           ┆          │\n",
       "│ 1433691405 ┆ First     ┆ 10092.8  ┆ 2297      ┆ … ┆ [43.18526 ┆ 4.394     ┆ 9.24      ┆ 0        │\n",
       "│ 2          ┆ ride in   ┆          ┆           ┆   ┆ 5, -79.23 ┆           ┆           ┆          │\n",
       "│            ┆ Nicasio + ┆          ┆           ┆   ┆ 9967]     ┆           ┆           ┆          │\n",
       "│ …          ┆ …         ┆ …        ┆ …         ┆ … ┆ …         ┆ …         ┆ …         ┆ …        │\n",
       "│ 1369817866 ┆ It's cold ┆ 527.0    ┆ 174       ┆ … ┆ [47.67593 ┆ 3.029     ┆ 6.3       ┆ 0        │\n",
       "│            ┆           ┆          ┆           ┆   ┆ 7, -122.1 ┆           ┆           ┆          │\n",
       "│            ┆           ┆          ┆           ┆   ┆ 25343]    ┆           ┆           ┆          │\n",
       "│ 425416333  ┆ Afternoon ┆ 3362.4   ┆ 890       ┆ … ┆ [28.06914 ┆ 3.778     ┆ 6.7       ┆ 0        │\n",
       "│            ┆ Ride      ┆          ┆           ┆   ┆ 6, -82.37 ┆           ┆           ┆          │\n",
       "│            ┆           ┆          ┆           ┆   ┆ 6819]     ┆           ┆           ┆          │\n",
       "│ 376712576  ┆ Evening   ┆ 4016.6   ┆ 1550      ┆ … ┆ [28.05490 ┆ 2.591     ┆ 9.7       ┆ 0        │\n",
       "│            ┆ Ride      ┆          ┆           ┆   ┆ 1, -82.44 ┆           ┆           ┆          │\n",
       "│            ┆           ┆          ┆           ┆   ┆ 9535]     ┆           ┆           ┆          │\n",
       "│ 369872656  ┆ Evening   ┆ 3470.9   ┆ 1180      ┆ … ┆ [28.05699 ┆ 2.941     ┆ 6.5       ┆ 0        │\n",
       "│            ┆ Ride      ┆          ┆           ┆   ┆ 6, -82.41 ┆           ┆           ┆          │\n",
       "│            ┆           ┆          ┆           ┆   ┆ 5831]     ┆           ┆           ┆          │\n",
       "│ 360758368  ┆ Night     ┆ 9521.6   ┆ 2697      ┆ … ┆ [28.08063 ┆ 3.53      ┆ 9.6       ┆ 0        │\n",
       "│            ┆ Ride      ┆          ┆           ┆   ┆ 8, -82.41 ┆           ┆           ┆          │\n",
       "│            ┆           ┆          ┆           ┆   ┆ 106]      ┆           ┆           ┆          │\n",
       "└────────────┴───────────┴──────────┴───────────┴───┴───────────┴───────────┴───────────┴──────────┘"
      ]
     },
     "execution_count": 20,
     "metadata": {},
     "output_type": "execute_result"
    }
   ],
   "source": [
    "# Filter bike rides only\n",
    "\n",
    "activities_curated.filter(pl.col('sport_type') == 'Ride').gg"
   ]
  },
  {
   "cell_type": "code",
   "execution_count": null,
   "id": "db8c1723",
   "metadata": {},
   "outputs": [],
   "source": [
    "acti"
   ]
  }
 ],
 "metadata": {
  "kernelspec": {
   "display_name": "strava_env",
   "language": "python",
   "name": "python3"
  },
  "language_info": {
   "codemirror_mode": {
    "name": "ipython",
    "version": 3
   },
   "file_extension": ".py",
   "mimetype": "text/x-python",
   "name": "python",
   "nbconvert_exporter": "python",
   "pygments_lexer": "ipython3",
   "version": "3.12.10"
  }
 },
 "nbformat": 4,
 "nbformat_minor": 5
}
