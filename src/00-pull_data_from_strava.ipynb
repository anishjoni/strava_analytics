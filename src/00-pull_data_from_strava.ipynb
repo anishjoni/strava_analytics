{
 "cells": [
  {
   "cell_type": "code",
   "execution_count": 189,
   "id": "a99303ed",
   "metadata": {},
   "outputs": [],
   "source": [
    "# Importing libraries\n",
    "import requests\n",
    "import json\n",
    "import polars as pl\n",
    "from datetime import datetime\n",
    "\n",
    "#code = '73bbdc709c3469a77fe5d6e36b37979e66537d05'\n",
    "access_token = '87bfd70f523883ac4dc25143a2e3616755579875'\n",
    "expires_at = '1746651070'\n",
    "client_id = '156884'\n",
    "client_secret = 'e10ddfed77d524fdf82e22fd682e4312b8d246f1'"
   ]
  },
  {
   "cell_type": "code",
   "execution_count": null,
   "id": "a67fd4a6",
   "metadata": {},
   "outputs": [],
   "source": [
    "initial_auth_url = 'https://www.strava.com/api/v3/oauth/token'\n",
    "\n",
    "payload = {'client_id': client_id, \n",
    "           'client_secret': client_secret,\n",
    "           #'code': code,\n",
    "           'grant_type': 'authorization_code'}\n",
    "\n",
    "headers = {'Authorization' : f'Bearer {access_token}'}\n",
    "\n",
    "r = requests.post(url = initial_auth_url, params=payload)\n",
    "r = r.json()"
   ]
  },
  {
   "cell_type": "code",
   "execution_count": 190,
   "id": "d833dfaa",
   "metadata": {},
   "outputs": [
    {
     "data": {
      "text/plain": [
       "{'token_type': 'Bearer',\n",
       " 'expires_at': 1746649838,\n",
       " 'expires_in': 15756,\n",
       " 'refresh_token': 'f619a203f02a085497b94ec42b7ddac02b7540e3',\n",
       " 'access_token': '9f5fefd745f35e47bc653a3b04cb8081427d0234',\n",
       " 'athlete': {'id': 6996379,\n",
       "  'username': 'anish_joni',\n",
       "  'resource_state': 2,\n",
       "  'firstname': 'Anish',\n",
       "  'lastname': 'Joni',\n",
       "  'bio': '',\n",
       "  'city': 'Toronto',\n",
       "  'state': 'ON',\n",
       "  'country': 'India',\n",
       "  'sex': 'M',\n",
       "  'premium': False,\n",
       "  'summit': False,\n",
       "  'created_at': '2014-11-05T01:05:56Z',\n",
       "  'updated_at': '2025-04-25T13:09:53Z',\n",
       "  'badge_type_id': 0,\n",
       "  'weight': 79.4,\n",
       "  'profile_medium': 'https://dgalywyr863hv.cloudfront.net/pictures/athletes/6996379/2109948/2/medium.jpg',\n",
       "  'profile': 'https://dgalywyr863hv.cloudfront.net/pictures/athletes/6996379/2109948/2/large.jpg',\n",
       "  'friend': None,\n",
       "  'follower': None}}"
      ]
     },
     "execution_count": 190,
     "metadata": {},
     "output_type": "execute_result"
    }
   ],
   "source": [
    "r"
   ]
  },
  {
   "cell_type": "code",
   "execution_count": 191,
   "id": "206de24b",
   "metadata": {},
   "outputs": [],
   "source": [
    "# First time auth details\n",
    "tokens = {\n",
    "    'access_token': f'{access_token}',\n",
    "    'expires_at': f'{expires_at}',\n",
    "    'client_id': f'{client_id}',\n",
    "    'client_secret': f'{client_secret}'\n",
    "}"
   ]
  },
  {
   "cell_type": "code",
   "execution_count": 167,
   "id": "e07496dd",
   "metadata": {},
   "outputs": [],
   "source": [
    "# Utility functions\n",
    "def load_tokens(path=\"../data/tokens.json\"):\n",
    "    with open(path, \"r\") as f:\n",
    "       return json.load(f)\n",
    "\n",
    "def save_tokens(tokens, path=\"../data/tokens.json\"):\n",
    "    with open(path, \"w\") as f:\n",
    "        json.dump(tokens, f)\n",
    "\n",
    "def is_token_expired(expires_at):\n",
    "    if type(expires_at) == str:\n",
    "        expires_at = int(expires_at)\n",
    "    else:\n",
    "        expires_at\n",
    "    return datetime.now().timestamp() >= expires_at\n",
    "\n",
    "def refresh_token_if_needed(client_id, client_secret):\n",
    "    tokens = load_tokens()\n",
    "\n",
    "    if is_token_expired(tokens['expires_at']):\n",
    "        print('Access token expired. Refreshing...')\n",
    "\n",
    "        url = \"https://www.strava.com/oauth/token\"\n",
    "        payload = {\n",
    "            'client_id': client_id,\n",
    "            'client_secret': client_secret,\n",
    "            'grant_type': 'refresh_token',\n",
    "            'refresh_token': tokens['refresh_token']\n",
    "        }\n",
    "\n",
    "        r = requests.post(url=url, params=payload)\n",
    "\n",
    "        if r.status_code == 200:\n",
    "            new_tokens = r.json()\n",
    "            tokens = {\n",
    "                \"access_token\": new_tokens['access_token'],\n",
    "                \"refresh_token\": new_tokens['refresh_token'],\n",
    "                \"expires_at\": new_tokens['expires_at']\n",
    "            }\n",
    "            save_tokens(tokens)\n",
    "        else:\n",
    "            raise Exception(f\"Token refresh failed: {r.status_code} - {r.text}\")\n",
    "    \n",
    "    else:\n",
    "        print('No token refresh needed.')\n",
    "        \n",
    "    return tokens['access_token']\n",
    "        "
   ]
  },
  {
   "cell_type": "code",
   "execution_count": 192,
   "id": "203c9993",
   "metadata": {},
   "outputs": [],
   "source": [
    "# Persist initial token\n",
    "save_tokens(tokens)"
   ]
  },
  {
   "cell_type": "code",
   "execution_count": 193,
   "id": "93d7bb6c",
   "metadata": {},
   "outputs": [
    {
     "name": "stdout",
     "output_type": "stream",
     "text": [
      "No token refresh needed.\n"
     ]
    },
    {
     "data": {
      "text/plain": [
       "'87bfd70f523883ac4dc25143a2e3616755579875'"
      ]
     },
     "execution_count": 193,
     "metadata": {},
     "output_type": "execute_result"
    }
   ],
   "source": [
    "refresh_token_if_needed(client_id, client_secret)"
   ]
  },
  {
   "cell_type": "code",
   "execution_count": 196,
   "id": "6ac63a6d",
   "metadata": {},
   "outputs": [
    {
     "name": "stdout",
     "output_type": "stream",
     "text": [
      "No token refresh needed.\n"
     ]
    }
   ],
   "source": [
    "# Initial authentication\n",
    "access_token = refresh_token_if_needed(client_id, client_secret)\n",
    "\n",
    "# Request activities data from Strava API\n",
    "activities_url = 'https://www.strava.com/api/v3/athlete/activities'\n",
    "payload = {'client_id': client_id, \n",
    "           'client_secret': client_secret,\n",
    "           'Authorization': f'Bearer {access_token}',\n",
    "           'per_page' : 200,\n",
    "             'page' : 2}\n",
    "\n",
    "headers = {'Authorization': f'Bearer {access_token}'}\n",
    "param = {'per_page' : 200, 'page' : 2}\n",
    "\n",
    "activities = requests.get(url=activities_url, headers=headers).json()  "
   ]
  },
  {
   "cell_type": "code",
   "execution_count": 200,
   "id": "f90e5f89",
   "metadata": {},
   "outputs": [
    {
     "data": {
      "text/plain": [
       "'87bfd70f523883ac4dc25143a2e3616755579875'"
      ]
     },
     "execution_count": 200,
     "metadata": {},
     "output_type": "execute_result"
    }
   ],
   "source": [
    "access_token"
   ]
  },
  {
   "cell_type": "code",
   "execution_count": null,
   "id": "f4706eab",
   "metadata": {},
   "outputs": [],
   "source": [
    "\n",
    "#"
   ]
  },
  {
   "cell_type": "code",
   "execution_count": 72,
   "id": "4cfeef1e",
   "metadata": {},
   "outputs": [
    {
     "ename": "ColumnNotFoundError",
     "evalue": "\"id\" not found",
     "output_type": "error",
     "traceback": [
      "\u001b[1;31m---------------------------------------------------------------------------\u001b[0m",
      "\u001b[1;31mTypeError\u001b[0m                                 Traceback (most recent call last)",
      "File \u001b[1;32mo:\\Programs\\Python\\Python312\\Lib\\site-packages\\polars\\_utils\\construction\\series.py:316\u001b[0m, in \u001b[0;36m_construct_series_with_fallbacks\u001b[1;34m(constructor, name, values, dtype, strict)\u001b[0m\n\u001b[0;32m    315\u001b[0m \u001b[38;5;28;01mtry\u001b[39;00m:\n\u001b[1;32m--> 316\u001b[0m     \u001b[38;5;28;01mreturn\u001b[39;00m \u001b[43mconstructor\u001b[49m\u001b[43m(\u001b[49m\u001b[43mname\u001b[49m\u001b[43m,\u001b[49m\u001b[43m \u001b[49m\u001b[43mvalues\u001b[49m\u001b[43m,\u001b[49m\u001b[43m \u001b[49m\u001b[43mstrict\u001b[49m\u001b[43m)\u001b[49m\n\u001b[0;32m    317\u001b[0m \u001b[38;5;28;01mexcept\u001b[39;00m (\u001b[38;5;167;01mTypeError\u001b[39;00m, \u001b[38;5;167;01mOverflowError\u001b[39;00m) \u001b[38;5;28;01mas\u001b[39;00m e:\n\u001b[0;32m    318\u001b[0m     \u001b[38;5;66;03m# # This retry with i64 is related to https://github.com/pola-rs/polars/issues/17231\u001b[39;00m\n\u001b[0;32m    319\u001b[0m     \u001b[38;5;66;03m# # Essentially, when given a [0, u64::MAX] then it would Overflow.\u001b[39;00m\n",
      "\u001b[1;31mTypeError\u001b[0m: 'str' object cannot be interpreted as an integer",
      "\nDuring handling of the above exception, another exception occurred:\n",
      "\u001b[1;31mTypeError\u001b[0m                                 Traceback (most recent call last)",
      "File \u001b[1;32mo:\\Programs\\Python\\Python312\\Lib\\site-packages\\polars\\_utils\\getitem.py:167\u001b[0m, in \u001b[0;36mget_df_item_by_key\u001b[1;34m(df, key)\u001b[0m\n\u001b[0;32m    166\u001b[0m \u001b[38;5;28;01mtry\u001b[39;00m:\n\u001b[1;32m--> 167\u001b[0m     \u001b[38;5;28;01mreturn\u001b[39;00m \u001b[43m_select_rows\u001b[49m\u001b[43m(\u001b[49m\u001b[43mdf\u001b[49m\u001b[43m,\u001b[49m\u001b[43m \u001b[49m\u001b[43mkey\u001b[49m\u001b[43m)\u001b[49m  \u001b[38;5;66;03m# type: ignore[arg-type]\u001b[39;00m\n\u001b[0;32m    168\u001b[0m \u001b[38;5;28;01mexcept\u001b[39;00m \u001b[38;5;167;01mTypeError\u001b[39;00m:\n",
      "File \u001b[1;32mo:\\Programs\\Python\\Python312\\Lib\\site-packages\\polars\\_utils\\getitem.py:314\u001b[0m, in \u001b[0;36m_select_rows\u001b[1;34m(df, key)\u001b[0m\n\u001b[0;32m    313\u001b[0m     _raise_on_boolean_mask()\n\u001b[1;32m--> 314\u001b[0m s \u001b[38;5;241m=\u001b[39m \u001b[43mpl\u001b[49m\u001b[38;5;241;43m.\u001b[39;49m\u001b[43mSeries\u001b[49m\u001b[43m(\u001b[49m\u001b[38;5;124;43m\"\u001b[39;49m\u001b[38;5;124;43m\"\u001b[39;49m\u001b[43m,\u001b[49m\u001b[43m \u001b[49m\u001b[43mkey\u001b[49m\u001b[43m,\u001b[49m\u001b[43m \u001b[49m\u001b[43mdtype\u001b[49m\u001b[38;5;241;43m=\u001b[39;49m\u001b[43mInt64\u001b[49m\u001b[43m)\u001b[49m\n\u001b[0;32m    315\u001b[0m indices \u001b[38;5;241m=\u001b[39m _convert_series_to_indices(s, df\u001b[38;5;241m.\u001b[39mheight)\n",
      "File \u001b[1;32mo:\\Programs\\Python\\Python312\\Lib\\site-packages\\polars\\series\\series.py:293\u001b[0m, in \u001b[0;36mSeries.__init__\u001b[1;34m(self, name, values, dtype, strict, nan_to_null)\u001b[0m\n\u001b[0;32m    292\u001b[0m \u001b[38;5;28;01mif\u001b[39;00m \u001b[38;5;28misinstance\u001b[39m(values, Sequence):\n\u001b[1;32m--> 293\u001b[0m     \u001b[38;5;28mself\u001b[39m\u001b[38;5;241m.\u001b[39m_s \u001b[38;5;241m=\u001b[39m \u001b[43msequence_to_pyseries\u001b[49m\u001b[43m(\u001b[49m\n\u001b[0;32m    294\u001b[0m \u001b[43m        \u001b[49m\u001b[43mname\u001b[49m\u001b[43m,\u001b[49m\n\u001b[0;32m    295\u001b[0m \u001b[43m        \u001b[49m\u001b[43mvalues\u001b[49m\u001b[43m,\u001b[49m\n\u001b[0;32m    296\u001b[0m \u001b[43m        \u001b[49m\u001b[43mdtype\u001b[49m\u001b[38;5;241;43m=\u001b[39;49m\u001b[43mdtype\u001b[49m\u001b[43m,\u001b[49m\n\u001b[0;32m    297\u001b[0m \u001b[43m        \u001b[49m\u001b[43mstrict\u001b[49m\u001b[38;5;241;43m=\u001b[39;49m\u001b[43mstrict\u001b[49m\u001b[43m,\u001b[49m\n\u001b[0;32m    298\u001b[0m \u001b[43m        \u001b[49m\u001b[43mnan_to_null\u001b[49m\u001b[38;5;241;43m=\u001b[39;49m\u001b[43mnan_to_null\u001b[49m\u001b[43m,\u001b[49m\n\u001b[0;32m    299\u001b[0m \u001b[43m    \u001b[49m\u001b[43m)\u001b[49m\n\u001b[0;32m    301\u001b[0m \u001b[38;5;28;01melif\u001b[39;00m values \u001b[38;5;129;01mis\u001b[39;00m \u001b[38;5;28;01mNone\u001b[39;00m:\n",
      "File \u001b[1;32mo:\\Programs\\Python\\Python312\\Lib\\site-packages\\polars\\_utils\\construction\\series.py:144\u001b[0m, in \u001b[0;36msequence_to_pyseries\u001b[1;34m(name, values, dtype, strict, nan_to_null)\u001b[0m\n\u001b[0;32m    143\u001b[0m constructor \u001b[38;5;241m=\u001b[39m polars_type_to_constructor(dtype)\n\u001b[1;32m--> 144\u001b[0m pyseries \u001b[38;5;241m=\u001b[39m \u001b[43m_construct_series_with_fallbacks\u001b[49m\u001b[43m(\u001b[49m\n\u001b[0;32m    145\u001b[0m \u001b[43m    \u001b[49m\u001b[43mconstructor\u001b[49m\u001b[43m,\u001b[49m\u001b[43m \u001b[49m\u001b[43mname\u001b[49m\u001b[43m,\u001b[49m\u001b[43m \u001b[49m\u001b[43mvalues\u001b[49m\u001b[43m,\u001b[49m\u001b[43m \u001b[49m\u001b[43mdtype\u001b[49m\u001b[43m,\u001b[49m\u001b[43m \u001b[49m\u001b[43mstrict\u001b[49m\u001b[38;5;241;43m=\u001b[39;49m\u001b[43mstrict\u001b[49m\n\u001b[0;32m    146\u001b[0m \u001b[43m\u001b[49m\u001b[43m)\u001b[49m\n\u001b[0;32m    147\u001b[0m \u001b[38;5;28;01mif\u001b[39;00m dtype \u001b[38;5;129;01min\u001b[39;00m (\n\u001b[0;32m    148\u001b[0m     Date,\n\u001b[0;32m    149\u001b[0m     Datetime,\n\u001b[1;32m   (...)\u001b[0m\n\u001b[0;32m    155\u001b[0m     Decimal,\n\u001b[0;32m    156\u001b[0m ):\n",
      "File \u001b[1;32mo:\\Programs\\Python\\Python312\\Lib\\site-packages\\polars\\_utils\\construction\\series.py:331\u001b[0m, in \u001b[0;36m_construct_series_with_fallbacks\u001b[1;34m(constructor, name, values, dtype, strict)\u001b[0m\n\u001b[0;32m    330\u001b[0m \u001b[38;5;28;01melse\u001b[39;00m:\n\u001b[1;32m--> 331\u001b[0m     \u001b[38;5;28;01mreturn\u001b[39;00m \u001b[43mPySeries\u001b[49m\u001b[38;5;241;43m.\u001b[39;49m\u001b[43mnew_from_any_values_and_dtype\u001b[49m\u001b[43m(\u001b[49m\n\u001b[0;32m    332\u001b[0m \u001b[43m        \u001b[49m\u001b[43mname\u001b[49m\u001b[43m,\u001b[49m\u001b[43m \u001b[49m\u001b[43mvalues\u001b[49m\u001b[43m,\u001b[49m\u001b[43m \u001b[49m\u001b[43mdtype\u001b[49m\u001b[43m,\u001b[49m\u001b[43m \u001b[49m\u001b[43mstrict\u001b[49m\u001b[38;5;241;43m=\u001b[39;49m\u001b[43mstrict\u001b[49m\n\u001b[0;32m    333\u001b[0m \u001b[43m    \u001b[49m\u001b[43m)\u001b[49m\n",
      "\u001b[1;31mTypeError\u001b[0m: unexpected value while building Series of type Int64; found value of type String: \"id\"\n\nHint: Try setting `strict=False` to allow passing data with mixed types.",
      "\nDuring handling of the above exception, another exception occurred:\n",
      "\u001b[1;31mColumnNotFoundError\u001b[0m                       Traceback (most recent call last)",
      "Cell \u001b[1;32mIn[72], line 3\u001b[0m\n\u001b[0;32m      1\u001b[0m athlete_data \u001b[38;5;241m=\u001b[39m r\u001b[38;5;241m.\u001b[39mjson()\n\u001b[0;32m      2\u001b[0m athlete_data \u001b[38;5;241m=\u001b[39m pl\u001b[38;5;241m.\u001b[39mDataFrame([athlete_data])\n\u001b[1;32m----> 3\u001b[0m athlete_data \u001b[38;5;241m=\u001b[39m \u001b[43mathlete_data\u001b[49m\u001b[43m[\u001b[49m\u001b[43m[\u001b[49m\u001b[38;5;124;43m'\u001b[39;49m\u001b[38;5;124;43mid\u001b[39;49m\u001b[38;5;124;43m'\u001b[39;49m\u001b[43m,\u001b[49m\u001b[38;5;124;43m'\u001b[39;49m\u001b[38;5;124;43musername\u001b[39;49m\u001b[38;5;124;43m'\u001b[39;49m\u001b[43m,\u001b[49m\u001b[43m \u001b[49m\u001b[38;5;124;43m'\u001b[39;49m\u001b[38;5;124;43mfirstname\u001b[39;49m\u001b[38;5;124;43m'\u001b[39;49m\u001b[43m,\u001b[49m\u001b[43m \u001b[49m\u001b[38;5;124;43m'\u001b[39;49m\u001b[38;5;124;43mlastname\u001b[39;49m\u001b[38;5;124;43m'\u001b[39;49m\u001b[43m,\u001b[49m\u001b[43m \u001b[49m\u001b[38;5;124;43m'\u001b[39;49m\u001b[38;5;124;43mcity\u001b[39;49m\u001b[38;5;124;43m'\u001b[39;49m\u001b[43m,\u001b[49m\u001b[43m \u001b[49m\u001b[38;5;124;43m'\u001b[39;49m\u001b[38;5;124;43msex\u001b[39;49m\u001b[38;5;124;43m'\u001b[39;49m\u001b[43m,\u001b[49m\u001b[43m \u001b[49m\u001b[38;5;124;43m'\u001b[39;49m\u001b[38;5;124;43mweight\u001b[39;49m\u001b[38;5;124;43m'\u001b[39;49m\u001b[43m]\u001b[49m\u001b[43m]\u001b[49m\n",
      "File \u001b[1;32mo:\\Programs\\Python\\Python312\\Lib\\site-packages\\polars\\dataframe\\frame.py:1374\u001b[0m, in \u001b[0;36mDataFrame.__getitem__\u001b[1;34m(self, key)\u001b[0m\n\u001b[0;32m   1237\u001b[0m \u001b[38;5;28;01mdef\u001b[39;00m \u001b[38;5;21m__getitem__\u001b[39m(\n\u001b[0;32m   1238\u001b[0m     \u001b[38;5;28mself\u001b[39m,\n\u001b[0;32m   1239\u001b[0m     key: (\n\u001b[1;32m   (...)\u001b[0m\n\u001b[0;32m   1248\u001b[0m     ),\n\u001b[0;32m   1249\u001b[0m ) \u001b[38;5;241m-\u001b[39m\u001b[38;5;241m>\u001b[39m DataFrame \u001b[38;5;241m|\u001b[39m Series \u001b[38;5;241m|\u001b[39m Any:\n\u001b[0;32m   1250\u001b[0m \u001b[38;5;250m    \u001b[39m\u001b[38;5;124;03m\"\"\"\u001b[39;00m\n\u001b[0;32m   1251\u001b[0m \u001b[38;5;124;03m    Get part of the DataFrame as a new DataFrame, Series, or scalar.\u001b[39;00m\n\u001b[0;32m   1252\u001b[0m \n\u001b[1;32m   (...)\u001b[0m\n\u001b[0;32m   1372\u001b[0m \u001b[38;5;124;03m    └─────┴─────┴─────┘\u001b[39;00m\n\u001b[0;32m   1373\u001b[0m \u001b[38;5;124;03m    \"\"\"\u001b[39;00m\n\u001b[1;32m-> 1374\u001b[0m     \u001b[38;5;28;01mreturn\u001b[39;00m \u001b[43mget_df_item_by_key\u001b[49m\u001b[43m(\u001b[49m\u001b[38;5;28;43mself\u001b[39;49m\u001b[43m,\u001b[49m\u001b[43m \u001b[49m\u001b[43mkey\u001b[49m\u001b[43m)\u001b[49m\n",
      "File \u001b[1;32mo:\\Programs\\Python\\Python312\\Lib\\site-packages\\polars\\_utils\\getitem.py:169\u001b[0m, in \u001b[0;36mget_df_item_by_key\u001b[1;34m(df, key)\u001b[0m\n\u001b[0;32m    167\u001b[0m     \u001b[38;5;28;01mreturn\u001b[39;00m _select_rows(df, key)  \u001b[38;5;66;03m# type: ignore[arg-type]\u001b[39;00m\n\u001b[0;32m    168\u001b[0m \u001b[38;5;28;01mexcept\u001b[39;00m \u001b[38;5;167;01mTypeError\u001b[39;00m:\n\u001b[1;32m--> 169\u001b[0m     \u001b[38;5;28;01mreturn\u001b[39;00m \u001b[43m_select_columns\u001b[49m\u001b[43m(\u001b[49m\u001b[43mdf\u001b[49m\u001b[43m,\u001b[49m\u001b[43m \u001b[49m\u001b[43mkey\u001b[49m\u001b[43m)\u001b[49m\n",
      "File \u001b[1;32mo:\\Programs\\Python\\Python312\\Lib\\site-packages\\polars\\_utils\\getitem.py:217\u001b[0m, in \u001b[0;36m_select_columns\u001b[1;34m(df, key)\u001b[0m\n\u001b[0;32m    215\u001b[0m     \u001b[38;5;28;01mreturn\u001b[39;00m _select_columns_by_index(df, key)  \u001b[38;5;66;03m# type: ignore[arg-type]\u001b[39;00m\n\u001b[0;32m    216\u001b[0m \u001b[38;5;28;01melif\u001b[39;00m \u001b[38;5;28misinstance\u001b[39m(first, \u001b[38;5;28mstr\u001b[39m):\n\u001b[1;32m--> 217\u001b[0m     \u001b[38;5;28;01mreturn\u001b[39;00m \u001b[43m_select_columns_by_name\u001b[49m\u001b[43m(\u001b[49m\u001b[43mdf\u001b[49m\u001b[43m,\u001b[49m\u001b[43m \u001b[49m\u001b[43mkey\u001b[49m\u001b[43m)\u001b[49m  \u001b[38;5;66;03m# type: ignore[arg-type]\u001b[39;00m\n\u001b[0;32m    218\u001b[0m \u001b[38;5;28;01melse\u001b[39;00m:\n\u001b[0;32m    219\u001b[0m     msg \u001b[38;5;241m=\u001b[39m \u001b[38;5;124mf\u001b[39m\u001b[38;5;124m\"\u001b[39m\u001b[38;5;124mcannot select columns using Sequence with elements of type \u001b[39m\u001b[38;5;132;01m{\u001b[39;00mqualified_type_name(first)\u001b[38;5;132;01m!r}\u001b[39;00m\u001b[38;5;124m\"\u001b[39m\n",
      "File \u001b[1;32mo:\\Programs\\Python\\Python312\\Lib\\site-packages\\polars\\_utils\\getitem.py:269\u001b[0m, in \u001b[0;36m_select_columns_by_name\u001b[1;34m(df, key)\u001b[0m\n\u001b[0;32m    268\u001b[0m \u001b[38;5;28;01mdef\u001b[39;00m \u001b[38;5;21m_select_columns_by_name\u001b[39m(df: DataFrame, key: Iterable[\u001b[38;5;28mstr\u001b[39m]) \u001b[38;5;241m-\u001b[39m\u001b[38;5;241m>\u001b[39m DataFrame:\n\u001b[1;32m--> 269\u001b[0m     \u001b[38;5;28;01mreturn\u001b[39;00m df\u001b[38;5;241m.\u001b[39m_from_pydf(\u001b[43mdf\u001b[49m\u001b[38;5;241;43m.\u001b[39;49m\u001b[43m_df\u001b[49m\u001b[38;5;241;43m.\u001b[39;49m\u001b[43mselect\u001b[49m\u001b[43m(\u001b[49m\u001b[43mkey\u001b[49m\u001b[43m)\u001b[49m)\n",
      "\u001b[1;31mColumnNotFoundError\u001b[0m: \"id\" not found"
     ]
    }
   ],
   "source": [
    "athlete_data = r.json()\n",
    "athlete_data = pl.DataFrame([athlete_data])\n",
    "athlete_data = athlete_data[['id','username', 'firstname', 'lastname', 'city', 'sex', 'weight']]\n"
   ]
  },
  {
   "cell_type": "code",
   "execution_count": 93,
   "id": "9f9fac25",
   "metadata": {},
   "outputs": [
    {
     "name": "stdout",
     "output_type": "stream",
     "text": [
      "2025-05-05 20:26:47\n",
      "<built-in method now of type object at 0x00007FF84511FDA0>\n"
     ]
    },
    {
     "ename": "TypeError",
     "evalue": "'>' not supported between instances of 'datetime.datetime' and 'builtin_function_or_method'",
     "output_type": "error",
     "traceback": [
      "\u001b[1;31m---------------------------------------------------------------------------\u001b[0m",
      "\u001b[1;31mTypeError\u001b[0m                                 Traceback (most recent call last)",
      "Cell \u001b[1;32mIn[93], line 3\u001b[0m\n\u001b[0;32m      1\u001b[0m \u001b[38;5;28mprint\u001b[39m(expires_at)\n\u001b[0;32m      2\u001b[0m \u001b[38;5;28mprint\u001b[39m(datetime\u001b[38;5;241m.\u001b[39mnow)\n\u001b[1;32m----> 3\u001b[0m \u001b[43mexpires_at\u001b[49m\u001b[43m \u001b[49m\u001b[38;5;241;43m>\u001b[39;49m\u001b[43m \u001b[49m\u001b[43mdatetime\u001b[49m\u001b[38;5;241;43m.\u001b[39;49m\u001b[43mnow\u001b[49m\n",
      "\u001b[1;31mTypeError\u001b[0m: '>' not supported between instances of 'datetime.datetime' and 'builtin_function_or_method'"
     ]
    }
   ],
   "source": [
    "print(expires_at)\n",
    "print(datetime.now)\n",
    "expires_at > datetime.now"
   ]
  },
  {
   "cell_type": "code",
   "execution_count": null,
   "id": "76af6110",
   "metadata": {},
   "outputs": [
    {
     "data": {
      "text/html": [
       "<div><style>\n",
       ".dataframe > thead > tr,\n",
       ".dataframe > tbody > tr {\n",
       "  text-align: right;\n",
       "  white-space: pre-wrap;\n",
       "}\n",
       "</style>\n",
       "<small>shape: (1, 7)</small><table border=\"1\" class=\"dataframe\"><thead><tr><th>id</th><th>username</th><th>firstname</th><th>lastname</th><th>city</th><th>sex</th><th>weight</th></tr><tr><td>i64</td><td>str</td><td>str</td><td>str</td><td>str</td><td>str</td><td>f64</td></tr></thead><tbody><tr><td>6996379</td><td>&quot;anish_joni&quot;</td><td>&quot;Anish&quot;</td><td>&quot;Joni&quot;</td><td>&quot;Toronto&quot;</td><td>&quot;M&quot;</td><td>79.4</td></tr></tbody></table></div>"
      ],
      "text/plain": [
       "shape: (1, 7)\n",
       "┌─────────┬────────────┬───────────┬──────────┬─────────┬─────┬────────┐\n",
       "│ id      ┆ username   ┆ firstname ┆ lastname ┆ city    ┆ sex ┆ weight │\n",
       "│ ---     ┆ ---        ┆ ---       ┆ ---      ┆ ---     ┆ --- ┆ ---    │\n",
       "│ i64     ┆ str        ┆ str       ┆ str      ┆ str     ┆ str ┆ f64    │\n",
       "╞═════════╪════════════╪═══════════╪══════════╪═════════╪═════╪════════╡\n",
       "│ 6996379 ┆ anish_joni ┆ Anish     ┆ Joni     ┆ Toronto ┆ M   ┆ 79.4   │\n",
       "└─────────┴────────────┴───────────┴──────────┴─────────┴─────┴────────┘"
      ]
     },
     "execution_count": 4,
     "metadata": {},
     "output_type": "execute_result"
    }
   ],
   "source": [
    "athlete_data"
   ]
  },
  {
   "cell_type": "code",
   "execution_count": 216,
   "id": "6a925ffa",
   "metadata": {},
   "outputs": [],
   "source": [
    "# Request activities data from Strava API\n",
    "activities_url = 'https://www.strava.com/api/v3/athlete '\n",
    "headers = {'Authorization': f'Bearer {access_token}'}\n",
    "param = {'per_page' : 200, 'page' : 2}\n",
    "\n",
    "activities = requests.get(url=activities_url, headers=headers).json()  "
   ]
  },
  {
   "cell_type": "code",
   "execution_count": 217,
   "id": "ffd7c76b",
   "metadata": {},
   "outputs": [
    {
     "data": {
      "text/plain": [
       "'87bfd70f523883ac4dc25143a2e3616755579875'"
      ]
     },
     "execution_count": 217,
     "metadata": {},
     "output_type": "execute_result"
    }
   ],
   "source": [
    "access_token"
   ]
  },
  {
   "cell_type": "code",
   "execution_count": 218,
   "id": "30cd3432",
   "metadata": {},
   "outputs": [
    {
     "data": {
      "text/plain": [
       "{'message': 'Record Not Found',\n",
       " 'errors': [{'resource': 'resource', 'field': 'path', 'code': 'invalid'}]}"
      ]
     },
     "execution_count": 218,
     "metadata": {},
     "output_type": "execute_result"
    }
   ],
   "source": [
    "activities"
   ]
  },
  {
   "cell_type": "code",
   "execution_count": null,
   "id": "e44938b4",
   "metadata": {},
   "outputs": [
    {
     "data": {
      "text/plain": [
       "{'message': 'Authorization Error',\n",
       " 'errors': [{'resource': 'AccessToken',\n",
       "   'field': 'activity:read_permission',\n",
       "   'code': 'missing'}]}"
      ]
     },
     "execution_count": 6,
     "metadata": {},
     "output_type": "execute_result"
    }
   ],
   "source": [
    "activities.json()"
   ]
  },
  {
   "cell_type": "code",
   "execution_count": null,
   "id": "413de204",
   "metadata": {},
   "outputs": [],
   "source": [
    "athlete_data.write_csv('strava_athlete.csv')"
   ]
  }
 ],
 "metadata": {
  "kernelspec": {
   "display_name": "strava_env",
   "language": "python",
   "name": "python3"
  },
  "language_info": {
   "codemirror_mode": {
    "name": "ipython",
    "version": 3
   },
   "file_extension": ".py",
   "mimetype": "text/x-python",
   "name": "python",
   "nbconvert_exporter": "python",
   "pygments_lexer": "ipython3",
   "version": "3.12.10"
  }
 },
 "nbformat": 4,
 "nbformat_minor": 5
}
