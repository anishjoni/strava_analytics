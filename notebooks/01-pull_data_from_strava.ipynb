{
 "cells": [
  {
   "cell_type": "code",
   "execution_count": 1,
   "id": "a99303ed",
   "metadata": {},
   "outputs": [],
   "source": [
    "# Importing libraries\n",
    "import requests\n",
    "import json\n",
    "import polars as pl\n",
    "from datetime import datetime\n",
    "from utils import load_tokens, save_tokens, refresh_token_if_needed\n",
    "import plotnine\n",
    "#from dataprep.eda import create_report"
   ]
  },
  {
   "cell_type": "code",
   "execution_count": 3,
   "id": "6ac63a6d",
   "metadata": {},
   "outputs": [
    {
     "name": "stdout",
     "output_type": "stream",
     "text": [
      "No token refresh needed.\n"
     ]
    }
   ],
   "source": [
    "# Load token from persisted JSON\n",
    "token = load_tokens()\n",
    "\n",
    "# Initial authentication\n",
    "access_token = refresh_token_if_needed(token['client_id'], ['client_secret'])\n",
    "\n",
    "# Request activities data from Strava API\n",
    "activities_url = 'https://www.strava.com/api/v3/athlete/activities'\n",
    "headers = {'Authorization': f'Bearer {access_token}'}\n",
    "\n",
    "# Loop through pages to get all activities\n",
    "activities = []\n",
    "\n",
    "page = 1\n",
    "while True:\n",
    "    response = requests.get(url     =   activities_url,\n",
    "                            headers =   headers, \n",
    "                            params  =   {'per_page' : 100, 'page' : page}).json()\n",
    "    \n",
    "    if not response:\n",
    "        break\n",
    "    activities.extend(response)\n",
    "    page += 1\n",
    "\n",
    "activities = pl.DataFrame(activities)"
   ]
  },
  {
   "cell_type": "markdown",
   "id": "494ab206",
   "metadata": {},
   "source": [
    "**Identify units for Strava data**\n",
    "|     Metric            | Unit              |\n",
    "|-----------------------|-------------------|\n",
    "|distance               | meters            |\n",
    "|moving_time            | seconds           |\n",
    "|total_elevation_gain   | meters            |\n",
    "|average_speed          | meters per second |\n",
    "|max_speed              | meters per second |"
   ]
  },
  {
   "cell_type": "code",
   "execution_count": 4,
   "id": "a956f45e",
   "metadata": {},
   "outputs": [],
   "source": [
    "# Data cleaning\n",
    "activities_curated = activities[\"id\",\n",
    "                                \"name\",\n",
    "                                \"distance\", \n",
    "                                \"moving_time\", \n",
    "                                \"total_elevation_gain\", \n",
    "                                \"sport_type\",\n",
    "                                \"start_date_local\", \n",
    "                                \"gear_id\", \n",
    "                                \"start_latlng\", \n",
    "                                \"end_latlng\",\n",
    "                                \"average_speed\", \n",
    "                                \"max_speed\", \n",
    "                                \"pr_count\"]\n",
    "\n",
    "columns_to_drop = ['distance', 'moving_time', 'id', 'name', 'max_speed', 'average_speed']\n",
    "\n",
    "activities_curated= activities_curated.with_columns(\n",
    "    activity_id             =  pl.col('id'),\n",
    "    activity_name           =  pl.col('name'),\n",
    "    distance_km             = (pl.col('distance')/1000).round(2),\n",
    "    moving_time_hr          = (pl.col('moving_time')/60/60).round(2),\n",
    "    average_speed_km_per_hr = (pl.col('average_speed')*3.6).round(2),\n",
    "    max_speed_km_per_hr     = (pl.col('max_speed')*3.6).round(2),\n",
    ").drop(columns_to_drop)\n",
    "\n",
    "# Data coercing\n",
    "activities_curated = activities_curated.with_columns(\n",
    "    pl.col('activity_id').cast(pl.Int64),\n",
    "    pl.col('gear_id').cast(pl.Categorical),\n",
    "    pl.col('activity_name').cast(pl.Categorical),\n",
    "    pl.col('sport_type').cast(pl.Categorical),\n",
    "    pl.col('start_date_local').cast(pl.Datetime)\n",
    "\n",
    ")"
   ]
  },
  {
   "cell_type": "code",
   "execution_count": 5,
   "id": "8aec8d79",
   "metadata": {},
   "outputs": [
    {
     "name": "stdout",
     "output_type": "stream",
     "text": [
      "Rows: 420\n",
      "Columns: 51\n",
      "$ resource_state                      <i64> 2, 2, 2, 2, 2, 2, 2, 2, 2, 2\n",
      "$ athlete                       <struct[2]> {'id': 6996379, 'resource_state': 1}, {'id': 6996379, 'resource_state': 1}, {'id': 6996379, 'resource_state': 1}, {'id': 6996379, 'resource_state': 1}, {'id': 6996379, 'resource_state': 1}, {'id': 6996379, 'resource_state': 1}, {'id': 6996379, 'resource_state': 1}, {'id': 6996379, 'resource_state': 1}, {'id': 6996379, 'resource_state': 1}, {'id': 6996379, 'resource_state': 1}\n",
      "$ name                                <str> 'Friday early ride!🏞️', 'Evening Walk', 'Quick 10!', 'Afternoon Walk', '20K along the canal 🏞️', 'Morning Ride', 'Morning Walk', 'Morning Run', 'Port Dalhousie sunrise', 'First ride in Nicasio +'\n",
      "$ distance                            <f64> 10272.6, 1327.4, 10208.0, 3182.6, 20550.0, 15950.8, 1213.3, 963.7, 9518.0, 10092.8\n",
      "$ moving_time                         <i64> 2327, 1218, 2072, 2950, 4511, 4284, 857, 391, 2569, 2297\n",
      "$ elapsed_time                        <i64> 2590, 1590, 2116, 355852, 4633, 4989, 857, 391, 3033, 2542\n",
      "$ total_elevation_gain                <f64> 22.9, 0.0, 11.6, 3.6, 51.1, 50.7, 3.8, 0.0, 22.8, 12.2\n",
      "$ type                                <str> 'Ride', 'Walk', 'Ride', 'Walk', 'Ride', 'Ride', 'Walk', 'Run', 'Ride', 'Ride'\n",
      "$ sport_type                          <str> 'Ride', 'Walk', 'Ride', 'Walk', 'Ride', 'Ride', 'Walk', 'Run', 'Ride', 'Ride'\n",
      "$ workout_type                        <i64> 10, None, 10, None, 10, 10, None, 0, 12, 12\n",
      "$ id                                  <i64> 14501529917, 14483079342, 14461863801, 14461614687, 14415009088, 14384045503, 14354540897, 14354395722, 14342156475, 14336914052\n",
      "$ start_date                          <str> '2025-05-16T19:01:52Z', '2025-05-14T22:07:48Z', '2025-05-13T00:05:20Z', '2025-05-08T21:14:11Z', '2025-05-08T10:56:40Z', '2025-05-05T10:38:13Z', '2025-05-02T13:36:03Z', '2025-05-02T13:27:31Z', '2025-05-01T09:58:17Z', '2025-04-30T20:18:07Z'\n",
      "$ start_date_local                    <str> '2025-05-16T15:01:52Z', '2025-05-14T18:07:48Z', '2025-05-12T20:05:20Z', '2025-05-08T17:14:11Z', '2025-05-08T06:56:40Z', '2025-05-05T06:38:13Z', '2025-05-02T09:36:03Z', '2025-05-02T09:27:31Z', '2025-05-01T05:58:17Z', '2025-04-30T16:18:07Z'\n",
      "$ timezone                            <str> '(GMT-05:00) America/Toronto', '(GMT-05:00) America/Toronto', '(GMT-05:00) America/Toronto', '(GMT-05:00) America/Toronto', '(GMT-05:00) America/Toronto', '(GMT-05:00) America/Toronto', '(GMT-05:00) America/Toronto', '(GMT-05:00) America/Toronto', '(GMT-05:00) America/Toronto', '(GMT-05:00) America/Toronto'\n",
      "$ utc_offset                          <f64> -14400.0, -14400.0, -14400.0, -14400.0, -14400.0, -14400.0, -14400.0, -14400.0, -14400.0, -14400.0\n",
      "$ location_city                      <null> None, None, None, None, None, None, None, None, None, None\n",
      "$ location_state                     <null> None, None, None, None, None, None, None, None, None, None\n",
      "$ location_country                   <null> None, None, None, None, None, None, None, None, None, None\n",
      "$ achievement_count                   <i64> 5, 0, 5, 0, 5, 5, 0, 0, 5, 1\n",
      "$ kudos_count                         <i64> 1, 0, 2, 2, 2, 1, 0, 1, 1, 1\n",
      "$ comment_count                       <i64> 0, 0, 0, 0, 0, 0, 0, 0, 0, 0\n",
      "$ athlete_count                       <i64> 1, 1, 1, 1, 1, 1, 1, 1, 1, 1\n",
      "$ photo_count                         <i64> 0, 0, 0, 0, 0, 0, 0, 0, 0, 0\n",
      "$ map                           <struct[3]> {'id': 'a14501529917', 'summary_polyline': 'mirfGzxsbN{CTa@@uAEkA@_@B_AAyGP{BJeB@m@Bu@Ak@FyAD{@HwFJ}@F}GH_ADkDFa@?eADsCBwENkHNwCL{@AmA@s@GAP@FVb@jAhCpA|ChCvFdAjClDjIZ`AhBtGp@tCxAbFlAzERz@Vr@Pt@xB|Hd@nBrAhER|@~@dDJb@\\\\bAdAfEZz@V~@N\\\\LNVR`@Ph@HbBJj@FFTARQ^m@z@o@tA_AzAm@lAoAxBeBfD]v@M^Id@OzDOfAGR_@l@WTs@Zg@L[DY@oACg@Iu@YcAUe@GoAIY?u@Bw@Og@i@k@_@KCG@SJOBG@GCg@c@w@aAi@a@I?QPG@i@c@[QIAq@d@E@KCECEQEe@Q_AIKUG]?m@J_B?oDF{@HaA?mBNiA@}BFkDRe@Ai@Nm@Ce@@ADFDH@|@CfBMvCGfAKN?d@CdB?j@IjCIjCWd@@d@Av@@`BK^?~@BdAd@BPCb@BNDJj@r@Qj@?PBNRTn@`@r@^NLFR?JKd@BXdAdBf@b@FEZi@LK^m@z@iANSRIT?d@Bl@Jh@DfARpBh@~@D`@CbASjAm@\\\\[NWN[No@Hg@ViEF_@HWz@aBVc@PSZq@t@kAdDqG~@uAn@qA`@gARoAJcAPu@N]n@_AlByAvAsAnDwCvAoAlCuBh@c@fAiAt@g@^Kj@_@d@i@f@g@vAiA?E^Yh@m@^Up@o@\\\\WPQjCuBDADFj@g@d@Yx@Ol@Eh@?~@DFCV?lBOf@Cl@@DALQ`@kANIBKl@kAt@_BN{@hA_CVw@Xg@FY`AqAZ{@Nq@d@aARUbAeCkAaGO[g@sBAQHI?EEmAi@sBM{@', 'resource_state': 2}, {'id': 'a14483079342', 'summary_polyline': 'wxqfGbxsbNG@EACBCE?BDCCCABQBEHOHMDYESO_@GO@YCSBOCO@EAUBMFU@KFWGo@Ac@Ja@AKA[@UC_@JI@ACOBAAO?c@BIBMAf@C\\\\@XGJBJAEBACNHBGb@G@G@JH@LG@@?CB@HAXFn@ER@PCTBVSHBHCHDLETAz@PJA@CACJDd@GHOBBDAHDDFF?@BDECGB@J?', 'resource_state': 2}, {'id': 'a14461863801', 'summary_polyline': 'w|qfGpprbNgB{GKo@Uu@o@{CS_@SaAMa@UkAuAyE_@gBQe@i@aCs@iCe@sB]iAe@_Ci@oBKUg@eCaAmDSk@WgAGIk@gC_AaDI_AYs@Mk@?CBDE]Uq@Ua@s@}CIe@Q_@O}@Yy@o@sCg@iBIg@g@_Bk@mCEIeAoEUu@WoAWs@g@gC]wAUw@OaAw@yCG_@?SCUIWIOGYO_@q@mDEQU]My@YkAU_@Wq@o@wC_@wAQs@y@uCWsAIWEEE@MJE@IW?CDCg@PyBlAs@Xe@Zw@Xm@^gAd@}Av@s@Z_@J_@PWF}Al@_B`@yAd@gEdAkA`@eD~@g@To@N[Ba@H_Bf@u@JQHm@Nq@VqBd@o@R}@^cAVoC`A{AX]LGFe@PcCn@O\\\\OLcARaCn@kA`@wAXwE|Ak@LeA\\\\K?SSGAWA_@Be@EuC`@kAVKHq@dAQd@CNNfADH@KDFDp@jAfGT`BVhAFb@R`A?@EFAKK?KBIJCH@JVrAX|BPx@HP@VZnADf@pAxF^hCh@hCAC?TPdAx@dGd@dCL\\\\nAlIVlA|@lD`@lBZfAJTn@jBJTT\\\\d@jAHVvA|C^nAj@zAPn@x@zBxAjC\\\\z@nAjCfBtENd@`@v@zB~Fz@nBt@tBlAhCx@tBNXXr@Vv@d@hAXj@vA|DjAbCTn@@FAA?@h@ANLH@H?PMRA^Ml@Cp@A`ABxAMV@lAI`B?`@ElBCd@Il@DlA?nDStBAvBKx@Ab@B\\\\CX@~@AZB~@CrCQrDIbABl@Ab@Gf@BlBMZEdBC\\\\Gh@?zADpDGR@bAOtAAr@GnBGp@@bBCrA?fAGlEKfBM', 'resource_state': 2}, {'id': 'a14461614687', 'summary_polyline': '{qpfGdvsbNhAMX@RFX?REL?PC\\\\?\\\\GT@RDFCp@Gh@@RADBFADEJB@BP?DDADG@?`@Df@?A@`@Df@A|@CN?f@BF@RALEHS|AK`@El@Kh@PDNGJ?PFNJBHCXB@G`@FTNHJBJADGJ?BBCVIZKVK^B@AL@CFBNHBDAL@BE??@F@OAFAAF@GAFGDBE@BALBADKBBGABE?F?I@@EMJU?NCDFDEE?D@@HKOLi@n@HQCJd@a@JM{@~@@CAAM?@YLWZCBLBC@EKCCGGCFF?Ed@|AA^SfAO?SKUIG@EFBCA??AE@@?CBB?C@DGGLBKHBNCPBBAP@BCA?BADMF@BGHmBGOASBMCEWKK@?CRwBEMIGQAGBEACDSM[?CISIEIENKAEGKEEEWIQ@IKa@WSGGBBDD?ICH@BE@P?I@F@CCBIZAd@OCSGSCEAB?AHFEDSDI?GMQM?ACGDCZAABCAa@BSJFI?DD?@I?H??BC@@EEEDGVFNALFNA@Q@ECHED@CD@PGPDBAAACBSCSIGK?S@KECD[T}@LiA?EACBOCG@SCGMMAIVe@AU@MJ_@P[CWCE_@?A@UEq@DMCS@ODY?GBOEWFU?EAYBMAACKASFe@EM?MKMAIDQBe@@[Hc@EO@c@As@Be@Cw@BEEIASFYDI?@CF??ODSCCSBk@AK?MFS?YC', 'resource_state': 2}, {'id': 'a14415009088', 'summary_polyline': 's|qfGxprbNsBiIUeA{ByIq@uCgCyJY{@iCgKkByGa@gBu@iCO{@cAoD_@cBGe@e@{AAQWs@Y_BYe@eFoSi@gCiBiHoBsIc@sAw@aDAc@[cBUo@SYUqASg@s@yCUo@eA_Ew@oD_AaDO{@@KIg@KU_@VG[@MBC^ObBoAvAw@`Cy@|C}A|@U|CeB`DuA~@k@lCm@zAyApA{@BGAm@FKtBs@pBcAtD}A`KeFhFuBrCw@pCo@hGaAnV{AdD]fFW`Js@lBGpBW`EUPDTRh@G|@?lAMj@Ov@a@nIk@lH_@nA?jB`Ah@Jf@Bp@UXUXa@\\\\UjBCx@Nz@a@xAGx@FpEl@ZIn@y@j@g@f@SvDTtC}@p@K|DVb@GhFgB|@GbAFvAIvAO^IXMhBSXDXr@NBfBSz@?pBOj@Df@ELE^a@?QYd@UPo@?MGCQCqBNKDJ?l@DXJCXWLC~ABnGShB?xFOrAGdDe@~Ga@z@Bb@SfBEx@MbCOz@[`@GVF`@pBl@nAPPTFJAXm@HKpAWh@u@hCU`@a@^KhBIbPGxAB`@A@GKCWJ}DEsF@cFDcBHSHm@h@w@BoANMNIZIFq@Bc@V[p@KHm@q@i@oA]aBEGOGgA`@wAT}DXq@HWL{@IsEN{En@_DR_ILeFPiC?IDQXE?EG@WEq@KMUAkHj@MXG|@CHWFw@CiATiB`Ae@\\\\uBd@kAFa@\\\\S?BDVAl@_@|@GfCm@`@a@l@SVQSIk@L_CLwCBQByBbA{Bd@oDS}@NmCv@kCSs@Be@RaAfA_@V_AScD[_CJmA^]Q]E}AFg@LkAhAq@Fc@CiBcAk@O]H_A@UFsCLiCVuETwAPw@b@u@JeDNe@YaCJi\\\\~B}EV_N`AgE^}BZeAZkCb@cFxAwBv@iGdD_A`@}BnAeDrAgAj@cAZiBv@EDB@Fj@?JCFsAr@kAhAa@V{Cr@gDbB{@j@eBv@gBh@q@^oEdBsBhAsBfBmB`Ac@NHBzA}@j@SFN@PLHLb@TVjBvHX`B`ApD^hAdAtEAVDTJ^Xh@d@hBrB`JjAhEXzAPh@nBvHlAtFz@tC^lB`@xAh@dCFl@ZlAhAhEVZLd@p@xCjCxJ~AdHzArFn@xCz@vC^pB`@hB\\\\bAD^V`@N^Jr@~AzGvAhFlAbFt@jClAhFfC|J', 'resource_state': 2}, {'id': 'a14384045503', 'summary_polyline': 'uyqfGhxsbNmGLeBAcAFkJLuAHmGHiFPgEDgBDsBPuC@_BHmB?i@FiC?sAFyBBaHRe@FaC?}HTwGLeAGgAR}CBy@FiKBqCTuAIy@@}E\\\\g@Gk@FgACiCJaAPUSOo@Wi@oAmCSYk@mAi@w@c@}@m@_AqBsDYa@YWMUCIBc@AYMYOKOa@Ow@KWEo@i@w@c@aBMy@U?XVRj@Br@Vl@d@n@H~@ZrARb@TPBZA`@DRt@|@r@fAn@rAlDdGdBhDb@dALr@LNAZBX\\\\z@`@n@d@j@z@l@RZf@f@Ft@P`@X^Zt@VlAZbAbAzBd@b@Tv@`@|@Px@LP\\\\FLUHW^_@x@R`A?dEQNGn@g@X]VKDBh@z@`@RzAJxAAb@FjD[dCGr@I\\\\BpAEnCA`@KTWHHd@dArAlDNx@z@|CXzAtA|Ep@jBj@nCTp@KPyA?qBR_GVaD?uBFcETcA?mCLqBA]HKGKPDHPBJZ?fBHjABnAG~@PhCMj@AXh@tDPxBHdDP~BHnB?l@CFB?Cv@?bC^hCH\\\\JXlAjAz@f@TDb@AND@HENKJYDMJwBXm@PKLMr@@DNO|@WVc@FAnBMnAW|@Ix@UbDs@rBCbBH|@EHD?b@HZKX@FVJjA|@nAv@`@b@^PHPb@@lAh@~@Xj@FlCt@ZPBEKQFHDCDQGPQxDE\\\\Mb@KDUW{@Wm@c@SGGMEAsBO{GcAuAOK@CD?Tf@~@@`@FVJP^VCPKHq@i@[AkB_AYDYIWBICEWCAIBAF@JFCR[CKMKsDeC_Bi@oAFq@CyBNiACwBLuA@mIh@wB?yCXq@GBAMDh@FhBOzA?d@I~BEfDWrFGjEMxBKXxCXtBRfCp@pCXbB`@b@Lb@@NB?WaAg@g@MgA?OLOt@m@Jk@N]RyADEx@XFH@TEh@Bb@^p@f@t@L?DJB?TEd@]f@w@VQp@aANK`DLjDx@~@HxAS~@]`@W`@g@Vg@Ja@\\\\yFNm@p@uAlDgGf@cA^aArAmBhAcCRSL?FIHc@Ac@Li@NqAd@_B`@s@jByAt@q@t@i@`B{A`BmAfC_CpCuB|@y@p@[nAu@rB}B|AwAj@e@rBmBfBuAHCBFDATWVMnBm@hD@bAI~BCHKPw@P_@h@WNe@dAsBjA}CfAaC|@aB|AsDf@aAVm@HMFDXc@}EaT', 'resource_state': 2}, {'id': 'a14354540897', 'summary_polyline': 'y~rfGhzsbNb@?\\\\Kt@HHEX@VGTBXED@`@E~@?@@EEPDRKZ@`@Ch@@f@CZFXE\\\\?ZGn@?VDTGf@Bb@I^FL?D@FCRAh@K\\\\Cp@BVCZDXEPBj@GD@PABBJA@BNE', 'resource_state': 2}, {'id': 'a14354395722', 'summary_polyline': 'qvqfGxwsbNOCY@k@FMCU@OA{@DOBg@EY@YDa@?[Co@F[IYDWA[Fs@Do@@{A?c@HQEQ?UE[Fk@AQBSJw@Ci@Dc@C[FMA', 'resource_state': 2}, {'id': 'a14342156475', 'summary_polyline': 'sjqfGlgtbNLl@ZfAB\\\\Jp@PVHVBb@Rt@DXPh@j@jCHf@Vt@?REN]j@yBlFeAxBWr@_@n@}@zB{AzCkApCEDi@ByAEyBDIA_@?gABQDoBHkB?_@F_@C]BYC]FkABwA@Y?OCo@BAHBRJ^YH?TL^Dh@pAdE@Pm@`@qChC_FbEo@b@k@j@iA`Ai@^_@\\\\g@^q@l@aAt@kAfAiBxA[Xq@`AUj@]nAStA_@p@CRO\\\\Kh@q@jAiAzB}AjCw@~AcCjESd@QdAUxDK~@Wn@QXQPSLg@Rq@TUDU@[ASEo@EuBi@[E{CSO?YDIAYSu@_@WUSI]G]NI?SIOQOo@OYUSu@]IIAM@QOUQCYQ_Aa@UME@[Cs@BcBHOAcAJ}AB_ENcA?}@DyA@e@BMBY@OD[BGC?CCLODWGi@D_@GEBIADCHBG?OBuABg@Fa@?KB@DDCHJNKX@|AIh@B^EpAE~@Kx@?ZGr@C`@AZDJATIp@@j@IT@VCRB`BKLBl@IpACLARKRBLEx@CNJFRF~@NbAf@vEJ~@Lf@Bf@Jh@ADE@GGJS?Yd@FZGFGRaATg@F}@DODAL@JD\\\\ZFLCl@Db@x@jAVf@BBF@JALGZ]^_@R_@v@aANK\\\\AhBDx@FzCr@~@Dr@EZG~Au@^_@P[JUNw@JkA?FDR?kBP_BDSTi@j@cANSr@{Ad@y@Xa@TIBEFQ?WL[TUN]rAeCj@u@Ni@b@i@HUNUHSDWVaCJg@Lc@Vg@C@DKR[DWh@Sh@_@ACX_@BKZC?YP?^OfCwBd@YFOd@a@VIHGNSZIJK@IJOl@k@j@MR[DSBEh@[ZYXK\\\\]NUtAy@^_@PWb@[d@m@TORG^WhAeAb@]d@i@|CaCDADFNSt@a@ZMh@Mz@EjA@zAELCt@?xAGFCZgALUFEVu@VIPUlCgGRk@Ve@`@o@Tm@`@y@Ne@rAuCv@}A@KAOUkALU?WCMgAuE]eBa@_Bo@wC', 'resource_state': 2}, {'id': 'a14336914052', 'summary_polyline': '{zqfGhvrbNOc@i@cCg@gBaBiH{B_JMw@KWm@gCiB{Ga@eBw@iCo@sCIQu@aDyAiFu@_DcBoGc@iBEa@g@cBGa@IUq@oCSe@]}A}@aDu@gDeA{DUmAeA{De@_Ck@sBg@{Ba@}AMs@Sm@Q}@Sw@ASWs@Qy@MiAMUKc@w@sD[y@Ei@i@cBOUUy@oCmKWsAAWMi@GGG?[NCG?MCGk@RmEtB}Az@]Vo@VKHc@NUB}Ax@eA^eAd@iCn@yBt@{@Rs@Tg@HcCt@s@N[Nq@Nq@V[DGDqAXaEnAgANo@XeCp@qBl@[FWHk@Lo@XYHi@FcCx@a@HKJU^KFU@cA^oAZcDdAq@LaCt@YFi@P]FUJw@RM?YUMAU@c@Ra@d@G@M@OEMGKAe@VWVMAHWAKIGM?i@FWHGDINIXORMJEJIP?XJh@BXtAlIZtB`@dBB?F^AF]BIJDf@Jn@TpB\\\\vA@BJB@FRhBTzAp@tCpAnHDx@tDdVVtAr@jCVrAb@~Ad@xAlAzCdAxCzBrFZ~@xAhDz@fBn@`BXj@`AhCR^v@lBRr@rApCrApDx@bB^hAx@dBz@pBj@rAn@tBxAbD`@fAv@fBt@lBFVDBTf@@ABBA?AK@CXHLLLF^MXDJA\\\\Ot@BhAMjIMjCK|A?vAGpCC`@ExCChDM~CCxAEN?@Bn@Id@@dDMh@?FHD@~ASpCK|BCdCKpDG|E?|DMZCGBnFOT@XCl@An@@v@GhBC', 'resource_state': 2}\n",
      "$ trainer                            <bool> False, False, False, False, False, False, False, False, False, False\n",
      "$ commute                            <bool> False, False, False, False, False, False, False, False, False, False\n",
      "$ manual                             <bool> False, False, False, False, False, False, False, False, False, False\n",
      "$ private                            <bool> False, True, False, False, False, False, True, False, False, False\n",
      "$ visibility                          <str> 'everyone', 'only_me', 'everyone', 'everyone', 'everyone', 'everyone', 'only_me', 'everyone', 'everyone', 'everyone'\n",
      "$ flagged                            <bool> False, False, False, False, False, False, False, False, False, False\n",
      "$ gear_id                             <str> 'b9747906', None, 'b15965201', None, 'b15965201', 'b15965201', 'g17360762', 'g17360762', 'b15965201', 'b15965201'\n",
      "$ start_latlng                  <list[f64]> [43.188027, -79.24132], [43.185118, -79.240331], [43.185688, -79.238113], [43.18215, -79.240976], [43.186056, -79.237056], [43.185237, -79.240003], [43.194552, -79.24155], [43.18496, -79.241069], [43.185268, -79.239972], [43.186227, -79.236506]\n",
      "$ end_latlng                    <list[f64]> [43.185231, -79.239928], [43.18532, -79.240045], [43.185237, -79.239943], [43.185419, -79.238815], [43.185262, -79.239991], [43.185216, -79.239966], [43.185225, -79.239991], [43.193502, -79.241552], [43.185299, -79.239944], [43.185265, -79.239967]\n",
      "$ average_speed                       <f64> 4.415, 1.09, 4.927, 1.079, 4.556, 3.723, 1.416, 2.465, 3.705, 4.394\n",
      "$ max_speed                           <f64> 10.24, 2.5, 10.12, 7.52, 9.96, 9.02, 2.42, 3.17, 9.18, 9.24\n",
      "$ average_watts                       <f64> 50.6, None, 102.7, None, 95.2, 82.4, None, None, 85.1, 95.1\n",
      "$ device_watts                       <bool> False, None, False, None, False, False, None, None, False, False\n",
      "$ kilojoules                          <f64> 117.7, None, 212.9, None, 429.3, 352.9, None, None, 218.6, 218.4\n",
      "$ has_heartrate                      <bool> False, False, False, False, False, False, False, False, False, False\n",
      "$ heartrate_opt_out                  <bool> False, False, False, False, False, False, False, False, False, False\n",
      "$ display_hide_heartrate_option      <bool> False, False, False, False, False, False, False, False, False, False\n",
      "$ elev_high                           <f64> 95.1, 95.1, 95.5, 99.8, 123.2, 95.1, 95.1, 95.1, 95.1, 95.5\n",
      "$ elev_low                            <f64> 75.5, 93.6, 83.4, 94.8, 88.1, 75.5, 91.3, 91.9, 75.5, 82.8\n",
      "$ upload_id                           <i64> 15471949333, 15452148891, 15429738179, 15429475933, 15380185711, 15347737578, 15316665182, 15316511840, 15303667345, 15298202094\n",
      "$ upload_id_str                       <str> '15471949333', '15452148891', '15429738179', '15429475933', '15380185711', '15347737578', '15316665182', '15316511840', '15303667345', '15298202094'\n",
      "$ external_id                         <str> 'f706098b-6788-4d34-bf94-e0cc38777cdf-activity.fit', '70e1b8cb-91dc-4168-8705-f130be38f3e9-activity.fit', 'ec4e3344-27b5-44cb-9a60-d00953a655da-activity.fit', '90459d8e-0c09-4323-8fbe-3ce2a3cf7fdc-activity.fit', '782ef1b2-8c5a-4882-8cd6-5fc1cc7017f2-activity.fit', '80e8adea-faa1-4cb1-92c1-d37f73fd0dda-activity.fit', 'bcb58422-9295-4df6-8bda-e71ff3e5a9b0-activity.fit', '51b72b92-9efe-4ca1-802e-c32461014d98-activity.fit', 'ff4ad895-7b08-432a-9b50-71679c0ee63f-activity.fit', '4223536a-80af-418b-8187-d135c5e35574-activity.fit'\n",
      "$ from_accepted_tag                  <bool> False, False, False, False, False, False, False, False, False, False\n",
      "$ pr_count                            <i64> 3, 0, 4, 0, 1, 3, 0, 0, 1, 0\n",
      "$ total_photo_count                   <i64> 0, 0, 0, 0, 1, 0, 0, 0, 4, 2\n",
      "$ has_kudoed                         <bool> False, False, False, False, False, False, False, False, False, False\n",
      "$ average_cadence                     <f64> None, 51.2, None, 52.5, None, None, 58.3, 84.0, None, None\n",
      "\n"
     ]
    }
   ],
   "source": [
    "activities.glimpse()"
   ]
  },
  {
   "cell_type": "code",
   "execution_count": 6,
   "id": "31b24baf",
   "metadata": {},
   "outputs": [],
   "source": [
    "# Feature Engineering\n",
    "activities_curated = activities_curated.with_columns(\n",
    "    activity_hour = pl.col('start_date_local').dt.hour()\n",
    ")\n",
    "\n",
    "activity_counts = activities_curated.group_by(\"activity_hour\").agg(\n",
    "    pl.len().alias(\"activity_count\")\n",
    ").sort(\"activity_hour\")"
   ]
  },
  {
   "cell_type": "code",
   "execution_count": 56,
   "id": "e4141e0b",
   "metadata": {},
   "outputs": [
    {
     "data": {
      "application/vnd.plotly.v1+json": {
       "config": {
        "plotlyServerURL": "https://plot.ly"
       },
       "data": [
        {
         "alignmentgroup": "True",
         "hovertemplate": "sport_type=Ride<br>activity_year=2021<br>activity_hour=%{x}<br>activity_count=%{y}<extra></extra>",
         "legendgroup": "Ride",
         "marker": {
          "color": "#636efa",
          "pattern": {
           "shape": ""
          }
         },
         "name": "Ride",
         "offsetgroup": "Ride",
         "orientation": "v",
         "showlegend": true,
         "textposition": "auto",
         "type": "bar",
         "x": [
          5,
          8,
          14,
          17,
          18,
          19,
          20
         ],
         "xaxis": "x",
         "y": [
          1,
          1,
          2,
          5,
          10,
          2,
          2
         ],
         "yaxis": "y"
        },
        {
         "alignmentgroup": "True",
         "hovertemplate": "sport_type=Ride<br>activity_year=2022<br>activity_hour=%{x}<br>activity_count=%{y}<extra></extra>",
         "legendgroup": "Ride",
         "marker": {
          "color": "#636efa",
          "pattern": {
           "shape": ""
          }
         },
         "name": "Ride",
         "offsetgroup": "Ride",
         "orientation": "v",
         "showlegend": false,
         "textposition": "auto",
         "type": "bar",
         "x": [
          12,
          17,
          19,
          20,
          22
         ],
         "xaxis": "x2",
         "y": [
          1,
          1,
          1,
          1,
          1
         ],
         "yaxis": "y2"
        },
        {
         "alignmentgroup": "True",
         "hovertemplate": "sport_type=Ride<br>activity_year=2023<br>activity_hour=%{x}<br>activity_count=%{y}<extra></extra>",
         "legendgroup": "Ride",
         "marker": {
          "color": "#636efa",
          "pattern": {
           "shape": ""
          }
         },
         "name": "Ride",
         "offsetgroup": "Ride",
         "orientation": "v",
         "showlegend": false,
         "textposition": "auto",
         "type": "bar",
         "x": [
          14,
          15,
          18,
          19,
          20
         ],
         "xaxis": "x3",
         "y": [
          1,
          2,
          2,
          1,
          1
         ],
         "yaxis": "y3"
        },
        {
         "alignmentgroup": "True",
         "hovertemplate": "sport_type=Ride<br>activity_year=2024<br>activity_hour=%{x}<br>activity_count=%{y}<extra></extra>",
         "legendgroup": "Ride",
         "marker": {
          "color": "#636efa",
          "pattern": {
           "shape": ""
          }
         },
         "name": "Ride",
         "offsetgroup": "Ride",
         "orientation": "v",
         "showlegend": false,
         "textposition": "auto",
         "type": "bar",
         "x": [
          10,
          16,
          19,
          20
         ],
         "xaxis": "x4",
         "y": [
          1,
          1,
          2,
          1
         ],
         "yaxis": "y4"
        },
        {
         "alignmentgroup": "True",
         "hovertemplate": "sport_type=Ride<br>activity_year=2025<br>activity_hour=%{x}<br>activity_count=%{y}<extra></extra>",
         "legendgroup": "Ride",
         "marker": {
          "color": "#636efa",
          "pattern": {
           "shape": ""
          }
         },
         "name": "Ride",
         "offsetgroup": "Ride",
         "orientation": "v",
         "showlegend": false,
         "textposition": "auto",
         "type": "bar",
         "x": [
          5,
          6,
          11,
          15,
          16,
          18,
          20
         ],
         "xaxis": "x5",
         "y": [
          1,
          2,
          1,
          1,
          1,
          1,
          1
         ],
         "yaxis": "y5"
        },
        {
         "alignmentgroup": "True",
         "hovertemplate": "sport_type=Walk<br>activity_year=2021<br>activity_hour=%{x}<br>activity_count=%{y}<extra></extra>",
         "legendgroup": "Walk",
         "marker": {
          "color": "#EF553B",
          "pattern": {
           "shape": ""
          }
         },
         "name": "Walk",
         "offsetgroup": "Walk",
         "orientation": "v",
         "showlegend": true,
         "textposition": "auto",
         "type": "bar",
         "x": [
          7,
          11,
          12,
          16,
          17,
          18,
          19,
          20,
          22,
          23
         ],
         "xaxis": "x",
         "y": [
          1,
          1,
          1,
          1,
          4,
          4,
          5,
          4,
          1,
          1
         ],
         "yaxis": "y"
        },
        {
         "alignmentgroup": "True",
         "hovertemplate": "sport_type=Walk<br>activity_year=2022<br>activity_hour=%{x}<br>activity_count=%{y}<extra></extra>",
         "legendgroup": "Walk",
         "marker": {
          "color": "#EF553B",
          "pattern": {
           "shape": ""
          }
         },
         "name": "Walk",
         "offsetgroup": "Walk",
         "orientation": "v",
         "showlegend": false,
         "textposition": "auto",
         "type": "bar",
         "x": [
          9,
          10,
          11,
          12,
          13,
          14,
          16,
          17,
          18,
          19,
          20,
          21,
          22
         ],
         "xaxis": "x2",
         "y": [
          1,
          1,
          2,
          1,
          2,
          1,
          4,
          1,
          1,
          3,
          1,
          4,
          2
         ],
         "yaxis": "y2"
        },
        {
         "alignmentgroup": "True",
         "hovertemplate": "sport_type=Walk<br>activity_year=2023<br>activity_hour=%{x}<br>activity_count=%{y}<extra></extra>",
         "legendgroup": "Walk",
         "marker": {
          "color": "#EF553B",
          "pattern": {
           "shape": ""
          }
         },
         "name": "Walk",
         "offsetgroup": "Walk",
         "orientation": "v",
         "showlegend": false,
         "textposition": "auto",
         "type": "bar",
         "x": [
          8,
          11,
          13,
          16,
          17,
          18,
          19,
          20,
          21
         ],
         "xaxis": "x3",
         "y": [
          1,
          1,
          1,
          1,
          3,
          3,
          2,
          3,
          1
         ],
         "yaxis": "y3"
        },
        {
         "alignmentgroup": "True",
         "hovertemplate": "sport_type=Walk<br>activity_year=2024<br>activity_hour=%{x}<br>activity_count=%{y}<extra></extra>",
         "legendgroup": "Walk",
         "marker": {
          "color": "#EF553B",
          "pattern": {
           "shape": ""
          }
         },
         "name": "Walk",
         "offsetgroup": "Walk",
         "orientation": "v",
         "showlegend": false,
         "textposition": "auto",
         "type": "bar",
         "x": [
          6,
          7,
          11,
          12,
          13,
          15,
          16,
          17,
          18,
          19,
          20,
          21,
          23
         ],
         "xaxis": "x4",
         "y": [
          1,
          3,
          4,
          1,
          1,
          1,
          3,
          4,
          8,
          12,
          6,
          12,
          1
         ],
         "yaxis": "y4"
        },
        {
         "alignmentgroup": "True",
         "hovertemplate": "sport_type=Walk<br>activity_year=2025<br>activity_hour=%{x}<br>activity_count=%{y}<extra></extra>",
         "legendgroup": "Walk",
         "marker": {
          "color": "#EF553B",
          "pattern": {
           "shape": ""
          }
         },
         "name": "Walk",
         "offsetgroup": "Walk",
         "orientation": "v",
         "showlegend": false,
         "textposition": "auto",
         "type": "bar",
         "x": [
          7,
          8,
          9,
          10,
          13,
          14,
          15,
          16,
          17,
          18
         ],
         "xaxis": "x5",
         "y": [
          1,
          1,
          1,
          1,
          1,
          1,
          2,
          1,
          3,
          2
         ],
         "yaxis": "y5"
        },
        {
         "alignmentgroup": "True",
         "hovertemplate": "sport_type=Run<br>activity_year=2021<br>activity_hour=%{x}<br>activity_count=%{y}<extra></extra>",
         "legendgroup": "Run",
         "marker": {
          "color": "#00cc96",
          "pattern": {
           "shape": ""
          }
         },
         "name": "Run",
         "offsetgroup": "Run",
         "orientation": "v",
         "showlegend": true,
         "textposition": "auto",
         "type": "bar",
         "x": [
          7,
          8,
          9,
          10,
          16,
          17,
          18,
          19,
          20,
          21
         ],
         "xaxis": "x",
         "y": [
          2,
          1,
          2,
          1,
          2,
          2,
          11,
          6,
          1,
          1
         ],
         "yaxis": "y"
        },
        {
         "alignmentgroup": "True",
         "hovertemplate": "sport_type=Run<br>activity_year=2022<br>activity_hour=%{x}<br>activity_count=%{y}<extra></extra>",
         "legendgroup": "Run",
         "marker": {
          "color": "#00cc96",
          "pattern": {
           "shape": ""
          }
         },
         "name": "Run",
         "offsetgroup": "Run",
         "orientation": "v",
         "showlegend": false,
         "textposition": "auto",
         "type": "bar",
         "x": [
          8,
          10,
          13,
          15,
          16,
          17,
          18,
          19,
          21,
          22
         ],
         "xaxis": "x2",
         "y": [
          1,
          1,
          1,
          1,
          1,
          2,
          2,
          4,
          2,
          3
         ],
         "yaxis": "y2"
        },
        {
         "alignmentgroup": "True",
         "hovertemplate": "sport_type=Run<br>activity_year=2023<br>activity_hour=%{x}<br>activity_count=%{y}<extra></extra>",
         "legendgroup": "Run",
         "marker": {
          "color": "#00cc96",
          "pattern": {
           "shape": ""
          }
         },
         "name": "Run",
         "offsetgroup": "Run",
         "orientation": "v",
         "showlegend": false,
         "textposition": "auto",
         "type": "bar",
         "x": [
          8,
          10,
          11,
          13,
          17,
          19,
          20,
          21
         ],
         "xaxis": "x3",
         "y": [
          1,
          1,
          1,
          1,
          1,
          1,
          2,
          1
         ],
         "yaxis": "y3"
        },
        {
         "alignmentgroup": "True",
         "hovertemplate": "sport_type=Run<br>activity_year=2024<br>activity_hour=%{x}<br>activity_count=%{y}<extra></extra>",
         "legendgroup": "Run",
         "marker": {
          "color": "#00cc96",
          "pattern": {
           "shape": ""
          }
         },
         "name": "Run",
         "offsetgroup": "Run",
         "orientation": "v",
         "showlegend": false,
         "textposition": "auto",
         "type": "bar",
         "x": [
          7,
          8,
          9,
          10,
          11,
          12,
          17,
          18,
          19,
          20,
          21
         ],
         "xaxis": "x4",
         "y": [
          1,
          2,
          1,
          2,
          1,
          1,
          6,
          6,
          10,
          13,
          1
         ],
         "yaxis": "y4"
        },
        {
         "alignmentgroup": "True",
         "hovertemplate": "sport_type=Run<br>activity_year=2025<br>activity_hour=%{x}<br>activity_count=%{y}<extra></extra>",
         "legendgroup": "Run",
         "marker": {
          "color": "#00cc96",
          "pattern": {
           "shape": ""
          }
         },
         "name": "Run",
         "offsetgroup": "Run",
         "orientation": "v",
         "showlegend": false,
         "textposition": "auto",
         "type": "bar",
         "x": [
          9,
          18
         ],
         "xaxis": "x5",
         "y": [
          1,
          1
         ],
         "yaxis": "y5"
        },
        {
         "alignmentgroup": "True",
         "hovertemplate": "sport_type=Hike<br>activity_year=2021<br>activity_hour=%{x}<br>activity_count=%{y}<extra></extra>",
         "legendgroup": "Hike",
         "marker": {
          "color": "#ab63fa",
          "pattern": {
           "shape": ""
          }
         },
         "name": "Hike",
         "offsetgroup": "Hike",
         "orientation": "v",
         "showlegend": true,
         "textposition": "auto",
         "type": "bar",
         "x": [
          15
         ],
         "xaxis": "x",
         "y": [
          1
         ],
         "yaxis": "y"
        },
        {
         "alignmentgroup": "True",
         "hovertemplate": "sport_type=Hike<br>activity_year=2022<br>activity_hour=%{x}<br>activity_count=%{y}<extra></extra>",
         "legendgroup": "Hike",
         "marker": {
          "color": "#ab63fa",
          "pattern": {
           "shape": ""
          }
         },
         "name": "Hike",
         "offsetgroup": "Hike",
         "orientation": "v",
         "showlegend": false,
         "textposition": "auto",
         "type": "bar",
         "x": [
          19
         ],
         "xaxis": "x2",
         "y": [
          1
         ],
         "yaxis": "y2"
        },
        {
         "alignmentgroup": "True",
         "hovertemplate": "sport_type=EBikeRide<br>activity_year=2022<br>activity_hour=%{x}<br>activity_count=%{y}<extra></extra>",
         "legendgroup": "EBikeRide",
         "marker": {
          "color": "#FFA15A",
          "pattern": {
           "shape": ""
          }
         },
         "name": "EBikeRide",
         "offsetgroup": "EBikeRide",
         "orientation": "v",
         "showlegend": true,
         "textposition": "auto",
         "type": "bar",
         "x": [
          13
         ],
         "xaxis": "x2",
         "y": [
          1
         ],
         "yaxis": "y2"
        }
       ],
       "layout": {
        "annotations": [
         {
          "font": {},
          "showarrow": false,
          "text": "activity_year=2021",
          "x": 0.09200000000000001,
          "xanchor": "center",
          "xref": "paper",
          "y": 1,
          "yanchor": "bottom",
          "yref": "paper"
         },
         {
          "font": {},
          "showarrow": false,
          "text": "activity_year=2022",
          "x": 0.29600000000000004,
          "xanchor": "center",
          "xref": "paper",
          "y": 1,
          "yanchor": "bottom",
          "yref": "paper"
         },
         {
          "font": {},
          "showarrow": false,
          "text": "activity_year=2023",
          "x": 0.5,
          "xanchor": "center",
          "xref": "paper",
          "y": 1,
          "yanchor": "bottom",
          "yref": "paper"
         },
         {
          "font": {},
          "showarrow": false,
          "text": "activity_year=2024",
          "x": 0.7040000000000002,
          "xanchor": "center",
          "xref": "paper",
          "y": 1,
          "yanchor": "bottom",
          "yref": "paper"
         },
         {
          "font": {},
          "showarrow": false,
          "text": "activity_year=2025",
          "x": 0.908,
          "xanchor": "center",
          "xref": "paper",
          "y": 1,
          "yanchor": "bottom",
          "yref": "paper"
         }
        ],
        "barmode": "relative",
        "legend": {
         "title": {
          "text": "sport_type"
         },
         "tracegroupgap": 0
        },
        "margin": {
         "t": 60
        },
        "template": {
         "data": {
          "bar": [
           {
            "error_x": {
             "color": "#2a3f5f"
            },
            "error_y": {
             "color": "#2a3f5f"
            },
            "marker": {
             "line": {
              "color": "#E5ECF6",
              "width": 0.5
             },
             "pattern": {
              "fillmode": "overlay",
              "size": 10,
              "solidity": 0.2
             }
            },
            "type": "bar"
           }
          ],
          "barpolar": [
           {
            "marker": {
             "line": {
              "color": "#E5ECF6",
              "width": 0.5
             },
             "pattern": {
              "fillmode": "overlay",
              "size": 10,
              "solidity": 0.2
             }
            },
            "type": "barpolar"
           }
          ],
          "carpet": [
           {
            "aaxis": {
             "endlinecolor": "#2a3f5f",
             "gridcolor": "white",
             "linecolor": "white",
             "minorgridcolor": "white",
             "startlinecolor": "#2a3f5f"
            },
            "baxis": {
             "endlinecolor": "#2a3f5f",
             "gridcolor": "white",
             "linecolor": "white",
             "minorgridcolor": "white",
             "startlinecolor": "#2a3f5f"
            },
            "type": "carpet"
           }
          ],
          "choropleth": [
           {
            "colorbar": {
             "outlinewidth": 0,
             "ticks": ""
            },
            "type": "choropleth"
           }
          ],
          "contour": [
           {
            "colorbar": {
             "outlinewidth": 0,
             "ticks": ""
            },
            "colorscale": [
             [
              0,
              "#0d0887"
             ],
             [
              0.1111111111111111,
              "#46039f"
             ],
             [
              0.2222222222222222,
              "#7201a8"
             ],
             [
              0.3333333333333333,
              "#9c179e"
             ],
             [
              0.4444444444444444,
              "#bd3786"
             ],
             [
              0.5555555555555556,
              "#d8576b"
             ],
             [
              0.6666666666666666,
              "#ed7953"
             ],
             [
              0.7777777777777778,
              "#fb9f3a"
             ],
             [
              0.8888888888888888,
              "#fdca26"
             ],
             [
              1,
              "#f0f921"
             ]
            ],
            "type": "contour"
           }
          ],
          "contourcarpet": [
           {
            "colorbar": {
             "outlinewidth": 0,
             "ticks": ""
            },
            "type": "contourcarpet"
           }
          ],
          "heatmap": [
           {
            "colorbar": {
             "outlinewidth": 0,
             "ticks": ""
            },
            "colorscale": [
             [
              0,
              "#0d0887"
             ],
             [
              0.1111111111111111,
              "#46039f"
             ],
             [
              0.2222222222222222,
              "#7201a8"
             ],
             [
              0.3333333333333333,
              "#9c179e"
             ],
             [
              0.4444444444444444,
              "#bd3786"
             ],
             [
              0.5555555555555556,
              "#d8576b"
             ],
             [
              0.6666666666666666,
              "#ed7953"
             ],
             [
              0.7777777777777778,
              "#fb9f3a"
             ],
             [
              0.8888888888888888,
              "#fdca26"
             ],
             [
              1,
              "#f0f921"
             ]
            ],
            "type": "heatmap"
           }
          ],
          "heatmapgl": [
           {
            "colorbar": {
             "outlinewidth": 0,
             "ticks": ""
            },
            "colorscale": [
             [
              0,
              "#0d0887"
             ],
             [
              0.1111111111111111,
              "#46039f"
             ],
             [
              0.2222222222222222,
              "#7201a8"
             ],
             [
              0.3333333333333333,
              "#9c179e"
             ],
             [
              0.4444444444444444,
              "#bd3786"
             ],
             [
              0.5555555555555556,
              "#d8576b"
             ],
             [
              0.6666666666666666,
              "#ed7953"
             ],
             [
              0.7777777777777778,
              "#fb9f3a"
             ],
             [
              0.8888888888888888,
              "#fdca26"
             ],
             [
              1,
              "#f0f921"
             ]
            ],
            "type": "heatmapgl"
           }
          ],
          "histogram": [
           {
            "marker": {
             "pattern": {
              "fillmode": "overlay",
              "size": 10,
              "solidity": 0.2
             }
            },
            "type": "histogram"
           }
          ],
          "histogram2d": [
           {
            "colorbar": {
             "outlinewidth": 0,
             "ticks": ""
            },
            "colorscale": [
             [
              0,
              "#0d0887"
             ],
             [
              0.1111111111111111,
              "#46039f"
             ],
             [
              0.2222222222222222,
              "#7201a8"
             ],
             [
              0.3333333333333333,
              "#9c179e"
             ],
             [
              0.4444444444444444,
              "#bd3786"
             ],
             [
              0.5555555555555556,
              "#d8576b"
             ],
             [
              0.6666666666666666,
              "#ed7953"
             ],
             [
              0.7777777777777778,
              "#fb9f3a"
             ],
             [
              0.8888888888888888,
              "#fdca26"
             ],
             [
              1,
              "#f0f921"
             ]
            ],
            "type": "histogram2d"
           }
          ],
          "histogram2dcontour": [
           {
            "colorbar": {
             "outlinewidth": 0,
             "ticks": ""
            },
            "colorscale": [
             [
              0,
              "#0d0887"
             ],
             [
              0.1111111111111111,
              "#46039f"
             ],
             [
              0.2222222222222222,
              "#7201a8"
             ],
             [
              0.3333333333333333,
              "#9c179e"
             ],
             [
              0.4444444444444444,
              "#bd3786"
             ],
             [
              0.5555555555555556,
              "#d8576b"
             ],
             [
              0.6666666666666666,
              "#ed7953"
             ],
             [
              0.7777777777777778,
              "#fb9f3a"
             ],
             [
              0.8888888888888888,
              "#fdca26"
             ],
             [
              1,
              "#f0f921"
             ]
            ],
            "type": "histogram2dcontour"
           }
          ],
          "mesh3d": [
           {
            "colorbar": {
             "outlinewidth": 0,
             "ticks": ""
            },
            "type": "mesh3d"
           }
          ],
          "parcoords": [
           {
            "line": {
             "colorbar": {
              "outlinewidth": 0,
              "ticks": ""
             }
            },
            "type": "parcoords"
           }
          ],
          "pie": [
           {
            "automargin": true,
            "type": "pie"
           }
          ],
          "scatter": [
           {
            "fillpattern": {
             "fillmode": "overlay",
             "size": 10,
             "solidity": 0.2
            },
            "type": "scatter"
           }
          ],
          "scatter3d": [
           {
            "line": {
             "colorbar": {
              "outlinewidth": 0,
              "ticks": ""
             }
            },
            "marker": {
             "colorbar": {
              "outlinewidth": 0,
              "ticks": ""
             }
            },
            "type": "scatter3d"
           }
          ],
          "scattercarpet": [
           {
            "marker": {
             "colorbar": {
              "outlinewidth": 0,
              "ticks": ""
             }
            },
            "type": "scattercarpet"
           }
          ],
          "scattergeo": [
           {
            "marker": {
             "colorbar": {
              "outlinewidth": 0,
              "ticks": ""
             }
            },
            "type": "scattergeo"
           }
          ],
          "scattergl": [
           {
            "marker": {
             "colorbar": {
              "outlinewidth": 0,
              "ticks": ""
             }
            },
            "type": "scattergl"
           }
          ],
          "scattermapbox": [
           {
            "marker": {
             "colorbar": {
              "outlinewidth": 0,
              "ticks": ""
             }
            },
            "type": "scattermapbox"
           }
          ],
          "scatterpolar": [
           {
            "marker": {
             "colorbar": {
              "outlinewidth": 0,
              "ticks": ""
             }
            },
            "type": "scatterpolar"
           }
          ],
          "scatterpolargl": [
           {
            "marker": {
             "colorbar": {
              "outlinewidth": 0,
              "ticks": ""
             }
            },
            "type": "scatterpolargl"
           }
          ],
          "scatterternary": [
           {
            "marker": {
             "colorbar": {
              "outlinewidth": 0,
              "ticks": ""
             }
            },
            "type": "scatterternary"
           }
          ],
          "surface": [
           {
            "colorbar": {
             "outlinewidth": 0,
             "ticks": ""
            },
            "colorscale": [
             [
              0,
              "#0d0887"
             ],
             [
              0.1111111111111111,
              "#46039f"
             ],
             [
              0.2222222222222222,
              "#7201a8"
             ],
             [
              0.3333333333333333,
              "#9c179e"
             ],
             [
              0.4444444444444444,
              "#bd3786"
             ],
             [
              0.5555555555555556,
              "#d8576b"
             ],
             [
              0.6666666666666666,
              "#ed7953"
             ],
             [
              0.7777777777777778,
              "#fb9f3a"
             ],
             [
              0.8888888888888888,
              "#fdca26"
             ],
             [
              1,
              "#f0f921"
             ]
            ],
            "type": "surface"
           }
          ],
          "table": [
           {
            "cells": {
             "fill": {
              "color": "#EBF0F8"
             },
             "line": {
              "color": "white"
             }
            },
            "header": {
             "fill": {
              "color": "#C8D4E3"
             },
             "line": {
              "color": "white"
             }
            },
            "type": "table"
           }
          ]
         },
         "layout": {
          "annotationdefaults": {
           "arrowcolor": "#2a3f5f",
           "arrowhead": 0,
           "arrowwidth": 1
          },
          "autotypenumbers": "strict",
          "coloraxis": {
           "colorbar": {
            "outlinewidth": 0,
            "ticks": ""
           }
          },
          "colorscale": {
           "diverging": [
            [
             0,
             "#8e0152"
            ],
            [
             0.1,
             "#c51b7d"
            ],
            [
             0.2,
             "#de77ae"
            ],
            [
             0.3,
             "#f1b6da"
            ],
            [
             0.4,
             "#fde0ef"
            ],
            [
             0.5,
             "#f7f7f7"
            ],
            [
             0.6,
             "#e6f5d0"
            ],
            [
             0.7,
             "#b8e186"
            ],
            [
             0.8,
             "#7fbc41"
            ],
            [
             0.9,
             "#4d9221"
            ],
            [
             1,
             "#276419"
            ]
           ],
           "sequential": [
            [
             0,
             "#0d0887"
            ],
            [
             0.1111111111111111,
             "#46039f"
            ],
            [
             0.2222222222222222,
             "#7201a8"
            ],
            [
             0.3333333333333333,
             "#9c179e"
            ],
            [
             0.4444444444444444,
             "#bd3786"
            ],
            [
             0.5555555555555556,
             "#d8576b"
            ],
            [
             0.6666666666666666,
             "#ed7953"
            ],
            [
             0.7777777777777778,
             "#fb9f3a"
            ],
            [
             0.8888888888888888,
             "#fdca26"
            ],
            [
             1,
             "#f0f921"
            ]
           ],
           "sequentialminus": [
            [
             0,
             "#0d0887"
            ],
            [
             0.1111111111111111,
             "#46039f"
            ],
            [
             0.2222222222222222,
             "#7201a8"
            ],
            [
             0.3333333333333333,
             "#9c179e"
            ],
            [
             0.4444444444444444,
             "#bd3786"
            ],
            [
             0.5555555555555556,
             "#d8576b"
            ],
            [
             0.6666666666666666,
             "#ed7953"
            ],
            [
             0.7777777777777778,
             "#fb9f3a"
            ],
            [
             0.8888888888888888,
             "#fdca26"
            ],
            [
             1,
             "#f0f921"
            ]
           ]
          },
          "colorway": [
           "#636efa",
           "#EF553B",
           "#00cc96",
           "#ab63fa",
           "#FFA15A",
           "#19d3f3",
           "#FF6692",
           "#B6E880",
           "#FF97FF",
           "#FECB52"
          ],
          "font": {
           "color": "#2a3f5f"
          },
          "geo": {
           "bgcolor": "white",
           "lakecolor": "white",
           "landcolor": "#E5ECF6",
           "showlakes": true,
           "showland": true,
           "subunitcolor": "white"
          },
          "hoverlabel": {
           "align": "left"
          },
          "hovermode": "closest",
          "mapbox": {
           "style": "light"
          },
          "paper_bgcolor": "white",
          "plot_bgcolor": "#E5ECF6",
          "polar": {
           "angularaxis": {
            "gridcolor": "white",
            "linecolor": "white",
            "ticks": ""
           },
           "bgcolor": "#E5ECF6",
           "radialaxis": {
            "gridcolor": "white",
            "linecolor": "white",
            "ticks": ""
           }
          },
          "scene": {
           "xaxis": {
            "backgroundcolor": "#E5ECF6",
            "gridcolor": "white",
            "gridwidth": 2,
            "linecolor": "white",
            "showbackground": true,
            "ticks": "",
            "zerolinecolor": "white"
           },
           "yaxis": {
            "backgroundcolor": "#E5ECF6",
            "gridcolor": "white",
            "gridwidth": 2,
            "linecolor": "white",
            "showbackground": true,
            "ticks": "",
            "zerolinecolor": "white"
           },
           "zaxis": {
            "backgroundcolor": "#E5ECF6",
            "gridcolor": "white",
            "gridwidth": 2,
            "linecolor": "white",
            "showbackground": true,
            "ticks": "",
            "zerolinecolor": "white"
           }
          },
          "shapedefaults": {
           "line": {
            "color": "#2a3f5f"
           }
          },
          "ternary": {
           "aaxis": {
            "gridcolor": "white",
            "linecolor": "white",
            "ticks": ""
           },
           "baxis": {
            "gridcolor": "white",
            "linecolor": "white",
            "ticks": ""
           },
           "bgcolor": "#E5ECF6",
           "caxis": {
            "gridcolor": "white",
            "linecolor": "white",
            "ticks": ""
           }
          },
          "title": {
           "x": 0.05
          },
          "xaxis": {
           "automargin": true,
           "gridcolor": "white",
           "linecolor": "white",
           "ticks": "",
           "title": {
            "standoff": 15
           },
           "zerolinecolor": "white",
           "zerolinewidth": 2
          },
          "yaxis": {
           "automargin": true,
           "gridcolor": "white",
           "linecolor": "white",
           "ticks": "",
           "title": {
            "standoff": 15
           },
           "zerolinecolor": "white",
           "zerolinewidth": 2
          }
         }
        },
        "xaxis": {
         "anchor": "y",
         "domain": [
          0,
          0.18400000000000002
         ],
         "title": {
          "text": "activity_hour"
         }
        },
        "xaxis2": {
         "anchor": "y2",
         "domain": [
          0.20400000000000001,
          0.388
         ],
         "matches": "x",
         "title": {
          "text": "activity_hour"
         }
        },
        "xaxis3": {
         "anchor": "y3",
         "domain": [
          0.40800000000000003,
          0.5920000000000001
         ],
         "matches": "x",
         "title": {
          "text": "activity_hour"
         }
        },
        "xaxis4": {
         "anchor": "y4",
         "domain": [
          0.6120000000000001,
          0.7960000000000002
         ],
         "matches": "x",
         "title": {
          "text": "activity_hour"
         }
        },
        "xaxis5": {
         "anchor": "y5",
         "domain": [
          0.8160000000000001,
          1
         ],
         "matches": "x",
         "title": {
          "text": "activity_hour"
         }
        },
        "yaxis": {
         "anchor": "x",
         "domain": [
          0,
          1
         ],
         "title": {
          "text": "activity_count"
         }
        },
        "yaxis2": {
         "anchor": "x2",
         "domain": [
          0,
          1
         ],
         "matches": "y",
         "showticklabels": false
        },
        "yaxis3": {
         "anchor": "x3",
         "domain": [
          0,
          1
         ],
         "matches": "y",
         "showticklabels": false
        },
        "yaxis4": {
         "anchor": "x4",
         "domain": [
          0,
          1
         ],
         "matches": "y",
         "showticklabels": false
        },
        "yaxis5": {
         "anchor": "x5",
         "domain": [
          0,
          1
         ],
         "matches": "y",
         "showticklabels": false
        }
       }
      }
     },
     "metadata": {},
     "output_type": "display_data"
    }
   ],
   "source": [
    "import plotly.express as px\n",
    "\n",
    "px.bar(activities_curated\n",
    "       .with_columns(activity_year = pl.col('start_date_local').dt.year())\n",
    "       .group_by('activity_hour', 'sport_type', 'activity_year')\n",
    "       .agg(pl.len().alias('activity_count'))\n",
    "       .filter(pl.col('activity_year') > 2020)\n",
    "       .sort(\"activity_year\", \"activity_hour\"),\n",
    "       x=\"activity_hour\",\n",
    "       y=\"activity_count\",\n",
    "       color = \"sport_type\",\n",
    "       orientation = \"v\",\n",
    "       facet_col='activity_year')\n",
    "                                                               "
   ]
  },
  {
   "cell_type": "code",
   "execution_count": null,
   "id": "d0160380",
   "metadata": {},
   "outputs": [
    {
     "data": {
      "application/vnd.plotly.v1+json": {
       "config": {
        "plotlyServerURL": "https://plot.ly"
       },
       "data": [
        {
         "alignmentgroup": "True",
         "hovertemplate": "Hour of Day=%{x}<br>Number of Activities=%{y}<extra></extra>",
         "legendgroup": "",
         "marker": {
          "color": "skyblue",
          "pattern": {
           "shape": ""
          }
         },
         "name": "",
         "offsetgroup": "",
         "orientation": "v",
         "showlegend": false,
         "textposition": "auto",
         "type": "bar",
         "x": [
          5,
          6,
          7,
          8,
          9,
          10,
          11,
          12,
          13,
          14,
          15,
          16,
          17,
          18,
          19,
          20,
          21,
          22,
          23
         ],
         "xaxis": "x",
         "y": [
          2,
          9,
          11,
          15,
          9,
          9,
          11,
          6,
          9,
          6,
          10,
          20,
          40,
          67,
          80,
          56,
          45,
          13,
          2
         ],
         "yaxis": "y"
        }
       ],
       "layout": {
        "barmode": "relative",
        "legend": {
         "tracegroupgap": 0
        },
        "template": {
         "data": {
          "bar": [
           {
            "error_x": {
             "color": "#2a3f5f"
            },
            "error_y": {
             "color": "#2a3f5f"
            },
            "marker": {
             "line": {
              "color": "#E5ECF6",
              "width": 0.5
             },
             "pattern": {
              "fillmode": "overlay",
              "size": 10,
              "solidity": 0.2
             }
            },
            "type": "bar"
           }
          ],
          "barpolar": [
           {
            "marker": {
             "line": {
              "color": "#E5ECF6",
              "width": 0.5
             },
             "pattern": {
              "fillmode": "overlay",
              "size": 10,
              "solidity": 0.2
             }
            },
            "type": "barpolar"
           }
          ],
          "carpet": [
           {
            "aaxis": {
             "endlinecolor": "#2a3f5f",
             "gridcolor": "white",
             "linecolor": "white",
             "minorgridcolor": "white",
             "startlinecolor": "#2a3f5f"
            },
            "baxis": {
             "endlinecolor": "#2a3f5f",
             "gridcolor": "white",
             "linecolor": "white",
             "minorgridcolor": "white",
             "startlinecolor": "#2a3f5f"
            },
            "type": "carpet"
           }
          ],
          "choropleth": [
           {
            "colorbar": {
             "outlinewidth": 0,
             "ticks": ""
            },
            "type": "choropleth"
           }
          ],
          "contour": [
           {
            "colorbar": {
             "outlinewidth": 0,
             "ticks": ""
            },
            "colorscale": [
             [
              0,
              "#0d0887"
             ],
             [
              0.1111111111111111,
              "#46039f"
             ],
             [
              0.2222222222222222,
              "#7201a8"
             ],
             [
              0.3333333333333333,
              "#9c179e"
             ],
             [
              0.4444444444444444,
              "#bd3786"
             ],
             [
              0.5555555555555556,
              "#d8576b"
             ],
             [
              0.6666666666666666,
              "#ed7953"
             ],
             [
              0.7777777777777778,
              "#fb9f3a"
             ],
             [
              0.8888888888888888,
              "#fdca26"
             ],
             [
              1,
              "#f0f921"
             ]
            ],
            "type": "contour"
           }
          ],
          "contourcarpet": [
           {
            "colorbar": {
             "outlinewidth": 0,
             "ticks": ""
            },
            "type": "contourcarpet"
           }
          ],
          "heatmap": [
           {
            "colorbar": {
             "outlinewidth": 0,
             "ticks": ""
            },
            "colorscale": [
             [
              0,
              "#0d0887"
             ],
             [
              0.1111111111111111,
              "#46039f"
             ],
             [
              0.2222222222222222,
              "#7201a8"
             ],
             [
              0.3333333333333333,
              "#9c179e"
             ],
             [
              0.4444444444444444,
              "#bd3786"
             ],
             [
              0.5555555555555556,
              "#d8576b"
             ],
             [
              0.6666666666666666,
              "#ed7953"
             ],
             [
              0.7777777777777778,
              "#fb9f3a"
             ],
             [
              0.8888888888888888,
              "#fdca26"
             ],
             [
              1,
              "#f0f921"
             ]
            ],
            "type": "heatmap"
           }
          ],
          "heatmapgl": [
           {
            "colorbar": {
             "outlinewidth": 0,
             "ticks": ""
            },
            "colorscale": [
             [
              0,
              "#0d0887"
             ],
             [
              0.1111111111111111,
              "#46039f"
             ],
             [
              0.2222222222222222,
              "#7201a8"
             ],
             [
              0.3333333333333333,
              "#9c179e"
             ],
             [
              0.4444444444444444,
              "#bd3786"
             ],
             [
              0.5555555555555556,
              "#d8576b"
             ],
             [
              0.6666666666666666,
              "#ed7953"
             ],
             [
              0.7777777777777778,
              "#fb9f3a"
             ],
             [
              0.8888888888888888,
              "#fdca26"
             ],
             [
              1,
              "#f0f921"
             ]
            ],
            "type": "heatmapgl"
           }
          ],
          "histogram": [
           {
            "marker": {
             "pattern": {
              "fillmode": "overlay",
              "size": 10,
              "solidity": 0.2
             }
            },
            "type": "histogram"
           }
          ],
          "histogram2d": [
           {
            "colorbar": {
             "outlinewidth": 0,
             "ticks": ""
            },
            "colorscale": [
             [
              0,
              "#0d0887"
             ],
             [
              0.1111111111111111,
              "#46039f"
             ],
             [
              0.2222222222222222,
              "#7201a8"
             ],
             [
              0.3333333333333333,
              "#9c179e"
             ],
             [
              0.4444444444444444,
              "#bd3786"
             ],
             [
              0.5555555555555556,
              "#d8576b"
             ],
             [
              0.6666666666666666,
              "#ed7953"
             ],
             [
              0.7777777777777778,
              "#fb9f3a"
             ],
             [
              0.8888888888888888,
              "#fdca26"
             ],
             [
              1,
              "#f0f921"
             ]
            ],
            "type": "histogram2d"
           }
          ],
          "histogram2dcontour": [
           {
            "colorbar": {
             "outlinewidth": 0,
             "ticks": ""
            },
            "colorscale": [
             [
              0,
              "#0d0887"
             ],
             [
              0.1111111111111111,
              "#46039f"
             ],
             [
              0.2222222222222222,
              "#7201a8"
             ],
             [
              0.3333333333333333,
              "#9c179e"
             ],
             [
              0.4444444444444444,
              "#bd3786"
             ],
             [
              0.5555555555555556,
              "#d8576b"
             ],
             [
              0.6666666666666666,
              "#ed7953"
             ],
             [
              0.7777777777777778,
              "#fb9f3a"
             ],
             [
              0.8888888888888888,
              "#fdca26"
             ],
             [
              1,
              "#f0f921"
             ]
            ],
            "type": "histogram2dcontour"
           }
          ],
          "mesh3d": [
           {
            "colorbar": {
             "outlinewidth": 0,
             "ticks": ""
            },
            "type": "mesh3d"
           }
          ],
          "parcoords": [
           {
            "line": {
             "colorbar": {
              "outlinewidth": 0,
              "ticks": ""
             }
            },
            "type": "parcoords"
           }
          ],
          "pie": [
           {
            "automargin": true,
            "type": "pie"
           }
          ],
          "scatter": [
           {
            "fillpattern": {
             "fillmode": "overlay",
             "size": 10,
             "solidity": 0.2
            },
            "type": "scatter"
           }
          ],
          "scatter3d": [
           {
            "line": {
             "colorbar": {
              "outlinewidth": 0,
              "ticks": ""
             }
            },
            "marker": {
             "colorbar": {
              "outlinewidth": 0,
              "ticks": ""
             }
            },
            "type": "scatter3d"
           }
          ],
          "scattercarpet": [
           {
            "marker": {
             "colorbar": {
              "outlinewidth": 0,
              "ticks": ""
             }
            },
            "type": "scattercarpet"
           }
          ],
          "scattergeo": [
           {
            "marker": {
             "colorbar": {
              "outlinewidth": 0,
              "ticks": ""
             }
            },
            "type": "scattergeo"
           }
          ],
          "scattergl": [
           {
            "marker": {
             "colorbar": {
              "outlinewidth": 0,
              "ticks": ""
             }
            },
            "type": "scattergl"
           }
          ],
          "scattermapbox": [
           {
            "marker": {
             "colorbar": {
              "outlinewidth": 0,
              "ticks": ""
             }
            },
            "type": "scattermapbox"
           }
          ],
          "scatterpolar": [
           {
            "marker": {
             "colorbar": {
              "outlinewidth": 0,
              "ticks": ""
             }
            },
            "type": "scatterpolar"
           }
          ],
          "scatterpolargl": [
           {
            "marker": {
             "colorbar": {
              "outlinewidth": 0,
              "ticks": ""
             }
            },
            "type": "scatterpolargl"
           }
          ],
          "scatterternary": [
           {
            "marker": {
             "colorbar": {
              "outlinewidth": 0,
              "ticks": ""
             }
            },
            "type": "scatterternary"
           }
          ],
          "surface": [
           {
            "colorbar": {
             "outlinewidth": 0,
             "ticks": ""
            },
            "colorscale": [
             [
              0,
              "#0d0887"
             ],
             [
              0.1111111111111111,
              "#46039f"
             ],
             [
              0.2222222222222222,
              "#7201a8"
             ],
             [
              0.3333333333333333,
              "#9c179e"
             ],
             [
              0.4444444444444444,
              "#bd3786"
             ],
             [
              0.5555555555555556,
              "#d8576b"
             ],
             [
              0.6666666666666666,
              "#ed7953"
             ],
             [
              0.7777777777777778,
              "#fb9f3a"
             ],
             [
              0.8888888888888888,
              "#fdca26"
             ],
             [
              1,
              "#f0f921"
             ]
            ],
            "type": "surface"
           }
          ],
          "table": [
           {
            "cells": {
             "fill": {
              "color": "#EBF0F8"
             },
             "line": {
              "color": "white"
             }
            },
            "header": {
             "fill": {
              "color": "#C8D4E3"
             },
             "line": {
              "color": "white"
             }
            },
            "type": "table"
           }
          ]
         },
         "layout": {
          "annotationdefaults": {
           "arrowcolor": "#2a3f5f",
           "arrowhead": 0,
           "arrowwidth": 1
          },
          "autotypenumbers": "strict",
          "coloraxis": {
           "colorbar": {
            "outlinewidth": 0,
            "ticks": ""
           }
          },
          "colorscale": {
           "diverging": [
            [
             0,
             "#8e0152"
            ],
            [
             0.1,
             "#c51b7d"
            ],
            [
             0.2,
             "#de77ae"
            ],
            [
             0.3,
             "#f1b6da"
            ],
            [
             0.4,
             "#fde0ef"
            ],
            [
             0.5,
             "#f7f7f7"
            ],
            [
             0.6,
             "#e6f5d0"
            ],
            [
             0.7,
             "#b8e186"
            ],
            [
             0.8,
             "#7fbc41"
            ],
            [
             0.9,
             "#4d9221"
            ],
            [
             1,
             "#276419"
            ]
           ],
           "sequential": [
            [
             0,
             "#0d0887"
            ],
            [
             0.1111111111111111,
             "#46039f"
            ],
            [
             0.2222222222222222,
             "#7201a8"
            ],
            [
             0.3333333333333333,
             "#9c179e"
            ],
            [
             0.4444444444444444,
             "#bd3786"
            ],
            [
             0.5555555555555556,
             "#d8576b"
            ],
            [
             0.6666666666666666,
             "#ed7953"
            ],
            [
             0.7777777777777778,
             "#fb9f3a"
            ],
            [
             0.8888888888888888,
             "#fdca26"
            ],
            [
             1,
             "#f0f921"
            ]
           ],
           "sequentialminus": [
            [
             0,
             "#0d0887"
            ],
            [
             0.1111111111111111,
             "#46039f"
            ],
            [
             0.2222222222222222,
             "#7201a8"
            ],
            [
             0.3333333333333333,
             "#9c179e"
            ],
            [
             0.4444444444444444,
             "#bd3786"
            ],
            [
             0.5555555555555556,
             "#d8576b"
            ],
            [
             0.6666666666666666,
             "#ed7953"
            ],
            [
             0.7777777777777778,
             "#fb9f3a"
            ],
            [
             0.8888888888888888,
             "#fdca26"
            ],
            [
             1,
             "#f0f921"
            ]
           ]
          },
          "colorway": [
           "#636efa",
           "#EF553B",
           "#00cc96",
           "#ab63fa",
           "#FFA15A",
           "#19d3f3",
           "#FF6692",
           "#B6E880",
           "#FF97FF",
           "#FECB52"
          ],
          "font": {
           "color": "#2a3f5f"
          },
          "geo": {
           "bgcolor": "white",
           "lakecolor": "white",
           "landcolor": "#E5ECF6",
           "showlakes": true,
           "showland": true,
           "subunitcolor": "white"
          },
          "hoverlabel": {
           "align": "left"
          },
          "hovermode": "closest",
          "mapbox": {
           "style": "light"
          },
          "paper_bgcolor": "white",
          "plot_bgcolor": "#E5ECF6",
          "polar": {
           "angularaxis": {
            "gridcolor": "white",
            "linecolor": "white",
            "ticks": ""
           },
           "bgcolor": "#E5ECF6",
           "radialaxis": {
            "gridcolor": "white",
            "linecolor": "white",
            "ticks": ""
           }
          },
          "scene": {
           "xaxis": {
            "backgroundcolor": "#E5ECF6",
            "gridcolor": "white",
            "gridwidth": 2,
            "linecolor": "white",
            "showbackground": true,
            "ticks": "",
            "zerolinecolor": "white"
           },
           "yaxis": {
            "backgroundcolor": "#E5ECF6",
            "gridcolor": "white",
            "gridwidth": 2,
            "linecolor": "white",
            "showbackground": true,
            "ticks": "",
            "zerolinecolor": "white"
           },
           "zaxis": {
            "backgroundcolor": "#E5ECF6",
            "gridcolor": "white",
            "gridwidth": 2,
            "linecolor": "white",
            "showbackground": true,
            "ticks": "",
            "zerolinecolor": "white"
           }
          },
          "shapedefaults": {
           "line": {
            "color": "#2a3f5f"
           }
          },
          "ternary": {
           "aaxis": {
            "gridcolor": "white",
            "linecolor": "white",
            "ticks": ""
           },
           "baxis": {
            "gridcolor": "white",
            "linecolor": "white",
            "ticks": ""
           },
           "bgcolor": "#E5ECF6",
           "caxis": {
            "gridcolor": "white",
            "linecolor": "white",
            "ticks": ""
           }
          },
          "title": {
           "x": 0.05
          },
          "xaxis": {
           "automargin": true,
           "gridcolor": "white",
           "linecolor": "white",
           "ticks": "",
           "title": {
            "standoff": 15
           },
           "zerolinecolor": "white",
           "zerolinewidth": 2
          },
          "yaxis": {
           "automargin": true,
           "gridcolor": "white",
           "linecolor": "white",
           "ticks": "",
           "title": {
            "standoff": 15
           },
           "zerolinecolor": "white",
           "zerolinewidth": 2
          }
         }
        },
        "title": {
         "text": "Activity Distribution by Hour of Day"
        },
        "xaxis": {
         "anchor": "y",
         "domain": [
          0,
          1
         ],
         "title": {
          "text": "Hour of Day"
         }
        },
        "yaxis": {
         "anchor": "x",
         "domain": [
          0,
          1
         ],
         "title": {
          "text": "Number of Activities"
         }
        }
       }
      }
     },
     "metadata": {},
     "output_type": "display_data"
    }
   ],
   "source": [
    "import plotly.express as px\n",
    "\n",
    "fig = px.bar(\n",
    "    activity_counts,\n",
    "    x=\"activity_hour\",\n",
    "    y=\"activity_count\",\n",
    "    color=,\n",
    "    color_discrete_sequence=['skyblue'],\n",
    "    title=\"Activity Distribution by Hour of Day\",\n",
    "    labels={\"activity_hour\": \"Hour of Day\", \"activity_count\": \"Number of Activities\"},\n",
    "    orientation='v' # Explicitly set to vertical\n",
    ")\n",
    "\n",
    "fig.show()"
   ]
  },
  {
   "cell_type": "code",
   "execution_count": 28,
   "id": "13db2e24",
   "metadata": {},
   "outputs": [
    {
     "data": {
      "application/vnd.plotly.v1+json": {
       "config": {
        "plotlyServerURL": "https://plot.ly"
       },
       "data": [
        {
         "marker": {
          "color": "skyblue"
         },
         "type": "bar",
         "x": [
          5,
          6,
          7,
          8,
          9,
          10,
          11,
          12,
          13,
          14,
          15,
          16,
          17,
          18,
          19,
          20,
          21,
          22,
          23
         ],
         "y": [
          2,
          9,
          11,
          15,
          9,
          9,
          11,
          6,
          9,
          6,
          10,
          20,
          40,
          67,
          80,
          56,
          45,
          13,
          2
         ]
        }
       ],
       "layout": {
        "template": {
         "data": {
          "bar": [
           {
            "error_x": {
             "color": "#2a3f5f"
            },
            "error_y": {
             "color": "#2a3f5f"
            },
            "marker": {
             "line": {
              "color": "#E5ECF6",
              "width": 0.5
             },
             "pattern": {
              "fillmode": "overlay",
              "size": 10,
              "solidity": 0.2
             }
            },
            "type": "bar"
           }
          ],
          "barpolar": [
           {
            "marker": {
             "line": {
              "color": "#E5ECF6",
              "width": 0.5
             },
             "pattern": {
              "fillmode": "overlay",
              "size": 10,
              "solidity": 0.2
             }
            },
            "type": "barpolar"
           }
          ],
          "carpet": [
           {
            "aaxis": {
             "endlinecolor": "#2a3f5f",
             "gridcolor": "white",
             "linecolor": "white",
             "minorgridcolor": "white",
             "startlinecolor": "#2a3f5f"
            },
            "baxis": {
             "endlinecolor": "#2a3f5f",
             "gridcolor": "white",
             "linecolor": "white",
             "minorgridcolor": "white",
             "startlinecolor": "#2a3f5f"
            },
            "type": "carpet"
           }
          ],
          "choropleth": [
           {
            "colorbar": {
             "outlinewidth": 0,
             "ticks": ""
            },
            "type": "choropleth"
           }
          ],
          "contour": [
           {
            "colorbar": {
             "outlinewidth": 0,
             "ticks": ""
            },
            "colorscale": [
             [
              0,
              "#0d0887"
             ],
             [
              0.1111111111111111,
              "#46039f"
             ],
             [
              0.2222222222222222,
              "#7201a8"
             ],
             [
              0.3333333333333333,
              "#9c179e"
             ],
             [
              0.4444444444444444,
              "#bd3786"
             ],
             [
              0.5555555555555556,
              "#d8576b"
             ],
             [
              0.6666666666666666,
              "#ed7953"
             ],
             [
              0.7777777777777778,
              "#fb9f3a"
             ],
             [
              0.8888888888888888,
              "#fdca26"
             ],
             [
              1,
              "#f0f921"
             ]
            ],
            "type": "contour"
           }
          ],
          "contourcarpet": [
           {
            "colorbar": {
             "outlinewidth": 0,
             "ticks": ""
            },
            "type": "contourcarpet"
           }
          ],
          "heatmap": [
           {
            "colorbar": {
             "outlinewidth": 0,
             "ticks": ""
            },
            "colorscale": [
             [
              0,
              "#0d0887"
             ],
             [
              0.1111111111111111,
              "#46039f"
             ],
             [
              0.2222222222222222,
              "#7201a8"
             ],
             [
              0.3333333333333333,
              "#9c179e"
             ],
             [
              0.4444444444444444,
              "#bd3786"
             ],
             [
              0.5555555555555556,
              "#d8576b"
             ],
             [
              0.6666666666666666,
              "#ed7953"
             ],
             [
              0.7777777777777778,
              "#fb9f3a"
             ],
             [
              0.8888888888888888,
              "#fdca26"
             ],
             [
              1,
              "#f0f921"
             ]
            ],
            "type": "heatmap"
           }
          ],
          "heatmapgl": [
           {
            "colorbar": {
             "outlinewidth": 0,
             "ticks": ""
            },
            "colorscale": [
             [
              0,
              "#0d0887"
             ],
             [
              0.1111111111111111,
              "#46039f"
             ],
             [
              0.2222222222222222,
              "#7201a8"
             ],
             [
              0.3333333333333333,
              "#9c179e"
             ],
             [
              0.4444444444444444,
              "#bd3786"
             ],
             [
              0.5555555555555556,
              "#d8576b"
             ],
             [
              0.6666666666666666,
              "#ed7953"
             ],
             [
              0.7777777777777778,
              "#fb9f3a"
             ],
             [
              0.8888888888888888,
              "#fdca26"
             ],
             [
              1,
              "#f0f921"
             ]
            ],
            "type": "heatmapgl"
           }
          ],
          "histogram": [
           {
            "marker": {
             "pattern": {
              "fillmode": "overlay",
              "size": 10,
              "solidity": 0.2
             }
            },
            "type": "histogram"
           }
          ],
          "histogram2d": [
           {
            "colorbar": {
             "outlinewidth": 0,
             "ticks": ""
            },
            "colorscale": [
             [
              0,
              "#0d0887"
             ],
             [
              0.1111111111111111,
              "#46039f"
             ],
             [
              0.2222222222222222,
              "#7201a8"
             ],
             [
              0.3333333333333333,
              "#9c179e"
             ],
             [
              0.4444444444444444,
              "#bd3786"
             ],
             [
              0.5555555555555556,
              "#d8576b"
             ],
             [
              0.6666666666666666,
              "#ed7953"
             ],
             [
              0.7777777777777778,
              "#fb9f3a"
             ],
             [
              0.8888888888888888,
              "#fdca26"
             ],
             [
              1,
              "#f0f921"
             ]
            ],
            "type": "histogram2d"
           }
          ],
          "histogram2dcontour": [
           {
            "colorbar": {
             "outlinewidth": 0,
             "ticks": ""
            },
            "colorscale": [
             [
              0,
              "#0d0887"
             ],
             [
              0.1111111111111111,
              "#46039f"
             ],
             [
              0.2222222222222222,
              "#7201a8"
             ],
             [
              0.3333333333333333,
              "#9c179e"
             ],
             [
              0.4444444444444444,
              "#bd3786"
             ],
             [
              0.5555555555555556,
              "#d8576b"
             ],
             [
              0.6666666666666666,
              "#ed7953"
             ],
             [
              0.7777777777777778,
              "#fb9f3a"
             ],
             [
              0.8888888888888888,
              "#fdca26"
             ],
             [
              1,
              "#f0f921"
             ]
            ],
            "type": "histogram2dcontour"
           }
          ],
          "mesh3d": [
           {
            "colorbar": {
             "outlinewidth": 0,
             "ticks": ""
            },
            "type": "mesh3d"
           }
          ],
          "parcoords": [
           {
            "line": {
             "colorbar": {
              "outlinewidth": 0,
              "ticks": ""
             }
            },
            "type": "parcoords"
           }
          ],
          "pie": [
           {
            "automargin": true,
            "type": "pie"
           }
          ],
          "scatter": [
           {
            "fillpattern": {
             "fillmode": "overlay",
             "size": 10,
             "solidity": 0.2
            },
            "type": "scatter"
           }
          ],
          "scatter3d": [
           {
            "line": {
             "colorbar": {
              "outlinewidth": 0,
              "ticks": ""
             }
            },
            "marker": {
             "colorbar": {
              "outlinewidth": 0,
              "ticks": ""
             }
            },
            "type": "scatter3d"
           }
          ],
          "scattercarpet": [
           {
            "marker": {
             "colorbar": {
              "outlinewidth": 0,
              "ticks": ""
             }
            },
            "type": "scattercarpet"
           }
          ],
          "scattergeo": [
           {
            "marker": {
             "colorbar": {
              "outlinewidth": 0,
              "ticks": ""
             }
            },
            "type": "scattergeo"
           }
          ],
          "scattergl": [
           {
            "marker": {
             "colorbar": {
              "outlinewidth": 0,
              "ticks": ""
             }
            },
            "type": "scattergl"
           }
          ],
          "scattermapbox": [
           {
            "marker": {
             "colorbar": {
              "outlinewidth": 0,
              "ticks": ""
             }
            },
            "type": "scattermapbox"
           }
          ],
          "scatterpolar": [
           {
            "marker": {
             "colorbar": {
              "outlinewidth": 0,
              "ticks": ""
             }
            },
            "type": "scatterpolar"
           }
          ],
          "scatterpolargl": [
           {
            "marker": {
             "colorbar": {
              "outlinewidth": 0,
              "ticks": ""
             }
            },
            "type": "scatterpolargl"
           }
          ],
          "scatterternary": [
           {
            "marker": {
             "colorbar": {
              "outlinewidth": 0,
              "ticks": ""
             }
            },
            "type": "scatterternary"
           }
          ],
          "surface": [
           {
            "colorbar": {
             "outlinewidth": 0,
             "ticks": ""
            },
            "colorscale": [
             [
              0,
              "#0d0887"
             ],
             [
              0.1111111111111111,
              "#46039f"
             ],
             [
              0.2222222222222222,
              "#7201a8"
             ],
             [
              0.3333333333333333,
              "#9c179e"
             ],
             [
              0.4444444444444444,
              "#bd3786"
             ],
             [
              0.5555555555555556,
              "#d8576b"
             ],
             [
              0.6666666666666666,
              "#ed7953"
             ],
             [
              0.7777777777777778,
              "#fb9f3a"
             ],
             [
              0.8888888888888888,
              "#fdca26"
             ],
             [
              1,
              "#f0f921"
             ]
            ],
            "type": "surface"
           }
          ],
          "table": [
           {
            "cells": {
             "fill": {
              "color": "#EBF0F8"
             },
             "line": {
              "color": "white"
             }
            },
            "header": {
             "fill": {
              "color": "#C8D4E3"
             },
             "line": {
              "color": "white"
             }
            },
            "type": "table"
           }
          ]
         },
         "layout": {
          "annotationdefaults": {
           "arrowcolor": "#2a3f5f",
           "arrowhead": 0,
           "arrowwidth": 1
          },
          "autotypenumbers": "strict",
          "coloraxis": {
           "colorbar": {
            "outlinewidth": 0,
            "ticks": ""
           }
          },
          "colorscale": {
           "diverging": [
            [
             0,
             "#8e0152"
            ],
            [
             0.1,
             "#c51b7d"
            ],
            [
             0.2,
             "#de77ae"
            ],
            [
             0.3,
             "#f1b6da"
            ],
            [
             0.4,
             "#fde0ef"
            ],
            [
             0.5,
             "#f7f7f7"
            ],
            [
             0.6,
             "#e6f5d0"
            ],
            [
             0.7,
             "#b8e186"
            ],
            [
             0.8,
             "#7fbc41"
            ],
            [
             0.9,
             "#4d9221"
            ],
            [
             1,
             "#276419"
            ]
           ],
           "sequential": [
            [
             0,
             "#0d0887"
            ],
            [
             0.1111111111111111,
             "#46039f"
            ],
            [
             0.2222222222222222,
             "#7201a8"
            ],
            [
             0.3333333333333333,
             "#9c179e"
            ],
            [
             0.4444444444444444,
             "#bd3786"
            ],
            [
             0.5555555555555556,
             "#d8576b"
            ],
            [
             0.6666666666666666,
             "#ed7953"
            ],
            [
             0.7777777777777778,
             "#fb9f3a"
            ],
            [
             0.8888888888888888,
             "#fdca26"
            ],
            [
             1,
             "#f0f921"
            ]
           ],
           "sequentialminus": [
            [
             0,
             "#0d0887"
            ],
            [
             0.1111111111111111,
             "#46039f"
            ],
            [
             0.2222222222222222,
             "#7201a8"
            ],
            [
             0.3333333333333333,
             "#9c179e"
            ],
            [
             0.4444444444444444,
             "#bd3786"
            ],
            [
             0.5555555555555556,
             "#d8576b"
            ],
            [
             0.6666666666666666,
             "#ed7953"
            ],
            [
             0.7777777777777778,
             "#fb9f3a"
            ],
            [
             0.8888888888888888,
             "#fdca26"
            ],
            [
             1,
             "#f0f921"
            ]
           ]
          },
          "colorway": [
           "#636efa",
           "#EF553B",
           "#00cc96",
           "#ab63fa",
           "#FFA15A",
           "#19d3f3",
           "#FF6692",
           "#B6E880",
           "#FF97FF",
           "#FECB52"
          ],
          "font": {
           "color": "#2a3f5f"
          },
          "geo": {
           "bgcolor": "white",
           "lakecolor": "white",
           "landcolor": "#E5ECF6",
           "showlakes": true,
           "showland": true,
           "subunitcolor": "white"
          },
          "hoverlabel": {
           "align": "left"
          },
          "hovermode": "closest",
          "mapbox": {
           "style": "light"
          },
          "paper_bgcolor": "white",
          "plot_bgcolor": "#E5ECF6",
          "polar": {
           "angularaxis": {
            "gridcolor": "white",
            "linecolor": "white",
            "ticks": ""
           },
           "bgcolor": "#E5ECF6",
           "radialaxis": {
            "gridcolor": "white",
            "linecolor": "white",
            "ticks": ""
           }
          },
          "scene": {
           "xaxis": {
            "backgroundcolor": "#E5ECF6",
            "gridcolor": "white",
            "gridwidth": 2,
            "linecolor": "white",
            "showbackground": true,
            "ticks": "",
            "zerolinecolor": "white"
           },
           "yaxis": {
            "backgroundcolor": "#E5ECF6",
            "gridcolor": "white",
            "gridwidth": 2,
            "linecolor": "white",
            "showbackground": true,
            "ticks": "",
            "zerolinecolor": "white"
           },
           "zaxis": {
            "backgroundcolor": "#E5ECF6",
            "gridcolor": "white",
            "gridwidth": 2,
            "linecolor": "white",
            "showbackground": true,
            "ticks": "",
            "zerolinecolor": "white"
           }
          },
          "shapedefaults": {
           "line": {
            "color": "#2a3f5f"
           }
          },
          "ternary": {
           "aaxis": {
            "gridcolor": "white",
            "linecolor": "white",
            "ticks": ""
           },
           "baxis": {
            "gridcolor": "white",
            "linecolor": "white",
            "ticks": ""
           },
           "bgcolor": "#E5ECF6",
           "caxis": {
            "gridcolor": "white",
            "linecolor": "white",
            "ticks": ""
           }
          },
          "title": {
           "x": 0.05
          },
          "xaxis": {
           "automargin": true,
           "gridcolor": "white",
           "linecolor": "white",
           "ticks": "",
           "title": {
            "standoff": 15
           },
           "zerolinecolor": "white",
           "zerolinewidth": 2
          },
          "yaxis": {
           "automargin": true,
           "gridcolor": "white",
           "linecolor": "white",
           "ticks": "",
           "title": {
            "standoff": 15
           },
           "zerolinecolor": "white",
           "zerolinewidth": 2
          }
         }
        }
       }
      }
     },
     "metadata": {},
     "output_type": "display_data"
    }
   ],
   "source": [
    "import plotly.graph_objects as go\n",
    "import pandas as pd # Plotly often works seamlessly with Pandas DataFrames\n",
    "\n",
    "\n",
    "# --- 1. Prepare your data (using the activity_counts logic) ---\n",
    "\n",
    "\n",
    "# Convert to Pandas DataFrame for Plotly.graph_objects\n",
    "activity_counts_pd = activity_counts.to_pandas()\n",
    "\n",
    "# --- 2. Create the Plotly Figure ---\n",
    "# Using plotly.graph_objects for explicit control\n",
    "fig = go.Figure(data=[go.Bar(\n",
    "    x=activity_counts_pd[\"activity_hour\"],\n",
    "    y=activity_counts_pd[\"activity_count\"],\n",
    "    marker_color='skyblue' # Optional: set a color\n",
    ")])\n",
    "\n",
    "fig.show()"
   ]
  },
  {
   "cell_type": "code",
   "execution_count": 11,
   "id": "d53bcede",
   "metadata": {},
   "outputs": [
    {
     "data": {
      "application/vnd.plotly.v1+json": {
       "config": {
        "plotlyServerURL": "https://plot.ly"
       },
       "data": [
        {
         "marker": {
          "color": "skyblue"
         },
         "type": "bar",
         "x": [
          5,
          6,
          7,
          8,
          9,
          10,
          11,
          12,
          13,
          14,
          15,
          16,
          17,
          18,
          19,
          20,
          21,
          22,
          23
         ],
         "y": [
          2,
          9,
          11,
          15,
          9,
          9,
          11,
          6,
          9,
          6,
          10,
          20,
          40,
          67,
          80,
          56,
          45,
          13,
          2
         ]
        }
       ],
       "layout": {
        "template": {
         "data": {
          "bar": [
           {
            "error_x": {
             "color": "#2a3f5f"
            },
            "error_y": {
             "color": "#2a3f5f"
            },
            "marker": {
             "line": {
              "color": "#E5ECF6",
              "width": 0.5
             },
             "pattern": {
              "fillmode": "overlay",
              "size": 10,
              "solidity": 0.2
             }
            },
            "type": "bar"
           }
          ],
          "barpolar": [
           {
            "marker": {
             "line": {
              "color": "#E5ECF6",
              "width": 0.5
             },
             "pattern": {
              "fillmode": "overlay",
              "size": 10,
              "solidity": 0.2
             }
            },
            "type": "barpolar"
           }
          ],
          "carpet": [
           {
            "aaxis": {
             "endlinecolor": "#2a3f5f",
             "gridcolor": "white",
             "linecolor": "white",
             "minorgridcolor": "white",
             "startlinecolor": "#2a3f5f"
            },
            "baxis": {
             "endlinecolor": "#2a3f5f",
             "gridcolor": "white",
             "linecolor": "white",
             "minorgridcolor": "white",
             "startlinecolor": "#2a3f5f"
            },
            "type": "carpet"
           }
          ],
          "choropleth": [
           {
            "colorbar": {
             "outlinewidth": 0,
             "ticks": ""
            },
            "type": "choropleth"
           }
          ],
          "contour": [
           {
            "colorbar": {
             "outlinewidth": 0,
             "ticks": ""
            },
            "colorscale": [
             [
              0,
              "#0d0887"
             ],
             [
              0.1111111111111111,
              "#46039f"
             ],
             [
              0.2222222222222222,
              "#7201a8"
             ],
             [
              0.3333333333333333,
              "#9c179e"
             ],
             [
              0.4444444444444444,
              "#bd3786"
             ],
             [
              0.5555555555555556,
              "#d8576b"
             ],
             [
              0.6666666666666666,
              "#ed7953"
             ],
             [
              0.7777777777777778,
              "#fb9f3a"
             ],
             [
              0.8888888888888888,
              "#fdca26"
             ],
             [
              1,
              "#f0f921"
             ]
            ],
            "type": "contour"
           }
          ],
          "contourcarpet": [
           {
            "colorbar": {
             "outlinewidth": 0,
             "ticks": ""
            },
            "type": "contourcarpet"
           }
          ],
          "heatmap": [
           {
            "colorbar": {
             "outlinewidth": 0,
             "ticks": ""
            },
            "colorscale": [
             [
              0,
              "#0d0887"
             ],
             [
              0.1111111111111111,
              "#46039f"
             ],
             [
              0.2222222222222222,
              "#7201a8"
             ],
             [
              0.3333333333333333,
              "#9c179e"
             ],
             [
              0.4444444444444444,
              "#bd3786"
             ],
             [
              0.5555555555555556,
              "#d8576b"
             ],
             [
              0.6666666666666666,
              "#ed7953"
             ],
             [
              0.7777777777777778,
              "#fb9f3a"
             ],
             [
              0.8888888888888888,
              "#fdca26"
             ],
             [
              1,
              "#f0f921"
             ]
            ],
            "type": "heatmap"
           }
          ],
          "heatmapgl": [
           {
            "colorbar": {
             "outlinewidth": 0,
             "ticks": ""
            },
            "colorscale": [
             [
              0,
              "#0d0887"
             ],
             [
              0.1111111111111111,
              "#46039f"
             ],
             [
              0.2222222222222222,
              "#7201a8"
             ],
             [
              0.3333333333333333,
              "#9c179e"
             ],
             [
              0.4444444444444444,
              "#bd3786"
             ],
             [
              0.5555555555555556,
              "#d8576b"
             ],
             [
              0.6666666666666666,
              "#ed7953"
             ],
             [
              0.7777777777777778,
              "#fb9f3a"
             ],
             [
              0.8888888888888888,
              "#fdca26"
             ],
             [
              1,
              "#f0f921"
             ]
            ],
            "type": "heatmapgl"
           }
          ],
          "histogram": [
           {
            "marker": {
             "pattern": {
              "fillmode": "overlay",
              "size": 10,
              "solidity": 0.2
             }
            },
            "type": "histogram"
           }
          ],
          "histogram2d": [
           {
            "colorbar": {
             "outlinewidth": 0,
             "ticks": ""
            },
            "colorscale": [
             [
              0,
              "#0d0887"
             ],
             [
              0.1111111111111111,
              "#46039f"
             ],
             [
              0.2222222222222222,
              "#7201a8"
             ],
             [
              0.3333333333333333,
              "#9c179e"
             ],
             [
              0.4444444444444444,
              "#bd3786"
             ],
             [
              0.5555555555555556,
              "#d8576b"
             ],
             [
              0.6666666666666666,
              "#ed7953"
             ],
             [
              0.7777777777777778,
              "#fb9f3a"
             ],
             [
              0.8888888888888888,
              "#fdca26"
             ],
             [
              1,
              "#f0f921"
             ]
            ],
            "type": "histogram2d"
           }
          ],
          "histogram2dcontour": [
           {
            "colorbar": {
             "outlinewidth": 0,
             "ticks": ""
            },
            "colorscale": [
             [
              0,
              "#0d0887"
             ],
             [
              0.1111111111111111,
              "#46039f"
             ],
             [
              0.2222222222222222,
              "#7201a8"
             ],
             [
              0.3333333333333333,
              "#9c179e"
             ],
             [
              0.4444444444444444,
              "#bd3786"
             ],
             [
              0.5555555555555556,
              "#d8576b"
             ],
             [
              0.6666666666666666,
              "#ed7953"
             ],
             [
              0.7777777777777778,
              "#fb9f3a"
             ],
             [
              0.8888888888888888,
              "#fdca26"
             ],
             [
              1,
              "#f0f921"
             ]
            ],
            "type": "histogram2dcontour"
           }
          ],
          "mesh3d": [
           {
            "colorbar": {
             "outlinewidth": 0,
             "ticks": ""
            },
            "type": "mesh3d"
           }
          ],
          "parcoords": [
           {
            "line": {
             "colorbar": {
              "outlinewidth": 0,
              "ticks": ""
             }
            },
            "type": "parcoords"
           }
          ],
          "pie": [
           {
            "automargin": true,
            "type": "pie"
           }
          ],
          "scatter": [
           {
            "fillpattern": {
             "fillmode": "overlay",
             "size": 10,
             "solidity": 0.2
            },
            "type": "scatter"
           }
          ],
          "scatter3d": [
           {
            "line": {
             "colorbar": {
              "outlinewidth": 0,
              "ticks": ""
             }
            },
            "marker": {
             "colorbar": {
              "outlinewidth": 0,
              "ticks": ""
             }
            },
            "type": "scatter3d"
           }
          ],
          "scattercarpet": [
           {
            "marker": {
             "colorbar": {
              "outlinewidth": 0,
              "ticks": ""
             }
            },
            "type": "scattercarpet"
           }
          ],
          "scattergeo": [
           {
            "marker": {
             "colorbar": {
              "outlinewidth": 0,
              "ticks": ""
             }
            },
            "type": "scattergeo"
           }
          ],
          "scattergl": [
           {
            "marker": {
             "colorbar": {
              "outlinewidth": 0,
              "ticks": ""
             }
            },
            "type": "scattergl"
           }
          ],
          "scattermapbox": [
           {
            "marker": {
             "colorbar": {
              "outlinewidth": 0,
              "ticks": ""
             }
            },
            "type": "scattermapbox"
           }
          ],
          "scatterpolar": [
           {
            "marker": {
             "colorbar": {
              "outlinewidth": 0,
              "ticks": ""
             }
            },
            "type": "scatterpolar"
           }
          ],
          "scatterpolargl": [
           {
            "marker": {
             "colorbar": {
              "outlinewidth": 0,
              "ticks": ""
             }
            },
            "type": "scatterpolargl"
           }
          ],
          "scatterternary": [
           {
            "marker": {
             "colorbar": {
              "outlinewidth": 0,
              "ticks": ""
             }
            },
            "type": "scatterternary"
           }
          ],
          "surface": [
           {
            "colorbar": {
             "outlinewidth": 0,
             "ticks": ""
            },
            "colorscale": [
             [
              0,
              "#0d0887"
             ],
             [
              0.1111111111111111,
              "#46039f"
             ],
             [
              0.2222222222222222,
              "#7201a8"
             ],
             [
              0.3333333333333333,
              "#9c179e"
             ],
             [
              0.4444444444444444,
              "#bd3786"
             ],
             [
              0.5555555555555556,
              "#d8576b"
             ],
             [
              0.6666666666666666,
              "#ed7953"
             ],
             [
              0.7777777777777778,
              "#fb9f3a"
             ],
             [
              0.8888888888888888,
              "#fdca26"
             ],
             [
              1,
              "#f0f921"
             ]
            ],
            "type": "surface"
           }
          ],
          "table": [
           {
            "cells": {
             "fill": {
              "color": "#EBF0F8"
             },
             "line": {
              "color": "white"
             }
            },
            "header": {
             "fill": {
              "color": "#C8D4E3"
             },
             "line": {
              "color": "white"
             }
            },
            "type": "table"
           }
          ]
         },
         "layout": {
          "annotationdefaults": {
           "arrowcolor": "#2a3f5f",
           "arrowhead": 0,
           "arrowwidth": 1
          },
          "autotypenumbers": "strict",
          "coloraxis": {
           "colorbar": {
            "outlinewidth": 0,
            "ticks": ""
           }
          },
          "colorscale": {
           "diverging": [
            [
             0,
             "#8e0152"
            ],
            [
             0.1,
             "#c51b7d"
            ],
            [
             0.2,
             "#de77ae"
            ],
            [
             0.3,
             "#f1b6da"
            ],
            [
             0.4,
             "#fde0ef"
            ],
            [
             0.5,
             "#f7f7f7"
            ],
            [
             0.6,
             "#e6f5d0"
            ],
            [
             0.7,
             "#b8e186"
            ],
            [
             0.8,
             "#7fbc41"
            ],
            [
             0.9,
             "#4d9221"
            ],
            [
             1,
             "#276419"
            ]
           ],
           "sequential": [
            [
             0,
             "#0d0887"
            ],
            [
             0.1111111111111111,
             "#46039f"
            ],
            [
             0.2222222222222222,
             "#7201a8"
            ],
            [
             0.3333333333333333,
             "#9c179e"
            ],
            [
             0.4444444444444444,
             "#bd3786"
            ],
            [
             0.5555555555555556,
             "#d8576b"
            ],
            [
             0.6666666666666666,
             "#ed7953"
            ],
            [
             0.7777777777777778,
             "#fb9f3a"
            ],
            [
             0.8888888888888888,
             "#fdca26"
            ],
            [
             1,
             "#f0f921"
            ]
           ],
           "sequentialminus": [
            [
             0,
             "#0d0887"
            ],
            [
             0.1111111111111111,
             "#46039f"
            ],
            [
             0.2222222222222222,
             "#7201a8"
            ],
            [
             0.3333333333333333,
             "#9c179e"
            ],
            [
             0.4444444444444444,
             "#bd3786"
            ],
            [
             0.5555555555555556,
             "#d8576b"
            ],
            [
             0.6666666666666666,
             "#ed7953"
            ],
            [
             0.7777777777777778,
             "#fb9f3a"
            ],
            [
             0.8888888888888888,
             "#fdca26"
            ],
            [
             1,
             "#f0f921"
            ]
           ]
          },
          "colorway": [
           "#636efa",
           "#EF553B",
           "#00cc96",
           "#ab63fa",
           "#FFA15A",
           "#19d3f3",
           "#FF6692",
           "#B6E880",
           "#FF97FF",
           "#FECB52"
          ],
          "font": {
           "color": "#2a3f5f"
          },
          "geo": {
           "bgcolor": "white",
           "lakecolor": "white",
           "landcolor": "#E5ECF6",
           "showlakes": true,
           "showland": true,
           "subunitcolor": "white"
          },
          "hoverlabel": {
           "align": "left"
          },
          "hovermode": "closest",
          "mapbox": {
           "style": "light"
          },
          "paper_bgcolor": "white",
          "plot_bgcolor": "#E5ECF6",
          "polar": {
           "angularaxis": {
            "gridcolor": "white",
            "linecolor": "white",
            "ticks": ""
           },
           "bgcolor": "#E5ECF6",
           "radialaxis": {
            "gridcolor": "white",
            "linecolor": "white",
            "ticks": ""
           }
          },
          "scene": {
           "xaxis": {
            "backgroundcolor": "#E5ECF6",
            "gridcolor": "white",
            "gridwidth": 2,
            "linecolor": "white",
            "showbackground": true,
            "ticks": "",
            "zerolinecolor": "white"
           },
           "yaxis": {
            "backgroundcolor": "#E5ECF6",
            "gridcolor": "white",
            "gridwidth": 2,
            "linecolor": "white",
            "showbackground": true,
            "ticks": "",
            "zerolinecolor": "white"
           },
           "zaxis": {
            "backgroundcolor": "#E5ECF6",
            "gridcolor": "white",
            "gridwidth": 2,
            "linecolor": "white",
            "showbackground": true,
            "ticks": "",
            "zerolinecolor": "white"
           }
          },
          "shapedefaults": {
           "line": {
            "color": "#2a3f5f"
           }
          },
          "ternary": {
           "aaxis": {
            "gridcolor": "white",
            "linecolor": "white",
            "ticks": ""
           },
           "baxis": {
            "gridcolor": "white",
            "linecolor": "white",
            "ticks": ""
           },
           "bgcolor": "#E5ECF6",
           "caxis": {
            "gridcolor": "white",
            "linecolor": "white",
            "ticks": ""
           }
          },
          "title": {
           "x": 0.05
          },
          "xaxis": {
           "automargin": true,
           "gridcolor": "white",
           "linecolor": "white",
           "ticks": "",
           "title": {
            "standoff": 15
           },
           "zerolinecolor": "white",
           "zerolinewidth": 2
          },
          "yaxis": {
           "automargin": true,
           "gridcolor": "white",
           "linecolor": "white",
           "ticks": "",
           "title": {
            "standoff": 15
           },
           "zerolinecolor": "white",
           "zerolinewidth": 2
          }
         }
        },
        "title": {
         "text": "Activity Distribution by Hour of Day"
        },
        "xaxis": {
         "tickmode": "array",
         "ticktext": [
          "00:00",
          "01:00",
          "02:00",
          "03:00",
          "04:00",
          "05:00",
          "06:00",
          "07:00",
          "08:00",
          "09:00",
          "10:00",
          "11:00",
          "12:00",
          "13:00",
          "14:00",
          "15:00",
          "16:00",
          "17:00",
          "18:00",
          "19:00",
          "20:00",
          "21:00",
          "22:00",
          "23:00"
         ],
         "tickvals": [
          0,
          1,
          2,
          3,
          4,
          5,
          6,
          7,
          8,
          9,
          10,
          11,
          12,
          13,
          14,
          15,
          16,
          17,
          18,
          19,
          20,
          21,
          22,
          23
         ],
         "title": {
          "text": "Hour of Day"
         }
        },
        "yaxis": {
         "title": {
          "text": "Number of Activities"
         }
        }
       }
      }
     },
     "metadata": {},
     "output_type": "display_data"
    }
   ],
   "source": [
    "import dash\n",
    "from dash import html, dcc\n",
    "import plotly.graph_objects as go\n",
    "import pandas as pd # Plotly often works seamlessly with Pandas DataFrames\n",
    "\n",
    "\n",
    "# --- 1. Prepare your data (using the activity_counts logic) ---\n",
    "\n",
    "\n",
    "# Convert to Pandas DataFrame for Plotly.graph_objects\n",
    "activity_counts_pd = activity_counts.to_pandas()\n",
    "\n",
    "# --- 2. Create the Plotly Figure ---\n",
    "# Using plotly.graph_objects for explicit control\n",
    "fig = go.Figure(data=[go.Bar(\n",
    "    x=activity_counts_pd[\"activity_hour\"],\n",
    "    y=activity_counts_pd[\"activity_count\"],\n",
    "    marker_color='skyblue' # Optional: set a color\n",
    ")])\n",
    "\n",
    "fig.update_layout(\n",
    "    title_text=\"Activity Distribution by Hour of Day\",\n",
    "    xaxis_title=\"Hour of Day\",\n",
    "    yaxis_title=\"Number of Activities\",\n",
    "    xaxis_tickmode='array', # Ensure all hours are shown\n",
    "    xaxis_tickvals=list(range(0, 24)),\n",
    "    xaxis_ticktext=[f\"{h:02d}:00\" for h in range(0, 24)], # Format ticks nicely\n",
    "    # Removed template argument to rely on Plotly's default\n",
    ")\n",
    "\n"
   ]
  },
  {
   "cell_type": "code",
   "execution_count": 12,
   "id": "f90e5f89",
   "metadata": {},
   "outputs": [
    {
     "data": {
      "text/html": [
       "<div><style>\n",
       ".dataframe > thead > tr,\n",
       ".dataframe > tbody > tr {\n",
       "  text-align: right;\n",
       "  white-space: pre-wrap;\n",
       "}\n",
       "</style>\n",
       "<small>shape: (86, 14)</small><table border=\"1\" class=\"dataframe\"><thead><tr><th>total_elevation_gain</th><th>sport_type</th><th>start_date_local</th><th>gear_id</th><th>start_latlng</th><th>end_latlng</th><th>pr_count</th><th>activity_id</th><th>activity_name</th><th>distance_km</th><th>moving_time_hr</th><th>average_speed_km_per_hr</th><th>max_speed_km_per_hr</th><th>activity_hour</th></tr><tr><td>f64</td><td>cat</td><td>datetime[μs]</td><td>cat</td><td>list[f64]</td><td>list[f64]</td><td>i64</td><td>i64</td><td>cat</td><td>f64</td><td>f64</td><td>f64</td><td>f64</td><td>i8</td></tr></thead><tbody><tr><td>22.9</td><td>&quot;Ride&quot;</td><td>2025-05-16 15:01:52</td><td>&quot;b9747906&quot;</td><td>[43.188027, -79.24132]</td><td>[43.185231, -79.239928]</td><td>3</td><td>14501529917</td><td>&quot;Friday early ride!🏞️&quot;</td><td>10.27</td><td>0.65</td><td>15.89</td><td>36.86</td><td>15</td></tr><tr><td>11.6</td><td>&quot;Ride&quot;</td><td>2025-05-12 20:05:20</td><td>&quot;b15965201&quot;</td><td>[43.185688, -79.238113]</td><td>[43.185237, -79.239943]</td><td>4</td><td>14461863801</td><td>&quot;Quick 10!&quot;</td><td>10.21</td><td>0.58</td><td>17.74</td><td>36.43</td><td>20</td></tr><tr><td>51.1</td><td>&quot;Ride&quot;</td><td>2025-05-08 06:56:40</td><td>&quot;b15965201&quot;</td><td>[43.186056, -79.237056]</td><td>[43.185262, -79.239991]</td><td>1</td><td>14415009088</td><td>&quot;20K along the canal 🏞️&quot;</td><td>20.55</td><td>1.25</td><td>16.4</td><td>35.86</td><td>6</td></tr><tr><td>50.7</td><td>&quot;Ride&quot;</td><td>2025-05-05 06:38:13</td><td>&quot;b15965201&quot;</td><td>[43.185237, -79.240003]</td><td>[43.185216, -79.239966]</td><td>3</td><td>14384045503</td><td>&quot;Morning Ride&quot;</td><td>15.95</td><td>1.19</td><td>13.4</td><td>32.47</td><td>6</td></tr><tr><td>22.8</td><td>&quot;Ride&quot;</td><td>2025-05-01 05:58:17</td><td>&quot;b15965201&quot;</td><td>[43.185268, -79.239972]</td><td>[43.185299, -79.239944]</td><td>1</td><td>14342156475</td><td>&quot;Port Dalhousie sunrise&quot;</td><td>9.52</td><td>0.71</td><td>13.34</td><td>33.05</td><td>5</td></tr><tr><td>&hellip;</td><td>&hellip;</td><td>&hellip;</td><td>&hellip;</td><td>&hellip;</td><td>&hellip;</td><td>&hellip;</td><td>&hellip;</td><td>&hellip;</td><td>&hellip;</td><td>&hellip;</td><td>&hellip;</td><td>&hellip;</td><td>&hellip;</td></tr><tr><td>0.0</td><td>&quot;Ride&quot;</td><td>2018-01-22 08:23:43</td><td>null</td><td>[47.676095, -122.125355]</td><td>[47.675937, -122.125343]</td><td>0</td><td>1369817866</td><td>&quot;It&#x27;s cold&quot;</td><td>0.53</td><td>0.05</td><td>10.9</td><td>22.68</td><td>8</td></tr><tr><td>10.3</td><td>&quot;Ride&quot;</td><td>2015-10-18 17:29:41</td><td>null</td><td>[28.069222, -82.410976]</td><td>[28.069146, -82.376819]</td><td>0</td><td>425416333</td><td>&quot;Afternoon Ride&quot;</td><td>3.36</td><td>0.25</td><td>13.6</td><td>24.12</td><td>17</td></tr><tr><td>0.0</td><td>&quot;Ride&quot;</td><td>2015-08-20 18:01:43</td><td>null</td><td>[28.055122, -82.413474]</td><td>[28.054901, -82.449535]</td><td>0</td><td>376712576</td><td>&quot;Evening Ride&quot;</td><td>4.02</td><td>0.43</td><td>9.33</td><td>34.92</td><td>18</td></tr><tr><td>11.1</td><td>&quot;Ride&quot;</td><td>2015-08-15 19:05:53</td><td>null</td><td>[28.068955, -82.405798]</td><td>[28.056996, -82.415831]</td><td>0</td><td>369872656</td><td>&quot;Evening Ride&quot;</td><td>3.47</td><td>0.33</td><td>10.59</td><td>23.4</td><td>19</td></tr><tr><td>0.0</td><td>&quot;Ride&quot;</td><td>2015-08-03 22:49:31</td><td>null</td><td>[28.080822, -82.411176]</td><td>[28.080638, -82.41106]</td><td>0</td><td>360758368</td><td>&quot;Night Ride&quot;</td><td>9.52</td><td>0.75</td><td>12.71</td><td>34.56</td><td>22</td></tr></tbody></table></div>"
      ],
      "text/plain": [
       "shape: (86, 14)\n",
       "┌───────────┬───────────┬───────────┬───────────┬───┬───────────┬───────────┬───────────┬──────────┐\n",
       "│ total_ele ┆ sport_typ ┆ start_dat ┆ gear_id   ┆ … ┆ moving_ti ┆ average_s ┆ max_speed ┆ activity │\n",
       "│ vation_ga ┆ e         ┆ e_local   ┆ ---       ┆   ┆ me_hr     ┆ peed_km_p ┆ _km_per_h ┆ _hour    │\n",
       "│ in        ┆ ---       ┆ ---       ┆ cat       ┆   ┆ ---       ┆ er_hr     ┆ r         ┆ ---      │\n",
       "│ ---       ┆ cat       ┆ datetime[ ┆           ┆   ┆ f64       ┆ ---       ┆ ---       ┆ i8       │\n",
       "│ f64       ┆           ┆ μs]       ┆           ┆   ┆           ┆ f64       ┆ f64       ┆          │\n",
       "╞═══════════╪═══════════╪═══════════╪═══════════╪═══╪═══════════╪═══════════╪═══════════╪══════════╡\n",
       "│ 22.9      ┆ Ride      ┆ 2025-05-1 ┆ b9747906  ┆ … ┆ 0.65      ┆ 15.89     ┆ 36.86     ┆ 15       │\n",
       "│           ┆           ┆ 6         ┆           ┆   ┆           ┆           ┆           ┆          │\n",
       "│           ┆           ┆ 15:01:52  ┆           ┆   ┆           ┆           ┆           ┆          │\n",
       "│ 11.6      ┆ Ride      ┆ 2025-05-1 ┆ b15965201 ┆ … ┆ 0.58      ┆ 17.74     ┆ 36.43     ┆ 20       │\n",
       "│           ┆           ┆ 2         ┆           ┆   ┆           ┆           ┆           ┆          │\n",
       "│           ┆           ┆ 20:05:20  ┆           ┆   ┆           ┆           ┆           ┆          │\n",
       "│ 51.1      ┆ Ride      ┆ 2025-05-0 ┆ b15965201 ┆ … ┆ 1.25      ┆ 16.4      ┆ 35.86     ┆ 6        │\n",
       "│           ┆           ┆ 8         ┆           ┆   ┆           ┆           ┆           ┆          │\n",
       "│           ┆           ┆ 06:56:40  ┆           ┆   ┆           ┆           ┆           ┆          │\n",
       "│ 50.7      ┆ Ride      ┆ 2025-05-0 ┆ b15965201 ┆ … ┆ 1.19      ┆ 13.4      ┆ 32.47     ┆ 6        │\n",
       "│           ┆           ┆ 5         ┆           ┆   ┆           ┆           ┆           ┆          │\n",
       "│           ┆           ┆ 06:38:13  ┆           ┆   ┆           ┆           ┆           ┆          │\n",
       "│ 22.8      ┆ Ride      ┆ 2025-05-0 ┆ b15965201 ┆ … ┆ 0.71      ┆ 13.34     ┆ 33.05     ┆ 5        │\n",
       "│           ┆           ┆ 1         ┆           ┆   ┆           ┆           ┆           ┆          │\n",
       "│           ┆           ┆ 05:58:17  ┆           ┆   ┆           ┆           ┆           ┆          │\n",
       "│ …         ┆ …         ┆ …         ┆ …         ┆ … ┆ …         ┆ …         ┆ …         ┆ …        │\n",
       "│ 0.0       ┆ Ride      ┆ 2018-01-2 ┆ null      ┆ … ┆ 0.05      ┆ 10.9      ┆ 22.68     ┆ 8        │\n",
       "│           ┆           ┆ 2         ┆           ┆   ┆           ┆           ┆           ┆          │\n",
       "│           ┆           ┆ 08:23:43  ┆           ┆   ┆           ┆           ┆           ┆          │\n",
       "│ 10.3      ┆ Ride      ┆ 2015-10-1 ┆ null      ┆ … ┆ 0.25      ┆ 13.6      ┆ 24.12     ┆ 17       │\n",
       "│           ┆           ┆ 8         ┆           ┆   ┆           ┆           ┆           ┆          │\n",
       "│           ┆           ┆ 17:29:41  ┆           ┆   ┆           ┆           ┆           ┆          │\n",
       "│ 0.0       ┆ Ride      ┆ 2015-08-2 ┆ null      ┆ … ┆ 0.43      ┆ 9.33      ┆ 34.92     ┆ 18       │\n",
       "│           ┆           ┆ 0         ┆           ┆   ┆           ┆           ┆           ┆          │\n",
       "│           ┆           ┆ 18:01:43  ┆           ┆   ┆           ┆           ┆           ┆          │\n",
       "│ 11.1      ┆ Ride      ┆ 2015-08-1 ┆ null      ┆ … ┆ 0.33      ┆ 10.59     ┆ 23.4      ┆ 19       │\n",
       "│           ┆           ┆ 5         ┆           ┆   ┆           ┆           ┆           ┆          │\n",
       "│           ┆           ┆ 19:05:53  ┆           ┆   ┆           ┆           ┆           ┆          │\n",
       "│ 0.0       ┆ Ride      ┆ 2015-08-0 ┆ null      ┆ … ┆ 0.75      ┆ 12.71     ┆ 34.56     ┆ 22       │\n",
       "│           ┆           ┆ 3         ┆           ┆   ┆           ┆           ┆           ┆          │\n",
       "│           ┆           ┆ 22:49:31  ┆           ┆   ┆           ┆           ┆           ┆          │\n",
       "└───────────┴───────────┴───────────┴───────────┴───┴───────────┴───────────┴───────────┴──────────┘"
      ]
     },
     "execution_count": 12,
     "metadata": {},
     "output_type": "execute_result"
    }
   ],
   "source": [
    "# Filter bike rides only\n",
    "activities_curated.filter(pl.col('sport_type') == 'Ride')"
   ]
  },
  {
   "cell_type": "code",
   "execution_count": 13,
   "id": "df4cac54",
   "metadata": {},
   "outputs": [],
   "source": [
    "# Which part of the day am I active the most?"
   ]
  },
  {
   "cell_type": "code",
   "execution_count": 14,
   "id": "ac0a6ad8",
   "metadata": {},
   "outputs": [],
   "source": [
    "# Which gear made me more active in the first 3 months of having it?"
   ]
  },
  {
   "cell_type": "code",
   "execution_count": 15,
   "id": "a9dbd1a0",
   "metadata": {},
   "outputs": [],
   "source": [
    "# Does weather correlate with my activities?"
   ]
  }
 ],
 "metadata": {
  "kernelspec": {
   "display_name": "strava_env",
   "language": "python",
   "name": "python3"
  },
  "language_info": {
   "codemirror_mode": {
    "name": "ipython",
    "version": 3
   },
   "file_extension": ".py",
   "mimetype": "text/x-python",
   "name": "python",
   "nbconvert_exporter": "python",
   "pygments_lexer": "ipython3",
   "version": "3.12.10"
  }
 },
 "nbformat": 4,
 "nbformat_minor": 5
}
